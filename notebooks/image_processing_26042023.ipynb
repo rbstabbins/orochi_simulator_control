{
 "cells": [
  {
   "attachments": {},
   "cell_type": "markdown",
   "metadata": {},
   "source": [
    "A notebook for processing images acquired with the OROCHI simulator to reflectance, with coalignment by stereo geometric calibration."
   ]
  },
  {
   "attachments": {},
   "cell_type": "markdown",
   "metadata": {},
   "source": [
    "Processing of Experiments performed on 26/04/2023\n",
    "\n",
    "- Reflectance Calibration\n",
    "- Sample 1\n",
    "- Sample 2\n",
    "- Sample 3\n",
    "- Sample 4 (failed)\n",
    "- Geometric Calibration"
   ]
  },
  {
   "cell_type": "code",
   "execution_count": null,
   "metadata": {},
   "outputs": [],
   "source": [
    "%reload_ext autoreload\n",
    "%autoreload 2\n",
    "%matplotlib inline"
   ]
  },
  {
   "attachments": {},
   "cell_type": "markdown",
   "metadata": {},
   "source": [
    "# Overview\n",
    "\n",
    "The steps of processing are:\n",
    "1. Calibration Preparation:\n",
    "    - Load, average and bias correct Calibration Target images\n",
    "    - Correct for exposure\n",
    "    - Load reference reflectance for each channel\n",
    "    - Scale images to give reflectance calibration coefficient for each pixel\n",
    "    - Optional: mask for Calibration Target\n",
    "    - Save reflectance calibration images\n",
    "2. Sample Reflectance Calibration\n",
    "    - Load, average and bias correct Sample images\n",
    "    - Correct for exposure\n",
    "    - Apply calibration coefficient frames\n",
    "    - Optional: mask for Calibration Target area and Sample area.\n",
    "    - Save reflectance images\n",
    "3. Geometric Alignment\n",
    "    - Load, average and bias correct Geometric images\n",
    "    - Balance images (TBD)\n",
    "    - Extract camera geometric calibration coefficients (TBD)\n",
    "    - Apply image coregistration (TBD)"
   ]
  },
  {
   "attachments": {},
   "cell_type": "markdown",
   "metadata": {},
   "source": [
    "# Setup"
   ]
  },
  {
   "cell_type": "code",
   "execution_count": null,
   "metadata": {},
   "outputs": [],
   "source": [
    "import orochi_sim_proc as osp\n",
    "from pathlib import Path"
   ]
  },
  {
   "attachments": {},
   "cell_type": "markdown",
   "metadata": {},
   "source": [
    "# Calibration Preparation\n",
    "For each channel:\n",
    "- Load, average and bias correct Calibration Target images\n",
    "- Correct for exposure\n",
    "- Load reference reflectance for each channel\n",
    "- Scale images to give reflectance calibration coefficient for each pixel\n",
    "- Optional: mask for Calibration Target\n",
    "- Save reflectance calibration images"
   ]
  },
  {
   "cell_type": "code",
   "execution_count": null,
   "metadata": {},
   "outputs": [],
   "source": [
    "target = 'reflectance_calibration'\n",
    "channels = sorted(list(Path('..', 'data', target).glob('[!.]*')))\n",
    "cali_coeffs = {} # store the calibration objects in a dictionary\n",
    "for channel_path in channels:\n",
    "    channel = channel_path.name\n",
    "    print(channel)\n",
    "    # load the calibration target images\n",
    "    cali = osp.LightImage(target, channel)\n",
    "    cali.image_load()\n",
    "    # check the mean level\n",
    "\n",
    "    # load the calibration target dark frames\n",
    "    dark_cali = osp.DarkImage(target, channel)\n",
    "    dark_cali.image_load()\n",
    "    # check the mean level\n",
    "    \n",
    "    # subtract the dark frame\n",
    "    cali.dark_subtract(dark_cali)\n",
    "    # apply exposure correction\n",
    "    cali.correct_exposure()\n",
    "    # compute calibration coefficient image\n",
    "    cali_coeff = osp.CalibrationImage(cali)\n",
    "    cali_coeff.compute_reflectance_coefficients()\n",
    "    cali_coeff.image_display(roi=True)\n",
    "    cali_coeffs[channel] = cali_coeff"
   ]
  },
  {
   "attachments": {},
   "cell_type": "markdown",
   "metadata": {},
   "source": [
    "# Sample Reflectance Calibration\n",
    "- Load, average and bias correct Sample images\n",
    "- Correct for exposure\n",
    "- Apply calibration coefficient frames\n",
    "- Optional: mask for Calibration Target area and Sample area.\n",
    "- Save reflectance images"
   ]
  },
  {
   "cell_type": "code",
   "execution_count": null,
   "metadata": {},
   "outputs": [],
   "source": [
    "target = 'sample_1'\n",
    "channels = sorted(list(Path('..', 'data',target).glob('[!.]*')))\n",
    "reflectance = {}\n",
    "for channel_path in channels:\n",
    "    channel = channel_path.name\n",
    "    # load the sample images\n",
    "    smpl = osp.LightImage(target, channel)\n",
    "    smpl.image_load()\n",
    "    # load the sample dark frames\n",
    "    dark_smpl = osp.DarkImage(target, channel)\n",
    "    dark_smpl.image_load()\n",
    "    # subtract the dark frame\n",
    "    smpl.dark_subtract(dark_smpl)\n",
    "    # apply exposure correction\n",
    "    smpl.correct_exposure()\n",
    "    smpl.image_display(roi=True)\n",
    "    # apply calibration coefficients\n",
    "    cali_coeff = cali_coeffs[channel]\n",
    "    refl = osp.ReflectanceImage(smpl)\n",
    "    refl.calibrate_reflectance(cali_coeff)\n",
    "    refl.image_display(roi=True)\n",
    "    # save the reflectance image\n",
    "    refl.save_tiff()\n",
    "    reflectance[channel] = refl\n",
    "    "
   ]
  },
  {
   "attachments": {},
   "cell_type": "markdown",
   "metadata": {},
   "source": [
    "# Homography Calibration\n",
    "\n",
    "Here we attempt to co-align images by finding the homography matrix between images of the calibration target cap writing.\n",
    "\n",
    "- Load, average and bias correct geometric images\n",
    "- choose destination/base image\n",
    "- for each channel, find homography matrix mapping from channel/source to base\n",
    "- apply image transformation for each channel."
   ]
  },
  {
   "attachments": {},
   "cell_type": "markdown",
   "metadata": {},
   "source": [
    "Load the images"
   ]
  },
  {
   "cell_type": "code",
   "execution_count": null,
   "metadata": {},
   "outputs": [],
   "source": [
    "target = 'geometric_calibration'\n",
    "channels = sorted(list(Path('..', 'data',target).glob('[!_]*')))\n",
    "geocs = {}\n",
    "for channel_path in channels:\n",
    "    channel = channel_path.name\n",
    "    # load the geometric calibration images\n",
    "    geoc = osp.LightImage(target, channel)\n",
    "    geoc.image_load()\n",
    "    # load the geometric calibration dark frames\n",
    "    dark_geoc = osp.DarkImage(target, channel)\n",
    "    dark_geoc.image_load()\n",
    "    # subtract the dark frame\n",
    "    geoc.dark_subtract(dark_geoc)\n",
    "    geoc.image_display()\n",
    "    geocs[channel] = geoc"
   ]
  },
  {
   "attachments": {},
   "cell_type": "markdown",
   "metadata": {},
   "source": [
    "Learn transform"
   ]
  },
  {
   "cell_type": "code",
   "execution_count": null,
   "metadata": {},
   "outputs": [],
   "source": [
    "channels = list(geocs.keys())\n",
    "destination = channels[0]\n",
    "cali_dest = geocs[destination]\n",
    "sample_dest = reflectance[destination]\n",
    "for channel in channels:\n",
    "    cali_src = geocs[channel]    \n",
    "    learning_img = osp.CoAlignedImage(cali_src, cali_dest, roi=True)\n",
    "    learning_img.find_homography(method='ORB')\n",
    "    # # check the alignment\n",
    "    # learning_img.align_images()\n",
    "    # learning_img.image_display()\n",
    "\n",
    "    sample_src = reflectance[channel]\n",
    "    aligned_img = osp.CoAlignedImage(sample_src, sample_dest, homography=learning_img.homography, roi=True)\n",
    "    aligned_img.align_images()\n",
    "    # check the alignment\n",
    "    aligned_img.align_images()\n",
    "    aligned_img.image_display()\n"
   ]
  },
  {
   "attachments": {},
   "cell_type": "markdown",
   "metadata": {},
   "source": [
    "Apply Transform"
   ]
  },
  {
   "attachments": {},
   "cell_type": "markdown",
   "metadata": {},
   "source": [
    "# Geometric Alignment\n",
    "- Load, average and bias correct Geometric images\n",
    "- Balance images (TBD)\n",
    "- Extract camera geometric calibration coefficients (TBD)\n",
    "- Apply image coregistration (TBD)"
   ]
  },
  {
   "attachments": {},
   "cell_type": "markdown",
   "metadata": {},
   "source": [
    "First we define a new class for storing and processing the geometric calibration images."
   ]
  },
  {
   "attachments": {},
   "cell_type": "markdown",
   "metadata": {},
   "source": [
    "Then we get the geometric calibration coefficients for each camera."
   ]
  },
  {
   "cell_type": "code",
   "execution_count": null,
   "metadata": {},
   "outputs": [],
   "source": [
    "target = 'geometric_calibration'\n",
    "channels = sorted(list(Path('..', 'data',target).glob('[!_]*')))\n",
    "geocs = {}\n",
    "for channel_path in channels:\n",
    "    channel = channel_path.name\n",
    "    # load the geometric calibration images\n",
    "    geoc = osp.LightImage(target, channel)\n",
    "    geoc.image_load()\n",
    "    # load the geometric calibration dark frames\n",
    "    dark_geoc = osp.DarkImage(target, channel)\n",
    "    dark_geoc.image_load()\n",
    "    # subtract the dark frame\n",
    "    geoc.dark_subtract(dark_geoc)\n",
    "    geoc.image_display()\n",
    "    # # apply image balancing\n",
    "    geoc = osp.GeoCalImage(geoc, roi=True)\n",
    "    geoc.show_corners()\n",
    "    geoc.calibrate_camera()\n",
    "    geocs[channel] = geoc\n",
    "    print('camera focal length (mm)')\n",
    "    print(geoc.mtx[0][0] * 5.86E-6 * 1e3)\n",
    "    print('translation vectors')\n",
    "    print(geoc.tvecs)\n",
    "    print('rotation vectors')\n",
    "    print(geoc.rvecs)"
   ]
  },
  {
   "attachments": {},
   "cell_type": "markdown",
   "metadata": {},
   "source": [
    "Now we choose a destination image that we will map all other channels too, and we find the stereo calibration and perform co-alignment."
   ]
  },
  {
   "cell_type": "code",
   "execution_count": null,
   "metadata": {},
   "outputs": [],
   "source": [
    "channels = list(reflectance.keys())\n",
    "destination = channels[0]\n",
    "dest_geocal = geocs[destination]\n",
    "for channel in channels:\n",
    "    source_img = reflectance[channel]\n",
    "    source_geocal = geocs[channel]\n",
    "    aligned_img = osp.AlignedImage(source_img, source_geocal, dest_geocal)\n",
    "    aligned_img.image_display()\n",
    "    aligned_img.undistort()\n",
    "    aligned_img.image_display()\n",
    "    aligned_img.source_R, aligned_img.source_P, aligned_img.dest_R, aligned_img.dest_P = aligned_img.stereo_calibrate()\n",
    "    aligned_img.img_ave = aligned_img.coalign()\n",
    "    aligned_img.image_display()\n"
   ]
  },
  {
   "cell_type": "code",
   "execution_count": null,
   "metadata": {},
   "outputs": [],
   "source": []
  }
 ],
 "metadata": {
  "kernelspec": {
   "display_name": "orochi_sim_ctrl",
   "language": "python",
   "name": "python3"
  },
  "language_info": {
   "codemirror_mode": {
    "name": "ipython",
    "version": 3
   },
   "file_extension": ".py",
   "mimetype": "text/x-python",
   "name": "python",
   "nbconvert_exporter": "python",
   "pygments_lexer": "ipython3",
   "version": "3.10.9"
  },
  "orig_nbformat": 4
 },
 "nbformat": 4,
 "nbformat_minor": 2
}

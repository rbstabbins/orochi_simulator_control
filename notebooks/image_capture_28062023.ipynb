{
 "cells": [
  {
   "attachments": {},
   "cell_type": "markdown",
   "metadata": {},
   "source": [
    "A notebook for guiding image capture and reflectance and stereo calibration with the OROCHI laboratory simulator.\n",
    "\n",
    "First experiments made since multiple upgrades to the OROCHI Simualator (OROS) system."
   ]
  },
  {
   "attachments": {},
   "cell_type": "markdown",
   "metadata": {},
   "source": [
    "Experiments performed on 28/06/2023\n",
    "\n",
    "- PCT99 Calibration\n",
    "- Geometric Calibration\n",
    "- PCT5 Calibration Target\n",
    "- Sample 1\n",
    "- Sample 2\n",
    "- Sample 3\n",
    "- Sample 4\n",
    "- Sample 5"
   ]
  },
  {
   "cell_type": "code",
   "execution_count": null,
   "metadata": {},
   "outputs": [],
   "source": [
    "%reload_ext autoreload\n",
    "%autoreload 2\n",
    "%matplotlib inline"
   ]
  },
  {
   "attachments": {},
   "cell_type": "markdown",
   "metadata": {},
   "source": [
    "# Overview\n",
    "\n",
    "The steps are as follows. Note that dark image capture is reserved for the end, to minimise physical interactions with the cameras.\n",
    "\n",
    "1. PCT99 Reflectace Calibration Target Imaging\n",
    "    - Prompt: Lens Cap removal, put calibration target in place\n",
    "    - Cycle over cameras. For each camera:\n",
    "        - Test the connection\n",
    "        - load/configure the camera\n",
    "        - get optimal exposure and check ROI\n",
    "        - capture repeat images of the calibration target\n",
    "        - save the images\n",
    "        - save the exposures used\n",
    "2. Geometric Calibration Target Imaging\n",
    "    - Prompt: Lens Cap removal, put geometric calibration target in place\n",
    "    - Cycle over cameras. For each camera:\n",
    "        - Test the connection\n",
    "        - load/configure the camera\n",
    "        - get optimal exposure and check ROI\n",
    "        - capture repeat images of the geometric calibration target\n",
    "        - save the images\n",
    "        - save the exposures used\n",
    "3. Sample Imaging\n",
    "    - as above, but with the sample replacing the calibration target\n",
    "    - repeat for each of 5 different samples\n",
    "4. Dark Imaging\n",
    "    - Prompt: Lens cap on / lights out\n",
    "    - Cycle over cameras. For each camera:\n",
    "        - check connection\n",
    "            - Calibration darks:\n",
    "                - load calibration exposure for given camera\n",
    "                - set exposure\n",
    "                - capture repeat frames\n",
    "                - save frames\n",
    "            - Sample darks:\n",
    "                - as aove but load sample exposures instead\n",
    "5. Processing to Reflectance"
   ]
  },
  {
   "attachments": {},
   "cell_type": "markdown",
   "metadata": {},
   "source": [
    "# Setup\n",
    "\n",
    "Here we setup the IC object, load the camera configuration file, and connect to and initiate the OROCHI camera channels."
   ]
  },
  {
   "cell_type": "code",
   "execution_count": null,
   "metadata": {},
   "outputs": [],
   "source": [
    "import orochi_sim_ctrl as osc\n",
    "\n",
    "ic = osc.start_ic()\n",
    "camera_config = osc.load_camera_config()\n",
    "cameras = osc.connect_cameras(ic, camera_config)\n",
    "osc.configure_cameras(cameras)"
   ]
  },
  {
   "cell_type": "code",
   "execution_count": null,
   "metadata": {},
   "outputs": [],
   "source": [
    "n_repeats = 25\n",
    "date = '28062023'"
   ]
  },
  {
   "attachments": {},
   "cell_type": "markdown",
   "metadata": {},
   "source": [
    "## Set ROIs\n",
    "\n",
    "Do not set ROIs now, use ROIs calibrated previously, to align with flat-fields."
   ]
  },
  {
   "attachments": {},
   "cell_type": "markdown",
   "metadata": {},
   "source": [
    "# PCT99 Calibration Target Imaging\n",
    "\n",
    "- Cycle over cameras. For each camera:\n",
    "    - get optimal exposure and check ROI\n",
    "    - capture repeat images of the calibration target\n",
    "    - save the images\n",
    "    - save the exposures used"
   ]
  },
  {
   "attachments": {},
   "cell_type": "markdown",
   "metadata": {},
   "source": [
    "Check:\n",
    "1. The calibration target is in place"
   ]
  },
  {
   "cell_type": "code",
   "execution_count": null,
   "metadata": {},
   "outputs": [],
   "source": [
    "osc.prepare_reflectance_calibration(ic)"
   ]
  },
  {
   "attachments": {},
   "cell_type": "markdown",
   "metadata": {},
   "source": [
    "Find the optimal exposures for calibration target imaging."
   ]
  },
  {
   "cell_type": "code",
   "execution_count": null,
   "metadata": {},
   "outputs": [],
   "source": [
    "pct99_exposures = osc.find_channel_exposures(cameras)"
   ]
  },
  {
   "attachments": {},
   "cell_type": "markdown",
   "metadata": {},
   "source": [
    "Check the calibration target images."
   ]
  },
  {
   "cell_type": "code",
   "execution_count": null,
   "metadata": {},
   "outputs": [],
   "source": [
    "osc.capture_channel_images(\n",
    "    cameras, \n",
    "    pct99_exposures, \n",
    "    subject='Calibration Check', \n",
    "    roi=True, \n",
    "    show_img=True)"
   ]
  },
  {
   "attachments": {},
   "cell_type": "markdown",
   "metadata": {},
   "source": [
    "Capture 10 repeat images of the calibration target in each channel."
   ]
  },
  {
   "cell_type": "code",
   "execution_count": null,
   "metadata": {},
   "outputs": [],
   "source": [
    "osc.capture_channel_images(\n",
    "    cameras, \n",
    "    pct99_exposures, \n",
    "    subject='pct99_calibration_'+date, \n",
    "    repeats=n_repeats,\n",
    "    roi=False, \n",
    "    show_img=False,\n",
    "    save_img=True)"
   ]
  },
  {
   "attachments": {},
   "cell_type": "markdown",
   "metadata": {},
   "source": [
    "Write the exposures to file."
   ]
  },
  {
   "cell_type": "code",
   "execution_count": null,
   "metadata": {},
   "outputs": [],
   "source": [
    "osc.record_exposures(cameras, pct99_exposures, 'pct99_calibration_'+date)"
   ]
  },
  {
   "attachments": {},
   "cell_type": "markdown",
   "metadata": {},
   "source": [
    "# Geometric Calibration Target Imaging\n",
    "\n",
    "- Prompt: Lens Cap removal, put geometric calibration target in place\n",
    "- Cycle over cameras. For each camera:\n",
    "    - get optimal exposure and check ROI\n",
    "    - capture repeat images of the geometric calibration target\n",
    "    - save the images\n",
    "    - save the exposures used"
   ]
  },
  {
   "attachments": {},
   "cell_type": "markdown",
   "metadata": {},
   "source": [
    "Check:\n",
    "1. The geometric target is in place\n",
    "2. Lens cap is removed"
   ]
  },
  {
   "cell_type": "code",
   "execution_count": null,
   "metadata": {},
   "outputs": [],
   "source": [
    "osc.prepare_geometric_calibration(ic)"
   ]
  },
  {
   "attachments": {},
   "cell_type": "markdown",
   "metadata": {},
   "source": [
    "Find the optimal exposures for geometric calibration target imaging."
   ]
  },
  {
   "cell_type": "code",
   "execution_count": null,
   "metadata": {},
   "outputs": [],
   "source": [
    "geometric_exposures = osc.find_channel_exposures(cameras, roi=True)"
   ]
  },
  {
   "attachments": {},
   "cell_type": "markdown",
   "metadata": {},
   "source": [
    "Check the geometric calibration target images."
   ]
  },
  {
   "cell_type": "code",
   "execution_count": null,
   "metadata": {},
   "outputs": [],
   "source": [
    "osc.capture_channel_images(\n",
    "    cameras, \n",
    "    geometric_exposures, \n",
    "    subject='Geometric Calibration Check', \n",
    "    roi=False, \n",
    "    show_img=True)"
   ]
  },
  {
   "attachments": {},
   "cell_type": "markdown",
   "metadata": {},
   "source": [
    "Capture 10 repeat images of the geometric calibration target in each channel."
   ]
  },
  {
   "cell_type": "code",
   "execution_count": null,
   "metadata": {},
   "outputs": [],
   "source": [
    "osc.capture_channel_images(\n",
    "    cameras, \n",
    "    geometric_exposures, \n",
    "    subject='geometric_calibration_'+date, \n",
    "    repeats=n_repeats,\n",
    "    roi=False, \n",
    "    show_img=False,\n",
    "    save_img=True)"
   ]
  },
  {
   "attachments": {},
   "cell_type": "markdown",
   "metadata": {},
   "source": [
    "Write the exposures to file."
   ]
  },
  {
   "cell_type": "code",
   "execution_count": null,
   "metadata": {},
   "outputs": [],
   "source": [
    "osc.record_exposures(cameras, geometric_exposures, 'geometric_calibration_'+date)"
   ]
  },
  {
   "attachments": {},
   "cell_type": "markdown",
   "metadata": {},
   "source": [
    "# PCT5 Calibration Target Imaging\n",
    "\n",
    "For validating the spectral reflectance retrieval, and if neccessary for further reflectance calibration."
   ]
  },
  {
   "attachments": {},
   "cell_type": "markdown",
   "metadata": {},
   "source": [
    "Find the optimal exposures for dark calibration target imaging."
   ]
  },
  {
   "cell_type": "code",
   "execution_count": null,
   "metadata": {},
   "outputs": [],
   "source": [
    "pct5_calibration_exposures = osc.find_channel_exposures(cameras, init_t_exp=1.0, limit=10)"
   ]
  },
  {
   "attachments": {},
   "cell_type": "markdown",
   "metadata": {},
   "source": [
    "Check the calibration target images."
   ]
  },
  {
   "cell_type": "code",
   "execution_count": null,
   "metadata": {},
   "outputs": [],
   "source": [
    "osc.capture_channel_images(\n",
    "    cameras, \n",
    "    pct5_calibration_exposures, \n",
    "    subject='PCT5 Calibration Check', \n",
    "    roi=True, \n",
    "    show_img=True)"
   ]
  },
  {
   "attachments": {},
   "cell_type": "markdown",
   "metadata": {},
   "source": [
    "Capture 10 repeat images of the calibration target in each channel."
   ]
  },
  {
   "cell_type": "code",
   "execution_count": null,
   "metadata": {},
   "outputs": [],
   "source": [
    "osc.capture_channel_images(\n",
    "    cameras, \n",
    "    calibration_exposures, \n",
    "    subject='pct5_calibration_'+date, \n",
    "    repeats=n_repeats,\n",
    "    roi=False, \n",
    "    show_img=False,\n",
    "    save_img=True)"
   ]
  },
  {
   "attachments": {},
   "cell_type": "markdown",
   "metadata": {},
   "source": [
    "Write the exposures to file."
   ]
  },
  {
   "cell_type": "code",
   "execution_count": null,
   "metadata": {},
   "outputs": [],
   "source": [
    "osc.record_exposures(cameras, pct5_calibration_exposures, 'pct5_calibration_'+date)"
   ]
  },
  {
   "attachments": {},
   "cell_type": "markdown",
   "metadata": {},
   "source": [
    "# Sample Imaging - from the Right\n",
    "\n",
    "With Lamp Angle set to 300 degrees.\n",
    "\n",
    "- Prompt: Lens Cap removal, put sample in place\n",
    "- Cycle over cameras. For each camera:\n",
    "    - get optimal exposure and check ROI\n",
    "    - capture repeat images of the sample\n",
    "    - save the images\n",
    "    - save the exposures used"
   ]
  },
  {
   "attachments": {},
   "cell_type": "markdown",
   "metadata": {},
   "source": [
    "## Sample 1"
   ]
  },
  {
   "cell_type": "code",
   "execution_count": null,
   "metadata": {},
   "outputs": [],
   "source": [
    "sample_str = 'sample_1_r_'+date"
   ]
  },
  {
   "attachments": {},
   "cell_type": "markdown",
   "metadata": {},
   "source": [
    "Check:\n",
    "1. The sample is in place\n",
    "2. Lens cap is removed"
   ]
  },
  {
   "cell_type": "code",
   "execution_count": null,
   "metadata": {},
   "outputs": [],
   "source": [
    "osc.prepare_sample_imaging(ic)"
   ]
  },
  {
   "attachments": {},
   "cell_type": "markdown",
   "metadata": {},
   "source": [
    "Find the optimal exposures for sample imaging."
   ]
  },
  {
   "cell_type": "code",
   "execution_count": null,
   "metadata": {},
   "outputs": [],
   "source": [
    "sample_exposures = osc.find_channel_exposures(cameras, roi=True)"
   ]
  },
  {
   "attachments": {},
   "cell_type": "markdown",
   "metadata": {},
   "source": [
    "Check the sample images."
   ]
  },
  {
   "cell_type": "code",
   "execution_count": null,
   "metadata": {},
   "outputs": [],
   "source": [
    "osc.capture_channel_images(\n",
    "    cameras, \n",
    "    sample_exposures, \n",
    "    subject='Sample Check', \n",
    "    roi=True, \n",
    "    show_img=True)"
   ]
  },
  {
   "attachments": {},
   "cell_type": "markdown",
   "metadata": {},
   "source": [
    "Capture 10 repeat images of the geometric calibration target in each channel."
   ]
  },
  {
   "cell_type": "code",
   "execution_count": null,
   "metadata": {},
   "outputs": [],
   "source": [
    "osc.capture_channel_images(\n",
    "    cameras, \n",
    "    sample_exposures, \n",
    "    subject=sample_str, \n",
    "    repeats=n_repeats,\n",
    "    roi=False, \n",
    "    show_img=False,\n",
    "    save_img=True)"
   ]
  },
  {
   "attachments": {},
   "cell_type": "markdown",
   "metadata": {},
   "source": [
    "Write the exposures to file."
   ]
  },
  {
   "cell_type": "code",
   "execution_count": null,
   "metadata": {},
   "outputs": [],
   "source": [
    "osc.record_exposures(cameras, sample_exposures, sample_str)"
   ]
  },
  {
   "attachments": {},
   "cell_type": "markdown",
   "metadata": {},
   "source": [
    "## Sample 2"
   ]
  },
  {
   "cell_type": "code",
   "execution_count": null,
   "metadata": {},
   "outputs": [],
   "source": [
    "sample_str = 'sample_2_r_'+date"
   ]
  },
  {
   "cell_type": "code",
   "execution_count": null,
   "metadata": {},
   "outputs": [],
   "source": [
    "sample_exposures = osc.find_channel_exposures(cameras, roi=True)"
   ]
  },
  {
   "cell_type": "code",
   "execution_count": null,
   "metadata": {},
   "outputs": [],
   "source": [
    "osc.capture_channel_images(\n",
    "    cameras, \n",
    "    sample_exposures, \n",
    "    subject='Sample Check', \n",
    "    roi=True, \n",
    "    show_img=True)"
   ]
  },
  {
   "cell_type": "code",
   "execution_count": null,
   "metadata": {},
   "outputs": [],
   "source": [
    "osc.capture_channel_images(\n",
    "    cameras, \n",
    "    sample_exposures, \n",
    "    subject=sample_str, \n",
    "    repeats=n_repeats,\n",
    "    roi=False, \n",
    "    show_img=False,\n",
    "    save_img=True)"
   ]
  },
  {
   "cell_type": "code",
   "execution_count": null,
   "metadata": {},
   "outputs": [],
   "source": [
    "osc.record_exposures(cameras, sample_exposures, sample_str)"
   ]
  },
  {
   "attachments": {},
   "cell_type": "markdown",
   "metadata": {},
   "source": [
    "## Sample 3"
   ]
  },
  {
   "cell_type": "code",
   "execution_count": null,
   "metadata": {},
   "outputs": [],
   "source": [
    "sample_str = 'sample_3_r_'+date"
   ]
  },
  {
   "cell_type": "code",
   "execution_count": null,
   "metadata": {},
   "outputs": [],
   "source": [
    "sample_exposures = osc.find_channel_exposures(cameras, roi=True)"
   ]
  },
  {
   "cell_type": "code",
   "execution_count": null,
   "metadata": {},
   "outputs": [],
   "source": [
    "osc.capture_channel_images(\n",
    "    cameras, \n",
    "    sample_exposures, \n",
    "    subject='Sample Check', \n",
    "    roi=True, \n",
    "    show_img=True)"
   ]
  },
  {
   "cell_type": "code",
   "execution_count": null,
   "metadata": {},
   "outputs": [],
   "source": [
    "osc.capture_channel_images(\n",
    "    cameras, \n",
    "    sample_exposures, \n",
    "    subject=sample_str, \n",
    "    repeats=n_repeats,\n",
    "    roi=False, \n",
    "    show_img=False,\n",
    "    save_img=True)"
   ]
  },
  {
   "cell_type": "code",
   "execution_count": null,
   "metadata": {},
   "outputs": [],
   "source": [
    "osc.record_exposures(cameras, sample_exposures, sample_str)"
   ]
  },
  {
   "attachments": {},
   "cell_type": "markdown",
   "metadata": {},
   "source": [
    "## Sample 4"
   ]
  },
  {
   "cell_type": "code",
   "execution_count": null,
   "metadata": {},
   "outputs": [],
   "source": [
    "sample_str = 'sample_4_r_'+date"
   ]
  },
  {
   "cell_type": "code",
   "execution_count": null,
   "metadata": {},
   "outputs": [],
   "source": [
    "sample_exposures = osc.find_channel_exposures(cameras, roi=True)"
   ]
  },
  {
   "cell_type": "code",
   "execution_count": null,
   "metadata": {},
   "outputs": [],
   "source": [
    "osc.capture_channel_images(\n",
    "    cameras, \n",
    "    sample_exposures, \n",
    "    subject='Sample Check', \n",
    "    roi=True, \n",
    "    show_img=True)"
   ]
  },
  {
   "cell_type": "code",
   "execution_count": null,
   "metadata": {},
   "outputs": [],
   "source": [
    "osc.capture_channel_images(\n",
    "    cameras, \n",
    "    sample_exposures, \n",
    "    subject=sample_str, \n",
    "    repeats=n_repeats,\n",
    "    roi=False, \n",
    "    show_img=False,\n",
    "    save_img=True)"
   ]
  },
  {
   "cell_type": "code",
   "execution_count": null,
   "metadata": {},
   "outputs": [],
   "source": [
    "osc.record_exposures(cameras, sample_exposures, sample_str)"
   ]
  },
  {
   "attachments": {},
   "cell_type": "markdown",
   "metadata": {},
   "source": [
    "## Sample 5"
   ]
  },
  {
   "cell_type": "code",
   "execution_count": null,
   "metadata": {},
   "outputs": [],
   "source": [
    "sample_str = 'sample_5_r_'+date"
   ]
  },
  {
   "cell_type": "code",
   "execution_count": null,
   "metadata": {},
   "outputs": [],
   "source": [
    "sample_exposures = osc.find_channel_exposures(cameras, roi=True)"
   ]
  },
  {
   "cell_type": "code",
   "execution_count": null,
   "metadata": {},
   "outputs": [],
   "source": [
    "osc.capture_channel_images(\n",
    "    cameras, \n",
    "    sample_exposures, \n",
    "    subject='Sample Check', \n",
    "    roi=True, \n",
    "    show_img=True)"
   ]
  },
  {
   "cell_type": "code",
   "execution_count": null,
   "metadata": {},
   "outputs": [],
   "source": [
    "osc.capture_channel_images(\n",
    "    cameras, \n",
    "    sample_exposures, \n",
    "    subject=sample_str, \n",
    "    repeats=n_repeats,\n",
    "    roi=False, \n",
    "    show_img=False,\n",
    "    save_img=True)"
   ]
  },
  {
   "cell_type": "code",
   "execution_count": null,
   "metadata": {},
   "outputs": [],
   "source": [
    "osc.record_exposures(cameras, sample_exposures, sample_str)"
   ]
  },
  {
   "attachments": {},
   "cell_type": "markdown",
   "metadata": {},
   "source": [
    "# Sample Imaging - from the Left\n",
    "\n",
    "With Lamp Angle set to 300 - 60 = 240 degrees.\n",
    "\n",
    "- Prompt: Lens Cap removal, put sample in place\n",
    "- Cycle over cameras. For each camera:\n",
    "    - get optimal exposure and check ROI\n",
    "    - capture repeat images of the sample\n",
    "    - save the images\n",
    "    - save the exposures used"
   ]
  },
  {
   "attachments": {},
   "cell_type": "markdown",
   "metadata": {},
   "source": [
    "## Sample 1"
   ]
  },
  {
   "attachments": {},
   "cell_type": "markdown",
   "metadata": {},
   "source": [
    "Check:\n",
    "1. The sample is in place\n",
    "2. Lens cap is removed"
   ]
  },
  {
   "cell_type": "code",
   "execution_count": null,
   "metadata": {},
   "outputs": [],
   "source": [
    "osc.prepare_sample_imaging(ic)"
   ]
  },
  {
   "attachments": {},
   "cell_type": "markdown",
   "metadata": {},
   "source": [
    "Find the optimal exposures for sample imaging."
   ]
  },
  {
   "cell_type": "code",
   "execution_count": null,
   "metadata": {},
   "outputs": [],
   "source": [
    "sample_exposures = osc.find_channel_exposures(cameras, roi=True)"
   ]
  },
  {
   "attachments": {},
   "cell_type": "markdown",
   "metadata": {},
   "source": [
    "Check the sample images."
   ]
  },
  {
   "cell_type": "code",
   "execution_count": null,
   "metadata": {},
   "outputs": [],
   "source": [
    "osc.capture_channel_images(\n",
    "    cameras, \n",
    "    sample_exposures, \n",
    "    subject='Sample Check', \n",
    "    roi=True, \n",
    "    show_img=True)"
   ]
  },
  {
   "attachments": {},
   "cell_type": "markdown",
   "metadata": {},
   "source": [
    "Capture 10 repeat images of the geometric calibration target in each channel."
   ]
  },
  {
   "cell_type": "code",
   "execution_count": null,
   "metadata": {},
   "outputs": [],
   "source": [
    "osc.capture_channel_images(\n",
    "    cameras, \n",
    "    sample_exposures, \n",
    "    subject='sample_1_l', \n",
    "    repeats=10,\n",
    "    roi=False, \n",
    "    show_img=False,\n",
    "    save_img=True)"
   ]
  },
  {
   "attachments": {},
   "cell_type": "markdown",
   "metadata": {},
   "source": [
    "Write the exposures to file."
   ]
  },
  {
   "cell_type": "code",
   "execution_count": null,
   "metadata": {},
   "outputs": [],
   "source": [
    "osc.record_exposures(cameras, sample_exposures, 'sample_1_l')"
   ]
  },
  {
   "attachments": {},
   "cell_type": "markdown",
   "metadata": {},
   "source": [
    "## Sample 2"
   ]
  },
  {
   "cell_type": "code",
   "execution_count": null,
   "metadata": {},
   "outputs": [],
   "source": [
    "sample_exposures = osc.find_channel_exposures(cameras, roi=True)"
   ]
  },
  {
   "cell_type": "code",
   "execution_count": null,
   "metadata": {},
   "outputs": [],
   "source": [
    "osc.capture_channel_images(\n",
    "    cameras, \n",
    "    sample_exposures, \n",
    "    subject='Sample Check', \n",
    "    roi=True, \n",
    "    show_img=True)"
   ]
  },
  {
   "cell_type": "code",
   "execution_count": null,
   "metadata": {},
   "outputs": [],
   "source": [
    "osc.capture_channel_images(\n",
    "    cameras, \n",
    "    sample_exposures, \n",
    "    subject='sample_2_l', \n",
    "    repeats=10,\n",
    "    roi=False, \n",
    "    show_img=False,\n",
    "    save_img=True)"
   ]
  },
  {
   "cell_type": "code",
   "execution_count": null,
   "metadata": {},
   "outputs": [],
   "source": [
    "osc.record_exposures(cameras, sample_exposures, 'sample_2_l')"
   ]
  },
  {
   "attachments": {},
   "cell_type": "markdown",
   "metadata": {},
   "source": [
    "## Sample 3"
   ]
  },
  {
   "cell_type": "code",
   "execution_count": null,
   "metadata": {},
   "outputs": [],
   "source": [
    "sample_exposures = osc.find_channel_exposures(cameras, roi=True)"
   ]
  },
  {
   "cell_type": "code",
   "execution_count": null,
   "metadata": {},
   "outputs": [],
   "source": [
    "osc.capture_channel_images(\n",
    "    cameras, \n",
    "    sample_exposures, \n",
    "    subject='Sample Check', \n",
    "    roi=True, \n",
    "    show_img=True)"
   ]
  },
  {
   "cell_type": "code",
   "execution_count": null,
   "metadata": {},
   "outputs": [],
   "source": [
    "osc.capture_channel_images(\n",
    "    cameras, \n",
    "    sample_exposures, \n",
    "    subject='sample_3_l', \n",
    "    repeats=10,\n",
    "    roi=False, \n",
    "    show_img=False,\n",
    "    save_img=True)"
   ]
  },
  {
   "cell_type": "code",
   "execution_count": null,
   "metadata": {},
   "outputs": [],
   "source": [
    "osc.record_exposures(cameras, sample_exposures, 'sample_3_l')"
   ]
  },
  {
   "attachments": {},
   "cell_type": "markdown",
   "metadata": {},
   "source": [
    "## Sample 4"
   ]
  },
  {
   "cell_type": "code",
   "execution_count": null,
   "metadata": {},
   "outputs": [],
   "source": [
    "sample_exposures = osc.load_exposures(cameras, 'sample_4_r')"
   ]
  },
  {
   "attachments": {},
   "cell_type": "markdown",
   "metadata": {},
   "source": [
    "Issues with autoexposure on Device 3, so have just loaded up exposures from right-oriented lamp imaging of this sample."
   ]
  },
  {
   "cell_type": "code",
   "execution_count": null,
   "metadata": {},
   "outputs": [],
   "source": [
    "# sample_exposures = osc.find_channel_exposures(cameras, roi=True, init_t_exp=0.7)"
   ]
  },
  {
   "cell_type": "code",
   "execution_count": null,
   "metadata": {},
   "outputs": [],
   "source": [
    "osc.capture_channel_images(\n",
    "    cameras, \n",
    "    sample_exposures, \n",
    "    subject='Sample Check', \n",
    "    roi=True, \n",
    "    show_img=True)"
   ]
  },
  {
   "cell_type": "code",
   "execution_count": null,
   "metadata": {},
   "outputs": [],
   "source": [
    "osc.capture_channel_images(\n",
    "    cameras, \n",
    "    sample_exposures, \n",
    "    subject='sample_4_l', \n",
    "    repeats=10,\n",
    "    roi=False, \n",
    "    show_img=False,\n",
    "    save_img=True)"
   ]
  },
  {
   "cell_type": "code",
   "execution_count": null,
   "metadata": {},
   "outputs": [],
   "source": [
    "osc.record_exposures(cameras, sample_exposures, 'sample_4_l')"
   ]
  },
  {
   "attachments": {},
   "cell_type": "markdown",
   "metadata": {},
   "source": [
    "## Sample 5"
   ]
  },
  {
   "cell_type": "code",
   "execution_count": null,
   "metadata": {},
   "outputs": [],
   "source": [
    "sample_exposures = osc.find_channel_exposures(cameras, roi=True)"
   ]
  },
  {
   "cell_type": "code",
   "execution_count": null,
   "metadata": {},
   "outputs": [],
   "source": [
    "osc.capture_channel_images(\n",
    "    cameras, \n",
    "    sample_exposures, \n",
    "    subject='Sample Check', \n",
    "    roi=True, \n",
    "    show_img=True)"
   ]
  },
  {
   "cell_type": "code",
   "execution_count": null,
   "metadata": {},
   "outputs": [],
   "source": [
    "osc.capture_channel_images(\n",
    "    cameras, \n",
    "    sample_exposures, \n",
    "    subject='sample_5_l', \n",
    "    repeats=10,\n",
    "    roi=False, \n",
    "    show_img=False,\n",
    "    save_img=True)"
   ]
  },
  {
   "cell_type": "code",
   "execution_count": null,
   "metadata": {},
   "outputs": [],
   "source": [
    "osc.record_exposures(cameras, sample_exposures, 'sample_5_l')"
   ]
  },
  {
   "attachments": {},
   "cell_type": "markdown",
   "metadata": {},
   "source": [
    "# Dark Frame Imaging\n",
    "\n",
    "Now we use the recorded exposures to capture dark frames."
   ]
  },
  {
   "attachments": {},
   "cell_type": "markdown",
   "metadata": {},
   "source": [
    "Check:\n",
    "1. Lens cap is in place"
   ]
  },
  {
   "cell_type": "code",
   "execution_count": null,
   "metadata": {},
   "outputs": [],
   "source": [
    "osc.prepare_dark_acquisition(ic)"
   ]
  },
  {
   "attachments": {},
   "cell_type": "markdown",
   "metadata": {},
   "source": [
    "## Reflectance Calibration Dark Frames."
   ]
  },
  {
   "attachments": {},
   "cell_type": "markdown",
   "metadata": {},
   "source": [
    "Load calibration target exposures"
   ]
  },
  {
   "cell_type": "code",
   "execution_count": null,
   "metadata": {},
   "outputs": [],
   "source": [
    "calibration_exposures = osc.load_exposures(cameras, 'reflectance_calibration')"
   ]
  },
  {
   "cell_type": "code",
   "execution_count": null,
   "metadata": {},
   "outputs": [],
   "source": [
    "osc.capture_channel_images(\n",
    "    cameras, \n",
    "    calibration_exposures, \n",
    "    subject='reflectance_calibration_d', \n",
    "    img_type='drk',\n",
    "    repeats=10,\n",
    "    roi=False, \n",
    "    show_img=False,\n",
    "    save_img=True)"
   ]
  },
  {
   "attachments": {},
   "cell_type": "markdown",
   "metadata": {},
   "source": [
    "## Geometric Calibration Dark Frames."
   ]
  },
  {
   "cell_type": "code",
   "execution_count": null,
   "metadata": {},
   "outputs": [],
   "source": [
    "geometric_exposures = osc.load_exposures(cameras, 'geometric_calibration')"
   ]
  },
  {
   "cell_type": "code",
   "execution_count": null,
   "metadata": {},
   "outputs": [],
   "source": [
    "osc.capture_channel_images(\n",
    "    cameras, \n",
    "    geometric_exposures, \n",
    "    subject='geometric_calibration_d', \n",
    "    img_type='drk',\n",
    "    repeats=10,\n",
    "    roi=False, \n",
    "    show_img=False,\n",
    "    save_img=True)"
   ]
  },
  {
   "attachments": {},
   "cell_type": "markdown",
   "metadata": {},
   "source": [
    "## Dark Calibration Dark Frames"
   ]
  },
  {
   "cell_type": "code",
   "execution_count": null,
   "metadata": {},
   "outputs": [],
   "source": [
    "dark_calibration_exposures = osc.load_exposures(cameras, 'dark_reflectance_calibration')"
   ]
  },
  {
   "cell_type": "code",
   "execution_count": null,
   "metadata": {},
   "outputs": [],
   "source": [
    "osc.capture_channel_images(\n",
    "    cameras, \n",
    "    dark_calibration_exposures, \n",
    "    subject='dark_reflectance_calibration_d', \n",
    "    img_type='drk',\n",
    "    repeats=10,\n",
    "    roi=False, \n",
    "    show_img=False,\n",
    "    save_img=True)"
   ]
  },
  {
   "attachments": {},
   "cell_type": "markdown",
   "metadata": {},
   "source": [
    "## Capture Sample Dark Frames."
   ]
  },
  {
   "attachments": {},
   "cell_type": "markdown",
   "metadata": {},
   "source": [
    "## Left "
   ]
  },
  {
   "attachments": {},
   "cell_type": "markdown",
   "metadata": {},
   "source": [
    "### Sample 1"
   ]
  },
  {
   "cell_type": "code",
   "execution_count": null,
   "metadata": {},
   "outputs": [],
   "source": [
    "sample_exposures = osc.load_exposures(cameras, 'sample_1_l')"
   ]
  },
  {
   "cell_type": "code",
   "execution_count": null,
   "metadata": {},
   "outputs": [],
   "source": [
    "osc.capture_channel_images(\n",
    "    cameras, \n",
    "    sample_exposures, \n",
    "    subject='sample_1_l_d', \n",
    "    img_type='drk',\n",
    "    repeats=10,\n",
    "    roi=False, \n",
    "    show_img=False,\n",
    "    save_img=True)"
   ]
  },
  {
   "attachments": {},
   "cell_type": "markdown",
   "metadata": {},
   "source": [
    "### Sample 2"
   ]
  },
  {
   "cell_type": "code",
   "execution_count": null,
   "metadata": {},
   "outputs": [],
   "source": [
    "sample_exposures = osc.load_exposures(cameras, 'sample_2_l')"
   ]
  },
  {
   "cell_type": "code",
   "execution_count": null,
   "metadata": {},
   "outputs": [],
   "source": [
    "osc.capture_channel_images(\n",
    "    cameras, \n",
    "    sample_exposures, \n",
    "    subject='sample_2_l_d', \n",
    "    img_type='drk',\n",
    "    repeats=10,\n",
    "    roi=False, \n",
    "    show_img=False,\n",
    "    save_img=True)"
   ]
  },
  {
   "attachments": {},
   "cell_type": "markdown",
   "metadata": {},
   "source": [
    "### Sample 3"
   ]
  },
  {
   "cell_type": "code",
   "execution_count": null,
   "metadata": {},
   "outputs": [],
   "source": [
    "sample_exposures = osc.load_exposures(cameras, 'sample_3_l')"
   ]
  },
  {
   "cell_type": "code",
   "execution_count": null,
   "metadata": {},
   "outputs": [],
   "source": [
    "osc.capture_channel_images(\n",
    "    cameras, \n",
    "    sample_exposures, \n",
    "    subject='sample_3_l_d', \n",
    "    img_type='drk',\n",
    "    repeats=10,\n",
    "    roi=False, \n",
    "    show_img=False,\n",
    "    save_img=True)"
   ]
  },
  {
   "attachments": {},
   "cell_type": "markdown",
   "metadata": {},
   "source": [
    "### Sample 4"
   ]
  },
  {
   "cell_type": "code",
   "execution_count": null,
   "metadata": {},
   "outputs": [],
   "source": [
    "sample_exposures = osc.load_exposures(cameras, 'sample_4_l')"
   ]
  },
  {
   "cell_type": "code",
   "execution_count": null,
   "metadata": {},
   "outputs": [],
   "source": [
    "osc.capture_channel_images(\n",
    "    cameras, \n",
    "    sample_exposures, \n",
    "    subject='sample_4_l_d', \n",
    "    img_type='drk',\n",
    "    repeats=10,\n",
    "    roi=False, \n",
    "    show_img=False,\n",
    "    save_img=True)"
   ]
  },
  {
   "attachments": {},
   "cell_type": "markdown",
   "metadata": {},
   "source": [
    "### Sample 5"
   ]
  },
  {
   "cell_type": "code",
   "execution_count": null,
   "metadata": {},
   "outputs": [],
   "source": [
    "sample_exposures = osc.load_exposures(cameras, 'sample_5_l')"
   ]
  },
  {
   "cell_type": "code",
   "execution_count": null,
   "metadata": {},
   "outputs": [],
   "source": [
    "osc.capture_channel_images(\n",
    "    cameras, \n",
    "    sample_exposures, \n",
    "    subject='sample_5_l_d', \n",
    "    img_type='drk',\n",
    "    repeats=10,\n",
    "    roi=False, \n",
    "    show_img=False,\n",
    "    save_img=True)"
   ]
  },
  {
   "attachments": {},
   "cell_type": "markdown",
   "metadata": {},
   "source": [
    "## Right "
   ]
  },
  {
   "attachments": {},
   "cell_type": "markdown",
   "metadata": {},
   "source": [
    "### Sample 1"
   ]
  },
  {
   "cell_type": "code",
   "execution_count": null,
   "metadata": {},
   "outputs": [],
   "source": [
    "sample_exposures = osc.load_exposures(cameras, 'sample_1_r')"
   ]
  },
  {
   "cell_type": "code",
   "execution_count": null,
   "metadata": {},
   "outputs": [],
   "source": [
    "osc.capture_channel_images(\n",
    "    cameras, \n",
    "    sample_exposures, \n",
    "    subject='sample_1_r_d', \n",
    "    img_type='drk',\n",
    "    repeats=10,\n",
    "    roi=False, \n",
    "    show_img=False,\n",
    "    save_img=True)"
   ]
  },
  {
   "attachments": {},
   "cell_type": "markdown",
   "metadata": {},
   "source": [
    "### Sample 2"
   ]
  },
  {
   "cell_type": "code",
   "execution_count": null,
   "metadata": {},
   "outputs": [],
   "source": [
    "sample_exposures = osc.load_exposures(cameras, 'sample_2_r')"
   ]
  },
  {
   "cell_type": "code",
   "execution_count": null,
   "metadata": {},
   "outputs": [],
   "source": [
    "osc.capture_channel_images(\n",
    "    cameras, \n",
    "    sample_exposures, \n",
    "    subject='sample_2_r_d', \n",
    "    img_type='drk',\n",
    "    repeats=10,\n",
    "    roi=False, \n",
    "    show_img=False,\n",
    "    save_img=True)"
   ]
  },
  {
   "attachments": {},
   "cell_type": "markdown",
   "metadata": {},
   "source": [
    "### Sample 3"
   ]
  },
  {
   "cell_type": "code",
   "execution_count": null,
   "metadata": {},
   "outputs": [],
   "source": [
    "sample_exposures = osc.load_exposures(cameras, 'sample_3_r')"
   ]
  },
  {
   "cell_type": "code",
   "execution_count": null,
   "metadata": {},
   "outputs": [],
   "source": [
    "osc.capture_channel_images(\n",
    "    cameras, \n",
    "    sample_exposures, \n",
    "    subject='sample_3_r_d', \n",
    "    img_type='drk',\n",
    "    repeats=10,\n",
    "    roi=False, \n",
    "    show_img=False,\n",
    "    save_img=True)"
   ]
  },
  {
   "attachments": {},
   "cell_type": "markdown",
   "metadata": {},
   "source": [
    "### Sample 4"
   ]
  },
  {
   "cell_type": "code",
   "execution_count": null,
   "metadata": {},
   "outputs": [],
   "source": [
    "sample_exposures = osc.load_exposures(cameras, 'sample_4_r')"
   ]
  },
  {
   "cell_type": "code",
   "execution_count": null,
   "metadata": {},
   "outputs": [],
   "source": [
    "osc.capture_channel_images(\n",
    "    cameras, \n",
    "    sample_exposures, \n",
    "    subject='sample_4_r_d', \n",
    "    img_type='drk',\n",
    "    repeats=10,\n",
    "    roi=False, \n",
    "    show_img=False,\n",
    "    save_img=True)"
   ]
  },
  {
   "attachments": {},
   "cell_type": "markdown",
   "metadata": {},
   "source": [
    "### Sample 5"
   ]
  },
  {
   "cell_type": "code",
   "execution_count": null,
   "metadata": {},
   "outputs": [],
   "source": [
    "sample_exposures = osc.load_exposures(cameras, 'sample_5_r')"
   ]
  },
  {
   "cell_type": "code",
   "execution_count": null,
   "metadata": {},
   "outputs": [],
   "source": [
    "osc.capture_channel_images(\n",
    "    cameras, \n",
    "    sample_exposures, \n",
    "    subject='sample_5_r_d', \n",
    "    img_type='drk',\n",
    "    repeats=10,\n",
    "    roi=False, \n",
    "    show_img=False,\n",
    "    save_img=True)"
   ]
  },
  {
   "attachments": {},
   "cell_type": "markdown",
   "metadata": {},
   "source": [
    "# Repeat Dark Calibration Target Imaging\n",
    "\n",
    "Repeating for validating the spectral reflectance retrieval, and if neccessary for further reflectance calibration, afgter the complete sequence has been captured."
   ]
  },
  {
   "attachments": {},
   "cell_type": "markdown",
   "metadata": {},
   "source": [
    "Find the optimal exposures for dark calibration target imaging."
   ]
  },
  {
   "cell_type": "code",
   "execution_count": null,
   "metadata": {},
   "outputs": [],
   "source": [
    "dark_calibration_exposures = osc.find_channel_exposures(cameras, init_t_exp=1.0, limit=10)"
   ]
  },
  {
   "attachments": {},
   "cell_type": "markdown",
   "metadata": {},
   "source": [
    "Check the calibration target images."
   ]
  },
  {
   "cell_type": "code",
   "execution_count": null,
   "metadata": {},
   "outputs": [],
   "source": [
    "osc.capture_channel_images(\n",
    "    cameras, \n",
    "    dark_calibration_exposures, \n",
    "    subject='Dark Calibration Check', \n",
    "    roi=True, \n",
    "    show_img=True)"
   ]
  },
  {
   "attachments": {},
   "cell_type": "markdown",
   "metadata": {},
   "source": [
    "Capture 10 repeat images of the calibration target in each channel."
   ]
  },
  {
   "cell_type": "code",
   "execution_count": null,
   "metadata": {},
   "outputs": [],
   "source": [
    "osc.capture_channel_images(\n",
    "    cameras, \n",
    "    calibration_exposures, \n",
    "    subject='dark_reflectance_calibration_2', \n",
    "    repeats=10,\n",
    "    roi=False, \n",
    "    show_img=False,\n",
    "    save_img=True)"
   ]
  },
  {
   "attachments": {},
   "cell_type": "markdown",
   "metadata": {},
   "source": [
    "Write the exposures to file."
   ]
  },
  {
   "cell_type": "code",
   "execution_count": null,
   "metadata": {},
   "outputs": [],
   "source": [
    "osc.record_exposures(cameras, dark_calibration_exposures, 'dark_reflectance_calibration_2')"
   ]
  },
  {
   "cell_type": "code",
   "execution_count": null,
   "metadata": {},
   "outputs": [],
   "source": [
    "calibration_exposures = osc.load_exposures(cameras, 'dark_reflectance_calibration_2')"
   ]
  },
  {
   "cell_type": "code",
   "execution_count": null,
   "metadata": {},
   "outputs": [],
   "source": [
    "osc.capture_channel_images(\n",
    "    cameras, \n",
    "    calibration_exposures, \n",
    "    subject='dark_reflectance_calibration_2', \n",
    "    img_type='drk',\n",
    "    repeats=10,\n",
    "    roi=False, \n",
    "    show_img=False,\n",
    "    save_img=True)"
   ]
  },
  {
   "attachments": {},
   "cell_type": "markdown",
   "metadata": {},
   "source": [
    "# Repeat Reflectance Calibration\n",
    "\n",
    "Also repeat the capture of reflectance calibration images at the end of the sequence.\n",
    "Noe it may have been too long with inactivity on both the cameras and the lamp for this to be effective. To emulate, let's capture dummy repeat dark frames."
   ]
  },
  {
   "attachments": {},
   "cell_type": "markdown",
   "metadata": {},
   "source": [
    "Find the optimal exposures for calibration target imaging."
   ]
  },
  {
   "cell_type": "code",
   "execution_count": null,
   "metadata": {},
   "outputs": [],
   "source": [
    "calibration_exposures = osc.find_channel_exposures(cameras)"
   ]
  },
  {
   "attachments": {},
   "cell_type": "markdown",
   "metadata": {},
   "source": [
    "Check the calibration target images."
   ]
  },
  {
   "cell_type": "code",
   "execution_count": null,
   "metadata": {},
   "outputs": [],
   "source": [
    "osc.capture_channel_images(\n",
    "    cameras, \n",
    "    calibration_exposures, \n",
    "    subject='Calibration Check', \n",
    "    roi=True, \n",
    "    show_img=True)"
   ]
  },
  {
   "attachments": {},
   "cell_type": "markdown",
   "metadata": {},
   "source": [
    "Capture 10 repeat images of the calibration target in each channel."
   ]
  },
  {
   "cell_type": "code",
   "execution_count": null,
   "metadata": {},
   "outputs": [],
   "source": [
    "osc.capture_channel_images(\n",
    "    cameras, \n",
    "    calibration_exposures, \n",
    "    subject='reflectance_calibration_2', \n",
    "    repeats=10,\n",
    "    roi=False, \n",
    "    show_img=False,\n",
    "    save_img=True)"
   ]
  },
  {
   "attachments": {},
   "cell_type": "markdown",
   "metadata": {},
   "source": [
    "Write the exposures to file."
   ]
  },
  {
   "cell_type": "code",
   "execution_count": null,
   "metadata": {},
   "outputs": [],
   "source": [
    "osc.record_exposures(cameras, calibration_exposures, 'reflectance_calibration_2')"
   ]
  },
  {
   "cell_type": "code",
   "execution_count": null,
   "metadata": {},
   "outputs": [],
   "source": [
    "calibration_exposures = osc.load_exposures(cameras, 'reflectance_calibration_2')"
   ]
  },
  {
   "cell_type": "code",
   "execution_count": null,
   "metadata": {},
   "outputs": [],
   "source": [
    "osc.capture_channel_images(\n",
    "    cameras, \n",
    "    calibration_exposures, \n",
    "    subject='reflectance_calibration_2', \n",
    "    img_type='drk',\n",
    "    repeats=10,\n",
    "    roi=False, \n",
    "    show_img=False,\n",
    "    save_img=True)"
   ]
  },
  {
   "attachments": {},
   "cell_type": "markdown",
   "metadata": {},
   "source": []
  }
 ],
 "metadata": {
  "kernelspec": {
   "display_name": "orochi_sim_ctrl",
   "language": "python",
   "name": "python3"
  },
  "language_info": {
   "codemirror_mode": {
    "name": "ipython",
    "version": 3
   },
   "file_extension": ".py",
   "mimetype": "text/x-python",
   "name": "python",
   "nbconvert_exporter": "python",
   "pygments_lexer": "ipython3",
   "version": "3.10.11"
  },
  "orig_nbformat": 4
 },
 "nbformat": 4,
 "nbformat_minor": 2
}

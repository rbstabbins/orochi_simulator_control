{
 "cells": [
  {
   "attachments": {},
   "cell_type": "markdown",
   "metadata": {},
   "source": [
    "Here we have some simple tests for camera connection and image capture."
   ]
  },
  {
   "cell_type": "code",
   "execution_count": 23,
   "metadata": {},
   "outputs": [],
   "source": [
    "%reload_ext autoreload\n",
    "%autoreload 2\n",
    "%matplotlib inline"
   ]
  },
  {
   "attachments": {},
   "cell_type": "markdown",
   "metadata": {},
   "source": [
    "# Get list of connected cameras"
   ]
  },
  {
   "cell_type": "code",
   "execution_count": 24,
   "metadata": {},
   "outputs": [],
   "source": [
    "import orochi_sim_ctrl as osc\n",
    "\n",
    "ic = osc.start_ic()\n",
    "connected_cameras = osc.get_connected_cameras(ic)"
   ]
  },
  {
   "cell_type": "code",
   "execution_count": 25,
   "metadata": {},
   "outputs": [
    {
     "data": {
      "text/plain": [
       "['DMK 33GX249 10910288',\n",
       " 'DMK 33GX249 10910273',\n",
       " 'DMK 33GX249 10910289',\n",
       " 'DMK 33GX249 10910291',\n",
       " 'DMK 33GX249 10910295',\n",
       " 'DMK 33GX249 23120778']"
      ]
     },
     "execution_count": 25,
     "metadata": {},
     "output_type": "execute_result"
    }
   ],
   "source": [
    "connected_cameras"
   ]
  },
  {
   "attachments": {},
   "cell_type": "markdown",
   "metadata": {},
   "source": [
    "# Connect to one of the cameras"
   ]
  },
  {
   "cell_type": "code",
   "execution_count": 26,
   "metadata": {},
   "outputs": [],
   "source": [
    "test_cam_name = connected_cameras[1]"
   ]
  },
  {
   "cell_type": "code",
   "execution_count": 27,
   "metadata": {},
   "outputs": [
    {
     "name": "stdout",
     "output_type": "stream",
     "text": [
      "Device None (DMK 33GX249 10910273) succesfully connected.\n"
     ]
    }
   ],
   "source": [
    "test_cam = osc.Channel(test_cam_name, None, ic)"
   ]
  },
  {
   "attachments": {},
   "cell_type": "markdown",
   "metadata": {},
   "source": [
    "# Get properties of the Camera to demonstrate connection"
   ]
  },
  {
   "cell_type": "code",
   "execution_count": 28,
   "metadata": {},
   "outputs": [
    {
     "data": {
      "text/plain": [
       "(1920, 1200, 55296000, 3)"
      ]
     },
     "execution_count": 28,
     "metadata": {},
     "output_type": "execute_result"
    }
   ],
   "source": [
    "test_cam.get_image_info()"
   ]
  },
  {
   "attachments": {},
   "cell_type": "markdown",
   "metadata": {},
   "source": [
    "# Capture an Image"
   ]
  },
  {
   "cell_type": "code",
   "execution_count": 29,
   "metadata": {},
   "outputs": [
    {
     "name": "stdout",
     "output_type": "stream",
     "text": [
      "Brightness Value set to 416\n",
      "Contrast Value set to 0\n",
      "Sharpness Value set to 0\n",
      "Gamma Value set to 100\n",
      "Gain Value set to 0.0\n",
      "Gain Auto set to 0\n",
      "Exposure Value set to 0.009999999776482582\n",
      "Exposure Auto set to 1\n",
      "Exposure Auto Reference set to 80\n",
      "Exposure Auto Max Value set to 10.0\n",
      "Exposure Auto Max Auto set to 0\n",
      "Trigger Enable set to 0\n",
      "Denoise Value set to 0\n",
      "Flip Horizontal Enable set to 0\n",
      "Flip Vertical Enable set to 0\n",
      "Highlight Reduction Enable set to 0\n",
      "Tone Mapping Enable set to 0\n",
      "Strobe Enable set to 0\n",
      "Auto Functions ROI Enabled set to 0\n"
     ]
    }
   ],
   "source": [
    "test_cam.set_defaults()"
   ]
  },
  {
   "cell_type": "code",
   "execution_count": 30,
   "metadata": {},
   "outputs": [],
   "source": [
    "img = test_cam.image_capture()"
   ]
  },
  {
   "cell_type": "code",
   "execution_count": 31,
   "metadata": {},
   "outputs": [
    {
     "data": {
      "image/png": "[encoded data removed]",
      "text/plain": [
       "<Figure size 580x410 with 2 Axes>"
      ]
     },
     "metadata": {},
     "output_type": "display_data"
    }
   ],
   "source": [
    "test_cam.show_image(img, 'test')"
   ]
  },
  {
   "cell_type": "code",
   "execution_count": 32,
   "metadata": {},
   "outputs": [
    {
     "data": {
      "text/plain": [
       "1"
      ]
     },
     "execution_count": 32,
     "metadata": {},
     "output_type": "execute_result"
    }
   ],
   "source": [
    "test_cam.ic.IC_ShowPropertyDialog(test_cam.grabber)"
   ]
  },
  {
   "cell_type": "code",
   "execution_count": 33,
   "metadata": {},
   "outputs": [
    {
     "data": {
      "text/plain": [
       "0.009998999536037445"
      ]
     },
     "execution_count": 33,
     "metadata": {},
     "output_type": "execute_result"
    }
   ],
   "source": [
    "test_cam.get_exposure_value()"
   ]
  },
  {
   "attachments": {},
   "cell_type": "markdown",
   "metadata": {},
   "source": [
    "# Check the auto-exposure method"
   ]
  },
  {
   "cell_type": "code",
   "execution_count": 35,
   "metadata": {},
   "outputs": [
    {
     "name": "stdout",
     "output_type": "stream",
     "text": [
      "Initiating search:\n",
      "Exposure Auto set to 0\n",
      "Exposure Value set to 0.0010752688394859433\n",
      "Trial 0:\n",
      "Quantile: 129.0, Target: 150\n",
      "Exposure current Value: 0.001075000036507845\n",
      "Exposure Value set to 0.0012500000884756446\n",
      "Exposure set to 0.0012499999720603228 (err of 7.039065988076465e-11\n",
      "Trial 1:\n",
      "Quantile: 129.0, Target: 150\n",
      "Exposure current Value: 0.0012499999720603228\n",
      "Exposure Value set to 0.0014534883666783571\n",
      "Exposure set to 0.0014530000044032931 (err of 4.88335201733435e-07\n",
      "Trial 2:\n",
      "Quantile: 129.0, Target: 150\n",
      "Exposure current Value: 0.0014530000044032931\n",
      "Exposure Value set to 0.001689534867182374\n",
      "Exposure set to 0.001689000055193901 (err of 5.348336471376006e-07\n",
      "Trial 3:\n",
      "Quantile: 228.0, Target: 150\n",
      "Exposure current Value: 0.001689000055193901\n",
      "Exposure Value set to 0.0011111842468380928\n",
      "Exposure set to 0.0011109999613836408 (err of 1.842854544520378e-07\n",
      "Trial 4:\n",
      "Quantile: 129.0, Target: 150\n",
      "Exposure current Value: 0.0011109999613836408\n",
      "Exposure Value set to 0.0012918604770675302\n",
      "Exposure set to 0.0012910000514239073 (err of 8.603687896284896e-07\n",
      "Trial 5:\n",
      "Quantile: 129.0, Target: 150\n",
      "Exposure current Value: 0.0012910000514239073\n",
      "Exposure Value set to 0.0015011628856882453\n",
      "Exposure set to 0.0015010000206530094 (err of 1.6282983990615826e-07\n",
      "Failure to satisfy tolerance. Exiting routine.\n",
      "Exposure current Value: 0.0015010000206530094\n"
     ]
    },
    {
     "data": {
      "text/plain": [
       "0.0015010000206530094"
      ]
     },
     "execution_count": 35,
     "metadata": {},
     "output_type": "execute_result"
    }
   ],
   "source": [
    "test_cam.find_exposure(init_t_exp=1.0/930, roi=False)"
   ]
  },
  {
   "cell_type": "code",
   "execution_count": null,
   "metadata": {},
   "outputs": [],
   "source": [
    "test_cam.get_exposure_value()"
   ]
  },
  {
   "cell_type": "code",
   "execution_count": null,
   "metadata": {},
   "outputs": [],
   "source": [
    "img = test_cam.image_capture()\n",
    "test_cam.show_image(img, 'test')"
   ]
  },
  {
   "cell_type": "code",
   "execution_count": null,
   "metadata": {},
   "outputs": [],
   "source": []
  }
 ],
 "metadata": {
  "kernelspec": {
   "display_name": "orochi_sim_ctrl",
   "language": "python",
   "name": "python3"
  },
  "language_info": {
   "codemirror_mode": {
    "name": "ipython",
    "version": 3
   },
   "file_extension": ".py",
   "mimetype": "text/x-python",
   "name": "python",
   "nbconvert_exporter": "python",
   "pygments_lexer": "ipython3",
   "version": "3.10.11"
  },
  "orig_nbformat": 4
 },
 "nbformat": 4,
 "nbformat_minor": 2
}

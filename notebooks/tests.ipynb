{
 "cells": [
  {
   "attachments": {},
   "cell_type": "markdown",
   "metadata": {},
   "source": [
    "Here we have some simple tests for camera connection and image capture."
   ]
  },
  {
   "cell_type": "code",
   "execution_count": 1,
   "metadata": {},
   "outputs": [],
   "source": [
    "%reload_ext autoreload\n",
    "%autoreload 2\n",
    "%matplotlib inline"
   ]
  },
  {
   "attachments": {},
   "cell_type": "markdown",
   "metadata": {},
   "source": [
    "# Get list of connected cameras"
   ]
  },
  {
   "cell_type": "code",
   "execution_count": 2,
   "metadata": {},
   "outputs": [],
   "source": [
    "import orochi_sim_ctrl as osc\n",
    "\n",
    "ic = osc.start_ic()\n",
    "connected_cameras = osc.get_connected_cameras(ic)"
   ]
  },
  {
   "cell_type": "code",
   "execution_count": 3,
   "metadata": {},
   "outputs": [
    {
     "data": {
      "text/plain": [
       "['DMK 33GX249 10910288',\n",
       " 'DMK 33GX249 10910273',\n",
       " 'DMK 33GX249 10910289',\n",
       " 'DMK 33GX249 10910291',\n",
       " 'DMK 33GX249 10910295',\n",
       " 'DMK 33GX249 23120778']"
      ]
     },
     "execution_count": 3,
     "metadata": {},
     "output_type": "execute_result"
    }
   ],
   "source": [
    "connected_cameras"
   ]
  },
  {
   "attachments": {},
   "cell_type": "markdown",
   "metadata": {},
   "source": [
    "# Connect to one of the cameras"
   ]
  },
  {
   "cell_type": "code",
   "execution_count": 4,
   "metadata": {},
   "outputs": [],
   "source": [
    "test_cam_name = connected_cameras[0]"
   ]
  },
  {
   "cell_type": "code",
   "execution_count": 5,
   "metadata": {},
   "outputs": [
    {
     "name": "stdout",
     "output_type": "stream",
     "text": [
      "Device None (DMK 33GX249 10910288) succesfully connected.\n"
     ]
    }
   ],
   "source": [
    "test_cam = osc.Channel(test_cam_name, None, ic)"
   ]
  },
  {
   "attachments": {},
   "cell_type": "markdown",
   "metadata": {},
   "source": [
    "# Get properties of the Camera to demonstrate connection"
   ]
  },
  {
   "cell_type": "code",
   "execution_count": 6,
   "metadata": {},
   "outputs": [
    {
     "data": {
      "text/plain": [
       "(1920, 1200, 55296000, 3)"
      ]
     },
     "execution_count": 6,
     "metadata": {},
     "output_type": "execute_result"
    }
   ],
   "source": [
    "test_cam.get_image_info()"
   ]
  },
  {
   "cell_type": "code",
   "execution_count": 7,
   "metadata": {},
   "outputs": [
    {
     "name": "stdout",
     "output_type": "stream",
     "text": [
      "Brightness current Value: 416\n",
      "Contrast current Value: 0\n",
      "Sharpness current Value: 0\n",
      "Gamma current Value: 100\n",
      "Gain current Value: 0.0\n",
      "Gain current Auto: 0\n",
      "Exposure current Value: 0.015625\n",
      "Exposure current Auto: 1\n",
      "Exposure current Auto Reference: 80\n",
      "Exposure current Auto Max Value: 2.0\n",
      "Exposure current Auto Max Auto: 0\n",
      "Trigger current Enable: 0\n",
      "Denoise current Value: 0\n",
      "Flip Horizontal current Enable: 0\n",
      "Flip Vertical current Enable: 0\n",
      "Highlight Reduction current Enable: 0\n",
      "Tone Mapping current Enable: 0\n",
      "Strobe current Enable: 0\n",
      "Auto Functions ROI current Enabled: 0\n"
     ]
    }
   ],
   "source": [
    "test_cam.get_current_state()"
   ]
  },
  {
   "attachments": {},
   "cell_type": "markdown",
   "metadata": {},
   "source": [
    "# Above will not work until camera has been streamed once"
   ]
  },
  {
   "cell_type": "code",
   "execution_count": 25,
   "metadata": {},
   "outputs": [],
   "source": [
    "test_cam.init_camera_stream()"
   ]
  },
  {
   "attachments": {},
   "cell_type": "markdown",
   "metadata": {},
   "source": [
    "Now try to get the camera info"
   ]
  },
  {
   "cell_type": "code",
   "execution_count": 28,
   "metadata": {},
   "outputs": [
    {
     "data": {
      "text/plain": [
       "(1920, 1200, 55296000, 3)"
      ]
     },
     "execution_count": 28,
     "metadata": {},
     "output_type": "execute_result"
    }
   ],
   "source": [
    "test_cam.get_image_info()"
   ]
  },
  {
   "attachments": {},
   "cell_type": "markdown",
   "metadata": {},
   "source": [
    "# Capture an Image"
   ]
  },
  {
   "cell_type": "code",
   "execution_count": 8,
   "metadata": {},
   "outputs": [
    {
     "name": "stdout",
     "output_type": "stream",
     "text": [
      "Brightness Value set to 416\n",
      "Contrast Value set to 0\n",
      "Sharpness Value set to 0\n",
      "Gamma Value set to 100\n",
      "Gain Value set to 0.0\n",
      "Gain Auto set to 0\n",
      "Exposure Value set to 0.009999999776482582\n",
      "Exposure Auto set to 1\n",
      "Exposure Auto Reference set to 80\n",
      "Exposure Auto Max Value set to 2.0\n",
      "Exposure Auto Max Auto set to 0\n",
      "Trigger Enable set to 0\n",
      "Denoise Value set to 0\n",
      "Flip Horizontal Enable set to 0\n",
      "Flip Vertical Enable set to 0\n",
      "Highlight Reduction Enable set to 0\n",
      "Tone Mapping Enable set to 0\n",
      "Strobe Enable set to 0\n",
      "Auto Functions ROI Enabled set to 0\n"
     ]
    }
   ],
   "source": [
    "test_cam.set_defaults()"
   ]
  },
  {
   "cell_type": "code",
   "execution_count": 9,
   "metadata": {},
   "outputs": [
    {
     "data": {
      "text/plain": [
       "array([[26, 26, 26, ..., 26, 26, 26],\n",
       "       [26, 26, 26, ..., 26, 26, 26],\n",
       "       [26, 26, 26, ..., 26, 26, 26],\n",
       "       ...,\n",
       "       [26, 26, 26, ..., 26, 26, 26],\n",
       "       [26, 26, 26, ..., 26, 26, 26],\n",
       "       [26, 26, 26, ..., 26, 26, 26]], dtype=uint8)"
      ]
     },
     "execution_count": 9,
     "metadata": {},
     "output_type": "execute_result"
    }
   ],
   "source": [
    "test_cam.image_capture()"
   ]
  },
  {
   "cell_type": "code",
   "execution_count": null,
   "metadata": {},
   "outputs": [],
   "source": []
  }
 ],
 "metadata": {
  "kernelspec": {
   "display_name": "orochi_sim_ctrl",
   "language": "python",
   "name": "python3"
  },
  "language_info": {
   "codemirror_mode": {
    "name": "ipython",
    "version": 3
   },
   "file_extension": ".py",
   "mimetype": "text/x-python",
   "name": "python",
   "nbconvert_exporter": "python",
   "pygments_lexer": "ipython3",
   "version": "3.10.11"
  },
  "orig_nbformat": 4
 },
 "nbformat": 4,
 "nbformat_minor": 2
}

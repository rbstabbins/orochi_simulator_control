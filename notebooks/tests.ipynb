{
 "cells": [
  {
   "attachments": {},
   "cell_type": "markdown",
   "metadata": {},
   "source": [
    "Here we have some simple tests for camera connection and image capture."
   ]
  },
  {
   "cell_type": "code",
   "execution_count": 1,
   "metadata": {},
   "outputs": [],
   "source": [
    "%reload_ext autoreload\n",
    "%autoreload 2\n",
    "%matplotlib inline"
   ]
  },
  {
   "attachments": {},
   "cell_type": "markdown",
   "metadata": {},
   "source": [
    "Test Simple Image Capture"
   ]
  },
  {
   "cell_type": "code",
   "execution_count": 31,
   "metadata": {},
   "outputs": [],
   "source": [
    "import orochi_sim_ctrl as osc\n",
    "import tisgrabber as tis\n",
    "import ctypes\n",
    "import numpy as np\n",
    "\n",
    "ic = osc.start_ic()\n",
    "connected_cameras = osc.get_connected_cameras(ic)"
   ]
  },
  {
   "cell_type": "code",
   "execution_count": 32,
   "metadata": {},
   "outputs": [
    {
     "data": {
      "text/plain": [
       "'DMK 33GX249 10910273'"
      ]
     },
     "execution_count": 32,
     "metadata": {},
     "output_type": "execute_result"
    }
   ],
   "source": [
    "test_cam = connected_cameras[1]\n",
    "test_cam"
   ]
  },
  {
   "cell_type": "code",
   "execution_count": 33,
   "metadata": {},
   "outputs": [
    {
     "data": {
      "text/plain": [
       "1"
      ]
     },
     "execution_count": 33,
     "metadata": {},
     "output_type": "execute_result"
    }
   ],
   "source": [
    "grabber = ic.IC_CreateGrabber()\n",
    "ic.IC_OpenDevByUniqueName(grabber, tis.T(test_cam))"
   ]
  },
  {
   "cell_type": "code",
   "execution_count": 34,
   "metadata": {},
   "outputs": [
    {
     "name": "stdout",
     "output_type": "stream",
     "text": [
      "c_long(0)\n",
      "c_long(0)\n",
      "0\n",
      "0\n"
     ]
    }
   ],
   "source": [
    "width = ctypes.c_long()\n",
    "height = ctypes.c_long()\n",
    "bits = ctypes.c_long()\n",
    "col_fmt = ctypes.c_int()\n",
    "\n",
    "ic.IC_GetImageDescription(grabber, width, height,\n",
    "                        bits, col_fmt)\n",
    "\n",
    "bpp = int(bits.value / 8.0)\n",
    "buffer_size = width.value * height.value * bits.value\n",
    "\n",
    "print(width)\n",
    "print(height)\n",
    "print(buffer_size)\n",
    "print(bpp)"
   ]
  },
  {
   "cell_type": "code",
   "execution_count": 35,
   "metadata": {},
   "outputs": [],
   "source": [
    "ic.IC_StartLive(grabber,1)\n",
    "ic.IC_SnapImage(grabber, 2000) == tis.IC_SUCCESS\n",
    "ic.IC_StopLive(grabber,1)\n",
    "imagePtr = ic.IC_GetImagePtr(grabber)\n",
    "\n",
    "# Get the image data\n",
    "imagePtr = ic.IC_GetImagePtr(grabber)\n",
    "\n",
    "imagedata = ctypes.cast(imagePtr,\n",
    "                        ctypes.POINTER(ctypes.c_ubyte *\n",
    "                                    buffer_size))\n",
    "\n",
    "# Create the numpy array\n",
    "image = np.ndarray(buffer=imagedata.contents,\n",
    "                dtype=np.uint8,\n",
    "                shape=(height.value, width.value, bpp))"
   ]
  },
  {
   "cell_type": "code",
   "execution_count": 36,
   "metadata": {},
   "outputs": [
    {
     "data": {
      "text/plain": [
       "array([], shape=(0, 0, 0), dtype=uint8)"
      ]
     },
     "execution_count": 36,
     "metadata": {},
     "output_type": "execute_result"
    }
   ],
   "source": [
    "image"
   ]
  },
  {
   "attachments": {},
   "cell_type": "markdown",
   "metadata": {},
   "source": [
    "Test Image Capture from Connected Camera Device"
   ]
  },
  {
   "cell_type": "code",
   "execution_count": 5,
   "metadata": {},
   "outputs": [
    {
     "name": "stdout",
     "output_type": "stream",
     "text": [
      "Device None (DMK 33GX249 10910288) succesfully connected.\n"
     ]
    }
   ],
   "source": [
    "test_channel = osc.Channel(test_cam, None, ic)"
   ]
  },
  {
   "cell_type": "code",
   "execution_count": 7,
   "metadata": {},
   "outputs": [
    {
     "name": "stdout",
     "output_type": "stream",
     "text": [
      "Brightness Value set to 416\n",
      "Contrast Value set to 0\n",
      "Sharpness Value set to 0\n",
      "Gamma Value set to 100\n",
      "Gain Value set to 0.0\n",
      "Gain Auto set to 0\n",
      "Exposure Value set to 0.009999999776482582\n",
      "Exposure Auto set to 1\n",
      "Exposure Auto Reference set to 80\n",
      "Exposure Auto Max Value set to 2.0\n",
      "Exposure Auto Max Auto set to 0\n",
      "Trigger Enable set to 0\n",
      "Denoise Value set to 0\n",
      "Flip Horizontal Enable set to 0\n",
      "Flip Vertical Enable set to 0\n",
      "Highlight Reduction Enable set to 0\n",
      "Tone Mapping Enable set to 0\n",
      "Strobe Enable set to 0\n",
      "Auto Functions ROI Enabled set to 0\n"
     ]
    }
   ],
   "source": [
    "test_channel.set_defaults()"
   ]
  },
  {
   "cell_type": "code",
   "execution_count": 9,
   "metadata": {},
   "outputs": [
    {
     "data": {
      "text/plain": [
       "(0, 0, 0, 0)"
      ]
     },
     "execution_count": 9,
     "metadata": {},
     "output_type": "execute_result"
    }
   ],
   "source": [
    "test_channel.get_image_info()"
   ]
  },
  {
   "cell_type": "code",
   "execution_count": null,
   "metadata": {},
   "outputs": [],
   "source": []
  }
 ],
 "metadata": {
  "kernelspec": {
   "display_name": "orochi_sim_ctrl",
   "language": "python",
   "name": "python3"
  },
  "language_info": {
   "codemirror_mode": {
    "name": "ipython",
    "version": 3
   },
   "file_extension": ".py",
   "mimetype": "text/x-python",
   "name": "python",
   "nbconvert_exporter": "python",
   "pygments_lexer": "ipython3",
   "version": "3.10.11"
  },
  "orig_nbformat": 4
 },
 "nbformat": 4,
 "nbformat_minor": 2
}

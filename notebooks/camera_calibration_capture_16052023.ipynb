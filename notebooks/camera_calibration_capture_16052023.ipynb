{
 "cells": [
  {
   "attachments": {},
   "cell_type": "markdown",
   "metadata": {},
   "source": [
    "A notebook for capturing calibration data for the cameras of the OROCHI Simualtor of the Kameda Lab."
   ]
  },
  {
   "attachments": {},
   "cell_type": "markdown",
   "metadata": {},
   "source": [
    "# Process Overview\n",
    "\n",
    "The objective of this notebook is to capture uniformly illuminated and dark images (across the sampling area) that can be used to characterise each camera of the OROCHI simulator, in terms of:\n",
    "- Linearity\n",
    "- Read Noise\n",
    "- Gain\n",
    "- FPN\n",
    "- Dark Signal\n",
    "\n",
    "To do this, we will  capture images of the 99% Reflectance Spectralon Calibration Target (SCT99) and the 5% Reflectance Spectral Calibration Target (SCT5), and images without illumination, at exposures that range from the minimum possible with the cameras (~5 µs) up to a maximum, defined such that all pixels of the image are saturated (DN=255)."
   ]
  },
  {
   "attachments": {},
   "cell_type": "markdown",
   "metadata": {},
   "source": [
    "For each exposure, we will capture:\n",
    "- 2 illuminated images of the target\n",
    "- 25 dark images (to reduce read noise by factor of 5)\n",
    "\n",
    "We will choose exposures with the following procedure:\n",
    "1. Start at minimum exposure - capture pair, record exposure\n",
    "2. Double exposure - capture pair, record exposure\n",
    "3. Repeat until all pixels are saturated - i.e. all = 255\n",
    "4. Reduce exposure by factor of 0.90, and repeat, until 0 pixels are saturated.\n",
    "\n",
    "This process will be repeated for SCT99 and SCT5, and then again for dark images.\n",
    "Then, 25 dark frames will be captured for each exposure, and the mean and standard deviation TIFF float images recorded.\n"
   ]
  },
  {
   "attachments": {},
   "cell_type": "markdown",
   "metadata": {},
   "source": [
    "# Camera Setup\n",
    "\n",
    "Here we configure and setup the camera capture objects."
   ]
  },
  {
   "cell_type": "code",
   "execution_count": 1,
   "metadata": {},
   "outputs": [],
   "source": [
    "%reload_ext autoreload\n",
    "%autoreload 2\n",
    "%matplotlib inline"
   ]
  },
  {
   "cell_type": "code",
   "execution_count": 4,
   "metadata": {},
   "outputs": [
    {
     "ename": "OSError",
     "evalue": "dlopen(/Users/sci/Documents/projects/orochi_simulator_control/tisgrabber/samples/tisgrabber_x64.dll, 0x0006): tried: '/Users/sci/Documents/projects/orochi_simulator_control/tisgrabber/samples/tisgrabber_x64.dll' (not a mach-o file)",
     "output_type": "error",
     "traceback": [
      "\u001b[0;31m---------------------------------------------------------------------------\u001b[0m",
      "\u001b[0;31mOSError\u001b[0m                                   Traceback (most recent call last)",
      "Cell \u001b[0;32mIn[4], line 3\u001b[0m\n\u001b[1;32m      1\u001b[0m \u001b[39mimport\u001b[39;00m \u001b[39morochi_sim_ctrl\u001b[39;00m \u001b[39mas\u001b[39;00m \u001b[39mosc\u001b[39;00m\n\u001b[0;32m----> 3\u001b[0m ic \u001b[39m=\u001b[39m osc\u001b[39m.\u001b[39;49mstart_ic()\n\u001b[1;32m      4\u001b[0m camera_config \u001b[39m=\u001b[39m osc\u001b[39m.\u001b[39mload_camera_config()\n\u001b[1;32m      5\u001b[0m cameras \u001b[39m=\u001b[39m osc\u001b[39m.\u001b[39mconnect_cameras(ic, camera_config)\n",
      "File \u001b[0;32m~/Documents/projects/orochi_simulator_control/src/orochi_sim_ctrl.py:494\u001b[0m, in \u001b[0;36mstart_ic\u001b[0;34m()\u001b[0m\n\u001b[1;32m    491\u001b[0m tis_dll \u001b[39m=\u001b[39m \u001b[39mstr\u001b[39m(Path(tis_dir, \u001b[39m'\u001b[39m\u001b[39mtisgrabber_x64.dll\u001b[39m\u001b[39m'\u001b[39m))\n\u001b[1;32m    493\u001b[0m \u001b[39m# Load/Initiate the tisgrabber library\u001b[39;00m\n\u001b[0;32m--> 494\u001b[0m ic \u001b[39m=\u001b[39m ctypes\u001b[39m.\u001b[39;49mcdll\u001b[39m.\u001b[39;49mLoadLibrary(tis_dll)\n\u001b[1;32m    495\u001b[0m tis\u001b[39m.\u001b[39mdeclareFunctions(ic)\n\u001b[1;32m    496\u001b[0m ic\u001b[39m.\u001b[39mIC_InitLibrary(\u001b[39m0\u001b[39m)\n",
      "File \u001b[0;32m/opt/homebrew/Caskroom/miniconda/base/envs/orochi_sim_ctrl/lib/python3.10/ctypes/__init__.py:452\u001b[0m, in \u001b[0;36mLibraryLoader.LoadLibrary\u001b[0;34m(self, name)\u001b[0m\n\u001b[1;32m    451\u001b[0m \u001b[39mdef\u001b[39;00m \u001b[39mLoadLibrary\u001b[39m(\u001b[39mself\u001b[39m, name):\n\u001b[0;32m--> 452\u001b[0m     \u001b[39mreturn\u001b[39;00m \u001b[39mself\u001b[39;49m\u001b[39m.\u001b[39;49m_dlltype(name)\n",
      "File \u001b[0;32m/opt/homebrew/Caskroom/miniconda/base/envs/orochi_sim_ctrl/lib/python3.10/ctypes/__init__.py:374\u001b[0m, in \u001b[0;36mCDLL.__init__\u001b[0;34m(self, name, mode, handle, use_errno, use_last_error, winmode)\u001b[0m\n\u001b[1;32m    371\u001b[0m \u001b[39mself\u001b[39m\u001b[39m.\u001b[39m_FuncPtr \u001b[39m=\u001b[39m _FuncPtr\n\u001b[1;32m    373\u001b[0m \u001b[39mif\u001b[39;00m handle \u001b[39mis\u001b[39;00m \u001b[39mNone\u001b[39;00m:\n\u001b[0;32m--> 374\u001b[0m     \u001b[39mself\u001b[39m\u001b[39m.\u001b[39m_handle \u001b[39m=\u001b[39m _dlopen(\u001b[39mself\u001b[39;49m\u001b[39m.\u001b[39;49m_name, mode)\n\u001b[1;32m    375\u001b[0m \u001b[39melse\u001b[39;00m:\n\u001b[1;32m    376\u001b[0m     \u001b[39mself\u001b[39m\u001b[39m.\u001b[39m_handle \u001b[39m=\u001b[39m handle\n",
      "\u001b[0;31mOSError\u001b[0m: dlopen(/Users/sci/Documents/projects/orochi_simulator_control/tisgrabber/samples/tisgrabber_x64.dll, 0x0006): tried: '/Users/sci/Documents/projects/orochi_simulator_control/tisgrabber/samples/tisgrabber_x64.dll' (not a mach-o file)"
     ]
    }
   ],
   "source": [
    "import orochi_sim_ctrl as osc\n",
    "\n",
    "ic = osc.start_ic()\n",
    "camera_config = osc.load_camera_config()\n",
    "cameras = osc.connect_cameras(ic, camera_config)\n",
    "osc.configure_cameras(cameras)"
   ]
  },
  {
   "cell_type": "code",
   "execution_count": 3,
   "metadata": {},
   "outputs": [],
   "source": [
    "from pathlib import Path\n",
    "import numpy as np\n",
    "from matplotlib import pyplot as plt\n",
    "import pandas as pd"
   ]
  },
  {
   "attachments": {},
   "cell_type": "markdown",
   "metadata": {},
   "source": [
    "Here we are only going to process images over the calibration target itself, so we restrict the ROI to a very small field of 32x32 pixels.\n",
    "Statistics are therfore computed over 1024 pixels in each case."
   ]
  },
  {
   "cell_type": "code",
   "execution_count": null,
   "metadata": {},
   "outputs": [],
   "source": [
    "osc.find_camera_rois(cameras, roi_size=32)"
   ]
  },
  {
   "attachments": {},
   "cell_type": "markdown",
   "metadata": {},
   "source": [
    "# Calibration Functions\n",
    "\n",
    "Here we define simple functions for controlling the cameras during the calibration routines."
   ]
  },
  {
   "cell_type": "code",
   "execution_count": null,
   "metadata": {},
   "outputs": [],
   "source": [
    "def camera_calibration_sequence(camera, subject) -> pd.DataFrame:\n",
    "    \"\"\"Capture pairs of images with increasing exposure time until all\n",
    "    pixels are saturated, then decrease exposure time until no pixels are \n",
    "    saturated.\n",
    "    \n",
    "    Args:\n",
    "        camera: Camera object to capture images from.\n",
    "    \n",
    "    Returns:\n",
    "        DataFrame with columns:\n",
    "            - exposure\n",
    "            - mean\n",
    "            - std\n",
    "    \"\"\"\n",
    "    camera.set_property('Exposure', 'Auto', 0, 'Switch')        \n",
    "    t_min = 1.0/16384 # (seconds) verify that this is the minimum exposure time\n",
    "    t_max = 0.5\n",
    "    t_exp = t_min\n",
    "    t_scale = 2.0\n",
    "    img_type='calibration'\n",
    "    stop = False    \n",
    "    exposures = []\n",
    "    means = []\n",
    "    stds = []\n",
    "    shots = []\n",
    "    while stop is False:\n",
    "        camera.set_property('Exposure', 'Value', t_exp, 'AbsoluteValue')\n",
    "        img_1 = camera.image_capture(roi=True)\n",
    "        img_2 = camera.image_capture(roi=True)\n",
    "        name_1 = f'{t_exp*1E6:.0f}us_1'\n",
    "        name_2 = f'{t_exp*1E6:.0f}us_2'\n",
    "        camera.save_image(name_1, subject, img_type, img_1)\n",
    "        camera.save_image(name_2, subject, img_type, img_2)\n",
    "        exposures.append(t_exp)\n",
    "        mean = np.mean([np.mean(img_1), np.mean(img_2)])\n",
    "        std = np.mean([np.std(img_1), np.std(img_2)])\n",
    "        shot = np.sqrt(np.mean((img_1 - img_2)**2)/2)\n",
    "        means.append(mean)\n",
    "        stds.append(std)\n",
    "        shots.append(shot)\n",
    "        if mean == 255.0 and std == 0.0:\n",
    "            t_scale = 0.75\n",
    "        if t_scale == 0.75:\n",
    "            n_sat = (np.sum(img_1 == 255) + np.sum(img_2 == 255)) / 2\n",
    "            if n_sat == 0:\n",
    "                stop = True\n",
    "        else:\n",
    "            if t_exp*t_scale > t_max:\n",
    "                t_scale = 0.75\n",
    "        t_exp = t_exp * t_scale\n",
    "\n",
    "    results = pd.DataFrame({'exposure': exposures, 'raw mean': means, 'raw standard deviation': stds, 'shot and read noise': shots})\n",
    "    results.sort_values('exposure', inplace=True)\n",
    "\n",
    "    print(results)\n",
    "\n",
    "    cwl_str = str(int(camera.camera_props['cwl']))\n",
    "    channel = str(camera.camera_props['number'])+'_'+cwl_str\n",
    "    subject_dir = Path('..', 'data', subject, channel)\n",
    "    subject_dir.mkdir(parents=True, exist_ok=True)    \n",
    "    filepath =str(Path(subject_dir, 'exposures').with_suffix('.csv'))\n",
    "\n",
    "    results['exposure'].to_csv(filepath, index=False)\n",
    "\n",
    "    fig, ax = plt.subplots(2,1, figsize=(5,10))\n",
    "    ax[0].plot(results['exposure'], results['raw mean'])\n",
    "    ax[0].set_xlabel('Exposure (s)')\n",
    "    ax[0].set_ylabel('Mean Pixel Value')\n",
    "    results.sort_values('raw mean', inplace=True)\n",
    "    ax[1].loglog(results['raw mean'], results['raw standard deviation'], label='Total Noise')\n",
    "    ax[1].loglog(results['raw mean'], results['shot and read noise'], label='Shot and Read Noise')\n",
    "    ax[1].set_xlabel('Mean Pixel Value')\n",
    "    ax[1].set_ylabel('Standard Deviation')\n",
    "    plt.show()\n",
    "    return exposures"
   ]
  },
  {
   "attachments": {},
   "cell_type": "markdown",
   "metadata": {},
   "source": [
    "# SCT99 Procedure"
   ]
  },
  {
   "attachments": {},
   "cell_type": "markdown",
   "metadata": {},
   "source": [
    "Output:\n",
    "- SCT99 Exposure List\n",
    "- SCT99 Lit Image Directory"
   ]
  },
  {
   "cell_type": "code",
   "execution_count": null,
   "metadata": {},
   "outputs": [],
   "source": [
    "sct99_exposures = {}\n",
    "for camera in cameras:\n",
    "    sct99_exposures[camera] = camera_calibration_sequence(camera, 'SCT99')"
   ]
  },
  {
   "attachments": {},
   "cell_type": "markdown",
   "metadata": {},
   "source": [
    "# SCT5 Procedure"
   ]
  },
  {
   "attachments": {},
   "cell_type": "markdown",
   "metadata": {},
   "source": [
    "Output:\n",
    "- SCT5 Exposure List\n",
    "- SCT5 Lit Image Directory"
   ]
  },
  {
   "cell_type": "code",
   "execution_count": null,
   "metadata": {},
   "outputs": [],
   "source": [
    "sct5_exposures = {}\n",
    "for camera in cameras:\n",
    "    sct5_exposures[camera] = camera_calibration_sequence(camera, 'SCT5')"
   ]
  },
  {
   "attachments": {},
   "cell_type": "markdown",
   "metadata": {},
   "source": [
    "# Dark Signal Procedure"
   ]
  },
  {
   "attachments": {},
   "cell_type": "markdown",
   "metadata": {},
   "source": [
    "Output:\n",
    "- Dark Exposure List\n",
    "- Dark Image Directory"
   ]
  },
  {
   "cell_type": "code",
   "execution_count": null,
   "metadata": {},
   "outputs": [],
   "source": [
    "for camera in cameras:\n",
    "    dark_exposures = camera_calibration_sequence(camera, 'dark')"
   ]
  },
  {
   "attachments": {},
   "cell_type": "markdown",
   "metadata": {},
   "source": [
    "# Dark Frame Capture"
   ]
  },
  {
   "attachments": {},
   "cell_type": "markdown",
   "metadata": {},
   "source": [
    "Output:\n",
    "- addition of dark mean frames to SCT99 directory\n",
    "- addition of dark mean frames to SCT5 directory"
   ]
  },
  {
   "cell_type": "code",
   "execution_count": null,
   "metadata": {},
   "outputs": [],
   "source": [
    "for camera in cameras:\n",
    "    exposures = sct99_exposures[camera]\n",
    "    for exposure in exposures:\n",
    "        camera.set_property('Exposure', 'Value', exposure, 'AbsoluteValue')\n",
    "        drk = camera.image_capture(roi=True)\n",
    "        for i in range(24):\n",
    "            drk += camera.image_capture(roi=True)\n",
    "        drk_ave = drk.astype(np.float32)/25\n",
    "        name = f'{exposure*1E6:.0f}us_d'\n",
    "        camera.save_image(name, 'SCT99', 'drk', drk_ave)"
   ]
  },
  {
   "cell_type": "code",
   "execution_count": null,
   "metadata": {},
   "outputs": [],
   "source": [
    "for camera in cameras:\n",
    "    exposures = sct5_exposures[camera]\n",
    "    for exposure in exposures:\n",
    "        camera.set_property('Exposure', 'Value', exposure, 'AbsoluteValue')\n",
    "        drk = camera.image_capture(roi=True)\n",
    "        for i in range(24):\n",
    "            drk += camera.image_capture(roi=True)\n",
    "        drk_ave = drk.astype(np.float32)/25\n",
    "        name = f'{exposure*1E6:.0f}us_d'\n",
    "        camera.save_image(name, 'SCT5', 'drk', drk_ave)"
   ]
  }
 ],
 "metadata": {
  "kernelspec": {
   "display_name": "orochi_sim_ctrl",
   "language": "python",
   "name": "python3"
  },
  "language_info": {
   "codemirror_mode": {
    "name": "ipython",
    "version": 3
   },
   "file_extension": ".py",
   "mimetype": "text/x-python",
   "name": "python",
   "nbconvert_exporter": "python",
   "pygments_lexer": "ipython3",
   "version": "3.10.9"
  },
  "orig_nbformat": 4
 },
 "nbformat": 4,
 "nbformat_minor": 2
}

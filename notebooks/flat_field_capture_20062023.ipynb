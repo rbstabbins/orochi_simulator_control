{
 "cells": [
  {
   "attachments": {},
   "cell_type": "markdown",
   "metadata": {},
   "source": [
    "A notebook for capturing flat field data for each channel of OROS (the OROCHI Simulator)."
   ]
  },
  {
   "attachments": {},
   "cell_type": "markdown",
   "metadata": {},
   "source": [
    "# Process Overview\n",
    "\n",
    "- Find Exposure time - aim for 3000 DN exposure, for SNR of ~120.\n",
    "- Set spectralon in position\n",
    "- Capture 25 repeat images, save the average and standard deviation\n",
    "- Move spectralon\n",
    "- Repeat\n",
    "- Capture dark images at the given exposures."
   ]
  },
  {
   "attachments": {},
   "cell_type": "markdown",
   "metadata": {},
   "source": [
    "# Setup"
   ]
  },
  {
   "cell_type": "code",
   "execution_count": null,
   "metadata": {},
   "outputs": [],
   "source": [
    "%reload_ext autoreload\n",
    "%autoreload 2\n",
    "%matplotlib inline"
   ]
  },
  {
   "cell_type": "code",
   "execution_count": null,
   "metadata": {},
   "outputs": [],
   "source": [
    "import numpy as np\n",
    "import orochi_sim_ctrl as osc"
   ]
  },
  {
   "cell_type": "code",
   "execution_count": null,
   "metadata": {},
   "outputs": [],
   "source": [
    "ic = osc.start_ic()\n",
    "camera_config = osc.load_camera_config()\n",
    "cameras = osc.connect_cameras(ic, camera_config)\n",
    "osc.configure_cameras(cameras)"
   ]
  },
  {
   "attachments": {},
   "cell_type": "markdown",
   "metadata": {},
   "source": [
    "# Find ROIs"
   ]
  },
  {
   "cell_type": "code",
   "execution_count": null,
   "metadata": {},
   "outputs": [],
   "source": [
    "osc.find_camera_rois(cameras, roi_size=100)"
   ]
  },
  {
   "attachments": {},
   "cell_type": "markdown",
   "metadata": {},
   "source": [
    "# Find Exposures"
   ]
  },
  {
   "cell_type": "code",
   "execution_count": null,
   "metadata": {},
   "outputs": [],
   "source": [
    "ff_exposures = osc.find_channel_exposures(cameras, init_t_exp=0.03, target=3000, n_hot=5,tol=1, limit=10, roi=True)"
   ]
  },
  {
   "attachments": {},
   "cell_type": "markdown",
   "metadata": {},
   "source": [
    "# Capture Illuminated Images"
   ]
  },
  {
   "cell_type": "code",
   "execution_count": null,
   "metadata": {},
   "outputs": [],
   "source": [
    "subject = 'flat_field_illum_20062023'\n",
    "n_positions = 25\n",
    "ff_prelim = {}\n",
    "running_dmean = {}\n",
    "for camera in cameras:\n",
    "    ff_prelim[camera.name] = [np.zeros((100,100))]\n",
    "    running_dmean[camera.name] = [0.0]\n",
    "for i in np.arange(1,n_positions+1):\n",
    "    for camera in cameras:\n",
    "        t_exp = ff_exposures[camera.name]\n",
    "        camera.set_exposure(t_exp)\n",
    "        ave, std = camera.image_capture_repeat()\n",
    "        ff_prelim[camera.name].append(ave)\n",
    "        running_dmean[camera.name] = np.mean(np.abs(ff_prelim[camera.name][i-1] - np.mean(np.dstack(ff_prelim[camera.name]), axis=2)))\n",
    "        name = f'position_{i}_{camera.name}_ave'\n",
    "        camera.save_image(name, subject, 'ave', ave)\n",
    "        name = f'position_{i}_{camera.name}_std'\n",
    "        camera.save_image(name, subject, 'std', std)\n",
    "    print('Runnning mean change in mean pixel values:')\n",
    "    print(running_dmean)\n",
    "    osc.prepare_reflectance_calibration()"
   ]
  },
  {
   "attachments": {},
   "cell_type": "markdown",
   "metadata": {},
   "source": [
    "# Capture Dark Images"
   ]
  },
  {
   "cell_type": "code",
   "execution_count": null,
   "metadata": {},
   "outputs": [],
   "source": [
    "subject = 'flat_field_dark_20062023'\n",
    "for camera in cameras:\n",
    "    t_exp = ff_exposures[camera.name]\n",
    "    camera.set_exposure(t_exp)\n",
    "    ave, std = camera.image_capture_repeat()\n",
    "    name = f'dark_{camera.name}_ave'\n",
    "    camera.save_image(name, subject, 'ave', ave)\n",
    "    name = f'dark_{i}_{camera.name}_std'\n",
    "    camera.save_image(name, subject, 'std', std)    "
   ]
  }
 ],
 "metadata": {
  "language_info": {
   "name": "python"
  },
  "orig_nbformat": 4
 },
 "nbformat": 4,
 "nbformat_minor": 2
}

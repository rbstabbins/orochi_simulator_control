{
 "cells": [
  {
   "attachments": {},
   "cell_type": "markdown",
   "metadata": {},
   "source": [
    "A notebook for guiding image capture and reflectance calibration with the OROCHI laboratory simulator."
   ]
  },
  {
   "attachments": {},
   "cell_type": "markdown",
   "metadata": {},
   "source": [
    "# Overview\n",
    "\n",
    "The steps are as follows. Note that dark image capture is reserved for the end, to minimise physical interactions with the cameras.\n",
    "\n",
    "1. Calibration Target Imaging\n",
    "    - Prompt: Lens Cap removal, put calibration target in place\n",
    "    - Cycle over cameras. For each camera:\n",
    "        - Test the connection\n",
    "        - load/configure the camera\n",
    "        - get optimal exposure and check ROI\n",
    "        - capture repeat images of the calibration target\n",
    "        - save the images\n",
    "        - save the exposures used\n",
    "2. Sample Imaging\n",
    "    - as above, but with the sample replacing the calibration target\n",
    "3. Dark Imaging\n",
    "    - Prompt: Lens cap on / lights out\n",
    "    - Cycle over cameras. For each camera:\n",
    "        - check connection\n",
    "            - Calibration darks:\n",
    "                - load calibration exposure for given camera\n",
    "                - set exposure\n",
    "                - capture repeat frames\n",
    "                - save frames\n",
    "            - Sample darks:\n",
    "                - as aove but load sample exposures instead\n",
    "4. Processing to Reflectance"
   ]
  },
  {
   "attachments": {},
   "cell_type": "markdown",
   "metadata": {},
   "source": [
    "# Functions\n",
    "\n",
    "Here we iniatilise the functions, used in the previous notebooks, for the camera control."
   ]
  },
  {
   "cell_type": "code",
   "execution_count": 2,
   "metadata": {},
   "outputs": [
    {
     "data": {
      "text/plain": [
       "1"
      ]
     },
     "execution_count": 2,
     "metadata": {},
     "output_type": "execute_result"
    }
   ],
   "source": [
    "import tisgrabber as tis\n",
    "from pathlib import Path\n",
    "import ctypes\n",
    "import numpy as np\n",
    "import pandas as pd\n",
    "import tifffile as tiff\n",
    "import matplotlib.pyplot as plt\n",
    "import pandas as pd\n",
    "\n",
    "# get the location of the tisgrabber_x64.dll file\n",
    "tis_dir = Path(tis.__file__).resolve().parents[0]\n",
    "tis_dll = str(Path(tis_dir, 'tisgrabber_x64.dll'))\n",
    "\n",
    "# Load/Initiate the tisgrabber library\n",
    "ic = ctypes.cdll.LoadLibrary(tis_dll)\n",
    "tis.declareFunctions(ic)\n",
    "ic.IC_InitLibrary(0)"
   ]
  },
  {
   "cell_type": "markdown",
   "metadata": {},
   "source": [
    "Define a function for setting the camera properties."
   ]
  },
  {
   "cell_type": "code",
   "execution_count": 2,
   "metadata": {},
   "outputs": [],
   "source": [
    "def set_property(property: str, element: str, value, interface: str, hGrabber):\n",
    "    \n",
    "    if interface == 'Range':\n",
    "        set_property_func = ic.IC_SetPropertyValue\n",
    "        value = ctypes.c_int(value)\n",
    "    elif interface == 'AbsoluteValue':\n",
    "        set_property_func = ic.IC_SetPropertyAbsoluteValue\n",
    "        value = ctypes.c_float(value)\n",
    "    elif interface == 'AbsoluteValueRange':\n",
    "        set_property_func = ic.IC_SetPropertyAbsoluteValueRange\n",
    "        value = ctypes.c_float(value)\n",
    "    elif interface == 'Switch':\n",
    "        set_property_func = ic.IC_SetPropertySwitch\n",
    "        value = ctypes.c_int(value)\n",
    "    elif interface == 'MapStrings':\n",
    "        set_property_func = ic.IC_SetPropertyMapStrings\n",
    "        value = ctypes.c_char(value)\n",
    "    elif interface == 'Button':\n",
    "        set_property_func = ic.IC_SetPropertyOnePush\n",
    "        value = ctypes.c_int(value)\n",
    "\n",
    "    ret = set_property_func(\n",
    "            hGrabber, \n",
    "            property.encode(\"utf-8\"),\n",
    "            element.encode(\"utf-8\"), \n",
    "            value)\n",
    "    if ret == 1:\n",
    "        print(f'{property} {element} set to {value.value}')\n",
    "    elif ret == -2:\n",
    "        raise ValueError('No video capture device opened')\n",
    "    elif ret == -4:\n",
    "        raise ValueError(f'{property} is not available')\n",
    "    elif ret == -5:\n",
    "        raise ValueError(f'{property} item {element} is not available')\n",
    "    elif ret == -6:\n",
    "        raise ValueError(f'{property} {element} has no interface')"
   ]
  },
  {
   "cell_type": "markdown",
   "metadata": {},
   "source": [
    "Define a function to set all camera properties:"
   ]
  },
  {
   "cell_type": "code",
   "execution_count": 3,
   "metadata": {},
   "outputs": [],
   "source": [
    "def set_defaults(grabber, exposure=1.0/100, auto_exposure=1, black_level=26):\n",
    "    black_level = black_level*2**4\n",
    "    set_property('Brightness', 'Value', black_level, 'Range', grabber) # brightness is Black Level in DN for the 12-bit range of the detector. Default is to 10% of detector range, for linearity\n",
    "    set_property('Contrast', 'Value', 0, 'Range', grabber)\n",
    "    set_property('Sharpness', 'Value', 0, 'Range', grabber)    \n",
    "    set_property('Gamma', 'Value', 100, 'Range', grabber)\n",
    "    set_property('Gain', 'Value', 0.0, 'AbsoluteValue', grabber)\n",
    "    set_property('Gain', 'Auto', 0, 'Switch', grabber)\n",
    "    set_property('Exposure', 'Value', exposure, 'AbsoluteValue', grabber)\n",
    "    set_property('Exposure', 'Auto', auto_exposure, 'Switch', grabber)\n",
    "    set_property('Exposure', 'Auto Reference', 80, 'Range', grabber)\n",
    "    set_property('Exposure', 'Auto Max Value', 2.0, 'AbsoluteValue', grabber)\n",
    "    set_property('Exposure', 'Auto Max Auto', 0, 'Switch', grabber)\n",
    "    set_property('Trigger', 'Enable', 0, 'Switch', grabber)\n",
    "    set_property('Denoise', 'Value', 0, 'Range', grabber)\n",
    "    set_property('Flip Horizontal', 'Enable', 0, 'Switch', grabber)\n",
    "    set_property('Flip Vertical', 'Enable', 0, 'Switch', grabber)\n",
    "    set_property('Highlight Reduction', 'Enable', 0, 'Switch', grabber)\n",
    "    set_property('Tone Mapping', 'Enable', 0, 'Switch', grabber)\n",
    "    set_property('Strobe', 'Enable', 0, 'Switch', grabber)\n",
    "    set_property('Auto Functions ROI', 'Enabled', 0, 'Switch', grabber)"
   ]
  },
  {
   "cell_type": "markdown",
   "metadata": {},
   "source": [
    "Define a function for getting image settings:"
   ]
  },
  {
   "cell_type": "code",
   "execution_count": 4,
   "metadata": {},
   "outputs": [],
   "source": [
    "def get_image_info(grabber):\n",
    "    width = ctypes.c_long()\n",
    "    height = ctypes.c_long()\n",
    "    bits = ctypes.c_long()\n",
    "    col_fmt = ctypes.c_int()\n",
    "\n",
    "    ic.IC_GetImageDescription(grabber, width, height,\n",
    "                            bits, col_fmt)\n",
    "\n",
    "\n",
    "    bpp = int(bits.value / 8.0)\n",
    "    buffer_size = width.value * height.value * bits.value\n",
    "\n",
    "    return width.value, height.value, buffer_size, bpp"
   ]
  },
  {
   "cell_type": "markdown",
   "metadata": {},
   "source": [
    "Define a function for capturing an image and returning it as an numpy array:"
   ]
  },
  {
   "cell_type": "code",
   "execution_count": 5,
   "metadata": {},
   "outputs": [],
   "source": [
    "def image_capture(grabber, camera=None, roi=False):\n",
    "\n",
    "    ic.IC_StartLive(grabber,1)\n",
    "    ic.IC_SnapImage(grabber, 2000) == tis.IC_SUCCESS\n",
    "    ic.IC_StopLive(grabber,1)\n",
    "\n",
    "    width, height, buffer_size, bpp = get_image_info(grabber)\n",
    "\n",
    "    # Get the image data\n",
    "    imagePtr = ic.IC_GetImagePtr(grabber)\n",
    "\n",
    "    imagedata = ctypes.cast(imagePtr,\n",
    "                            ctypes.POINTER(ctypes.c_ubyte *\n",
    "                                        buffer_size))\n",
    "\n",
    "    # Create the numpy array\n",
    "    image = np.ndarray(buffer=imagedata.contents,\n",
    "                    dtype=np.uint8,\n",
    "                    shape=(height,\n",
    "                            width,\n",
    "                            bpp))\n",
    "\n",
    "    if roi:\n",
    "        x = camera['roi']['x']\n",
    "        y = camera['roi']['y']\n",
    "        w = camera['roi']['w']\n",
    "        h = camera['roi']['h']\n",
    "        image = image[y:y+h,x:x+w,0]\n",
    "    else:\n",
    "        image = image[:,:,0]\n",
    "    return image"
   ]
  },
  {
   "cell_type": "markdown",
   "metadata": {},
   "source": [
    "Define a function to look at the image:"
   ]
  },
  {
   "cell_type": "code",
   "execution_count": 6,
   "metadata": {},
   "outputs": [],
   "source": [
    "def show_image(img_arr, title):\n",
    "    plt.imshow(img_arr, origin='lower')\n",
    "    plt.title(title)\n",
    "    plt.colorbar()"
   ]
  },
  {
   "cell_type": "markdown",
   "metadata": {},
   "source": [
    "Define and call a function for getting the last used exposure:"
   ]
  },
  {
   "cell_type": "code",
   "execution_count": 7,
   "metadata": {},
   "outputs": [],
   "source": [
    "def get_property(property: str, element: str, interface: str, hGrabber):\n",
    "\n",
    "    container = ctypes.c_float()\n",
    "    ret = ic.IC_GetPropertyAbsoluteValue(\n",
    "            hGrabber, \n",
    "            tis.T(property), \n",
    "            tis.T(\"Value\"), container)\n",
    "    if ret == 1:\n",
    "        # print(f'{property} current {element}: {container.value}')\n",
    "        return container.value\n",
    "    elif ret == -2:\n",
    "        raise ValueError('No video capture device opened')\n",
    "    elif ret == -4:\n",
    "        raise ValueError('Property item is not available')\n",
    "    elif ret == -5:\n",
    "        raise ValueError('Property item element is not available')\n",
    "    elif ret == -6:\n",
    "        raise ValueError('Requested element has no interface')\n",
    "    return container.value"
   ]
  },
  {
   "cell_type": "markdown",
   "metadata": {},
   "source": [
    "Implement exposure seeking function:"
   ]
  },
  {
   "cell_type": "code",
   "execution_count": 8,
   "metadata": {},
   "outputs": [],
   "source": [
    "def find_exposure(grabber, camera, init_t_exp=1.0/100, target=150, n_hot=10, tol=1, limit=5, roi=True):\n",
    "    # initialise while loop\n",
    "    searching = True\n",
    "    trial_n = 0\n",
    "\n",
    "    # ensure exposure setting is manual\n",
    "    print('Initiating search:')\n",
    "    set_property('Exposure', 'Value', init_t_exp, 'AbsoluteValue', grabber)\n",
    "    set_property('Exposure', 'Auto', 0, 'Switch', grabber)\n",
    "\n",
    "    while searching == True:\n",
    "        print(f'Trial {trial_n}:')\n",
    "        img_arr = image_capture(grabber, camera, roi) # capture the image\n",
    "        k = 1 - n_hot/img_arr.size\n",
    "        k_quantile = np.round(np.quantile(img_arr, k)) # evaluate the quantile\n",
    "        success = target - k_quantile <= tol # check against target\n",
    "        \n",
    "        if success == True:\n",
    "            print(f'Success after {trial_n} trials')\n",
    "            t_exp = get_property('Exposure', 'Value', 'AbsoluteValue', grabber)\n",
    "            searching = False # update searcing or continue\n",
    "            return t_exp\n",
    "\n",
    "        t_exp_scale = target / k_quantile # get the scaling factor\n",
    "        last_t_exp = get_property('Exposure', 'Value', 'AbsoluteValue', grabber) # get the current exposure\n",
    "        new_t_exp = t_exp_scale * last_t_exp# scale the exposure\n",
    "        set_property('Exposure', 'Value', new_t_exp, 'AbsoluteValue', grabber) # update the camera settings\n",
    "        trial_n+=1 # increment the counter\n",
    "        failure = trial_n > limit\n",
    "\n",
    "        if failure == True:\n",
    "            print(f'Failure to satisfy tolerance. Exiting routine.')\n",
    "            t_exp = get_property('Exposure', 'Value', 'AbsoluteValue', grabber)\n",
    "            searching = False\n",
    "            return t_exp\n",
    "    \n",
    "    return None"
   ]
  },
  {
   "cell_type": "markdown",
   "metadata": {},
   "source": [
    "Save an image:"
   ]
  },
  {
   "cell_type": "code",
   "execution_count": 9,
   "metadata": {},
   "outputs": [],
   "source": [
    "def save_tiff(name, target, img_type, img_arr, grabber, camera):\n",
    "\n",
    "    exposure = get_property('Exposure', 'Value', 'AbsoluteValue', grabber)\n",
    "    metadata={\n",
    "        'camera': camera['number'],\n",
    "        'serial': camera['serial'],\n",
    "        'cwl': camera['cwl'],\n",
    "        'fwhm': camera['fwhm'],\n",
    "        'f-number': camera['fnumber'],\n",
    "        'f-length': camera['flength'],\n",
    "        'exposure': exposure,\n",
    "        'image-type': img_type, # image or dark frame or averaged stack\n",
    "        'target': target\n",
    "    }\n",
    "    cwl_str = str(int(camera['cwl']))\n",
    "    channel = str(camera['number'])+'_'+cwl_str\n",
    "    target_dir = Path('..', 'data', target, channel)\n",
    "    target_dir.mkdir(parents=True, exist_ok=True)\n",
    "    filename = cwl_str+'_'+name+'_'+img_type\n",
    "    img_file =str(Path(target_dir, filename).with_suffix('.tif'))\n",
    "    # write camera properties to TIF using ImageJ metadata\n",
    "    tiff.imwrite(img_file, img_arr, imagej=True, metadata=metadata)\n",
    "    print(f'Image {name} written to {img_file}')"
   ]
  },
  {
   "attachments": {},
   "cell_type": "markdown",
   "metadata": {},
   "source": [
    "Configure device lost callback code:"
   ]
  },
  {
   "cell_type": "code",
   "execution_count": 10,
   "metadata": {},
   "outputs": [],
   "source": [
    "class CallbackUserdata(ctypes.Structure):\n",
    "    \"\"\" Example for user data passed to the callback function. \n",
    "    \"\"\"\n",
    "    def __init__(self, ):\n",
    "        self.unsused = \"\"\n",
    "        self.devicename = \"\"\n",
    "        self.connected = False\n",
    "\n",
    "\n",
    "def frameReadyCallback(hGrabber, pBuffer, framenumber, pData):\n",
    "    # Maybe do something here.\n",
    "    return\n",
    "\n",
    "\n",
    "def deviceLostCallback(hGrabber, userdata):\n",
    "    \"\"\" This a device lost callback function. Called, if the camera disconnects. \n",
    "    This function runs in the Grabber thread, not in the main thread.\n",
    "    :param: hGrabber: This is the real pointer to the grabber object. Do not use.\n",
    "    :param: pData : Pointer to additional user data structure\n",
    "    \"\"\"\n",
    "    userdata.connected = False\n",
    "    print(\"Device {} lost\".format(userdata.devicename))\n",
    "\n",
    "frameReadyCallbackfunc = ic.FRAMEREADYCALLBACK(frameReadyCallback)\n",
    "userdata = CallbackUserdata()\n",
    "devicelostcallbackfunc = ic.DEVICELOSTCALLBACK(deviceLostCallback)"
   ]
  },
  {
   "attachments": {},
   "cell_type": "markdown",
   "metadata": {},
   "source": [
    "# Looping Over Multiple Channels\n",
    "\n",
    "We loop over multiple cameras by defining a list of cameras, and defining  dictionary, indexed by this list, giving the camera descriptions required to load and control each camera.\n",
    "\n",
    "We load these from the camera_config.csv file, generated with the camera_congif.ipynb procedure."
   ]
  },
  {
   "cell_type": "code",
   "execution_count": 8,
   "metadata": {},
   "outputs": [
    {
     "data": {
      "text/plain": [
       "{'DMK 33GX249 10910265': {'number': '5',\n",
       "  'serial': 'DMK 33GX249 10910265',\n",
       "  'fnumber': '6.2',\n",
       "  'flength': nan,\n",
       "  'cwl': '850.0',\n",
       "  'fwhm': '50.0',\n",
       "  'width': '1920',\n",
       "  'height': '1200',\n",
       "  'roix': '692',\n",
       "  'roiy': '476',\n",
       "  'roiw': '128',\n",
       "  'roih': '128'},\n",
       " 'dupe': {'number': '5',\n",
       "  'serial': 'DMK 33GX249 10910265',\n",
       "  'fnumber': '6.2',\n",
       "  'flength': nan,\n",
       "  'cwl': '850.0',\n",
       "  'fwhm': '50.0',\n",
       "  'width': '1920',\n",
       "  'height': '1200',\n",
       "  'roix': '692',\n",
       "  'roiy': '476',\n",
       "  'roiw': '128',\n",
       "  'roih': '128'}}"
      ]
     },
     "execution_count": 8,
     "metadata": {},
     "output_type": "execute_result"
    }
   ],
   "source": [
    "cameras = pd.read_csv('camera_config.csv', index_col=0).to_dict()"
   ]
  },
  {
   "attachments": {},
   "cell_type": "markdown",
   "metadata": {},
   "source": [
    "Get a list of the cameras available, notify of missing cameras, and connect to the available cameras."
   ]
  },
  {
   "cell_type": "code",
   "execution_count": 12,
   "metadata": {},
   "outputs": [],
   "source": [
    "def connect_cameras(cameras):\n",
    "    connected_cameras = []\n",
    "    devicecount = ic.IC_GetDeviceCount()\n",
    "\n",
    "    if devicecount == 0:\n",
    "        err_string = f'No cameras connected - check connection and try again'\n",
    "        ic.IC_MsgBox( tis.T(err_string),tis.T(\"Connection Error\"))   \n",
    "\n",
    "    for i in range(0, devicecount):\n",
    "        uniquename = tis.D(ic.IC_GetUniqueNamefromList(i))\n",
    "        connected_cameras.append(uniquename)\n",
    "    missing_cameras = set(list(cameras.keys())) - set(connected_cameras)\n",
    "    if len(missing_cameras) > 0:\n",
    "        print(f'Warning - cameras not connected: {missing_cameras}')\n",
    "    grabbers = {}\n",
    "    for camera in connected_cameras:\n",
    "        cam_name = camera\n",
    "        cam_num = cameras[camera]['number']\n",
    "        grabber = ic.IC_CreateGrabber()\n",
    "        grabbers[camera] = grabber\n",
    "        ic.IC_OpenDevByUniqueName(grabber, tis.T(cam_name))\n",
    "\n",
    "        userdata.devicename = f'{cam_num} ({cam_name})'\n",
    "        userdata.connected = True\n",
    "\n",
    "        ic.IC_SetCallbacks(grabber,\n",
    "                        frameReadyCallbackfunc, None,\n",
    "                        devicelostcallbackfunc, userdata)\n",
    "\n",
    "        # check the device is connected\n",
    "        if ic.IC_IsDevValid(grabber):\n",
    "            print(f'Device {cam_num} ({cam_name}) succesfully connected.')\n",
    "        else:\n",
    "            err_string = f'Camera {cam_num} ({cam_name}) did not connect - check connection and try again'\n",
    "            ic.IC_MsgBox( tis.T(err_string),tis.T(\"Connection Error\"))\n",
    "    print(f'{len(grabbers)} cameras connected.')\n",
    "    return grabbers"
   ]
  },
  {
   "attachments": {},
   "cell_type": "markdown",
   "metadata": {},
   "source": [
    "We now have a list of camera grabbers, and will recieve messages if any of these connections are lost."
   ]
  },
  {
   "cell_type": "code",
   "execution_count": 13,
   "metadata": {},
   "outputs": [
    {
     "name": "stdout",
     "output_type": "stream",
     "text": [
      "Warning - cameras not connected: {'DMK 33GX249 10910294', 'DMK 33GX249 10910265'}\n",
      "0 cameras connected.\n",
      "Warning - cameras not connected: {'DMK 33GX249 10910294', 'DMK 33GX249 10910265'}\n",
      "0 cameras connected.\n",
      "Warning - cameras not connected: {'DMK 33GX249 10910294', 'DMK 33GX249 10910265'}\n",
      "0 cameras connected.\n",
      "Warning - cameras not connected: {'DMK 33GX249 10910294', 'DMK 33GX249 10910265'}\n",
      "0 cameras connected.\n"
     ]
    },
    {
     "ename": "KeyboardInterrupt",
     "evalue": "",
     "output_type": "error",
     "traceback": [
      "\u001b[1;31m---------------------------------------------------------------------------\u001b[0m",
      "\u001b[1;31mKeyboardInterrupt\u001b[0m                         Traceback (most recent call last)",
      "Cell \u001b[1;32mIn[13], line 6\u001b[0m\n\u001b[0;32m      4\u001b[0m err_string \u001b[39m=\u001b[39m \u001b[39mf\u001b[39m\u001b[39m'\u001b[39m\u001b[39mNo cameras connected - check connection and try again\u001b[39m\u001b[39m'\u001b[39m\n\u001b[0;32m      5\u001b[0m ic\u001b[39m.\u001b[39mIC_MsgBox( tis\u001b[39m.\u001b[39mT(err_string),tis\u001b[39m.\u001b[39mT(\u001b[39m\"\u001b[39m\u001b[39mConnection Error\u001b[39m\u001b[39m\"\u001b[39m))\n\u001b[1;32m----> 6\u001b[0m grabbers \u001b[39m=\u001b[39m connect_cameras(cameras)\n\u001b[0;32m      7\u001b[0m bad_count \u001b[39m+\u001b[39m\u001b[39m=\u001b[39m\u001b[39m1\u001b[39m\n\u001b[0;32m      8\u001b[0m \u001b[39mif\u001b[39;00m bad_count \u001b[39m>\u001b[39m\u001b[39m=\u001b[39m \u001b[39m5\u001b[39m:\n",
      "Cell \u001b[1;32mIn[12], line 7\u001b[0m, in \u001b[0;36mconnect_cameras\u001b[1;34m(cameras)\u001b[0m\n\u001b[0;32m      5\u001b[0m \u001b[39mif\u001b[39;00m devicecount \u001b[39m==\u001b[39m \u001b[39m0\u001b[39m:\n\u001b[0;32m      6\u001b[0m     err_string \u001b[39m=\u001b[39m \u001b[39mf\u001b[39m\u001b[39m'\u001b[39m\u001b[39mNo cameras connected - check connection and try again\u001b[39m\u001b[39m'\u001b[39m\n\u001b[1;32m----> 7\u001b[0m     ic\u001b[39m.\u001b[39mIC_MsgBox( tis\u001b[39m.\u001b[39mT(err_string),tis\u001b[39m.\u001b[39mT(\u001b[39m\"\u001b[39m\u001b[39mConnection Error\u001b[39m\u001b[39m\"\u001b[39m))   \n\u001b[0;32m      9\u001b[0m \u001b[39mfor\u001b[39;00m i \u001b[39min\u001b[39;00m \u001b[39mrange\u001b[39m(\u001b[39m0\u001b[39m, devicecount):\n\u001b[0;32m     10\u001b[0m     uniquename \u001b[39m=\u001b[39m tis\u001b[39m.\u001b[39mD(ic\u001b[39m.\u001b[39mIC_GetUniqueNamefromList(i))\n",
      "\u001b[1;31mKeyboardInterrupt\u001b[0m: "
     ]
    }
   ],
   "source": [
    "grabbers = connect_cameras(cameras)\n",
    "bad_count = 1\n",
    "while len(grabbers) == 0:\n",
    "    err_string = f'No cameras connected - check connection and try again'\n",
    "    ic.IC_MsgBox( tis.T(err_string),tis.T(\"Connection Error\"))\n",
    "    grabbers = connect_cameras(cameras)\n",
    "    bad_count +=1\n",
    "    if bad_count >= 5:\n",
    "        raise ConnectionError('No cameras connect. Abort script and try again.')\n",
    "        break\n"
   ]
  },
  {
   "attachments": {},
   "cell_type": "markdown",
   "metadata": {},
   "source": [
    "# Camera Configuration"
   ]
  },
  {
   "cell_type": "code",
   "execution_count": null,
   "metadata": {},
   "outputs": [],
   "source": [
    "grabbers.values()"
   ]
  },
  {
   "cell_type": "code",
   "execution_count": null,
   "metadata": {},
   "outputs": [],
   "source": [
    "for grabber in grabbers:\n",
    "    cam_num = cameras[grabber]['number']\n",
    "    print('-----------------------------------')\n",
    "    print(f'Device {cam_num}')\n",
    "    print('-----------------------------------')\n",
    "    set_defaults(grabbers[grabber])\n",
    "    print('-----------------------------------')"
   ]
  },
  {
   "attachments": {},
   "cell_type": "markdown",
   "metadata": {},
   "source": [
    "# Calibration Target Imaging\n",
    "\n",
    "- Prompt: Lens Cap removal, put calibration target in place\n",
    "- Cycle over cameras. For each camera:\n",
    "    - get optimal exposure and check ROI\n",
    "    - capture repeat images of the calibration target\n",
    "    - save the images\n",
    "    - save the exposures used"
   ]
  },
  {
   "cell_type": "markdown",
   "metadata": {},
   "source": [
    "Check:\n",
    "1. The calibration target is in place\n",
    "2. Lens cap is removed"
   ]
  },
  {
   "cell_type": "code",
   "execution_count": null,
   "metadata": {},
   "outputs": [],
   "source": [
    "ic.IC_MsgBox(tis.T('Check Calibration Target is in place'), tis.T('Imaging Calibration Target'))\n",
    "ic.IC_MsgBox(tis.T('Check Lens Caps are removed'), tis.T('Imaging Calibration Target'))"
   ]
  },
  {
   "cell_type": "code",
   "execution_count": null,
   "metadata": {},
   "outputs": [],
   "source": [
    "calibration_exposures = {}\n",
    "for cam_name in grabbers:\n",
    "    grabber = grabbers[cam_name]\n",
    "    camera = cameras[cam_name]\n",
    "    cam_num = camera['number']\n",
    "    print('-----------------------------------')\n",
    "    print(f'Device {cam_num}')\n",
    "    print('-----------------------------------')\n",
    "    calibration_t_exp = find_exposure(grabber, camera)\n",
    "    calibration_exposures[cam_name] = calibration_t_exp\n",
    "    print('-----------------------------------')"
   ]
  },
  {
   "attachments": {},
   "cell_type": "markdown",
   "metadata": {},
   "source": [
    "Check the images:"
   ]
  },
  {
   "cell_type": "code",
   "execution_count": null,
   "metadata": {},
   "outputs": [],
   "source": [
    "for cam_name in grabbers:\n",
    "    grabber = grabbers[cam_name]\n",
    "    camera = cameras[cam_name]\n",
    "    cam_num = camera['number']\n",
    "    print('-----------------------------------')\n",
    "    print(f'Device {cam_num}')\n",
    "    print('-----------------------------------')\n",
    "    set_property('Exposure', 'Value', calibration_exposures[cam_name], 'AbsoluteValue', grabber)\n",
    "    set_property('Exposure', 'Auto', 0, 'Switch', grabber)\n",
    "    img_arr = image_capture(grabber, camera, roi=True)\n",
    "    title = f'Device {cam_num} Calibration Check'\n",
    "    show_image(img_arr,title)\n",
    "    peak_dn = img_arr.max()\n",
    "    print(f'Peak Value: {peak_dn} DN')\n",
    "    print('-----------------------------------')"
   ]
  },
  {
   "cell_type": "code",
   "execution_count": null,
   "metadata": {},
   "outputs": [],
   "source": [
    "ic.IC_MsgBox(tis.T('Calibration Target ROIs and Exposures Ok?'), tis.T('Imaging Calibration Target'))"
   ]
  },
  {
   "attachments": {},
   "cell_type": "markdown",
   "metadata": {},
   "source": [
    "Capture the repeat images:"
   ]
  },
  {
   "cell_type": "code",
   "execution_count": null,
   "metadata": {},
   "outputs": [],
   "source": [
    "n = 10\n",
    "target = 'calibrationtest'\n",
    "img_type = 'img'\n",
    "for cam_name in grabbers:\n",
    "    grabber = grabbers[cam_name]\n",
    "    camera = cameras[cam_name]\n",
    "    cam_num = camera['number']\n",
    "    print('-----------------------------------')\n",
    "    print(f'Device {cam_num}')\n",
    "    print('-----------------------------------')\n",
    "    for i in range(n):\n",
    "        img_arr = image_capture(grabber)\n",
    "        save_tiff(str(i), target, img_type, img_arr, grabber, camera)"
   ]
  },
  {
   "attachments": {},
   "cell_type": "markdown",
   "metadata": {},
   "source": [
    "Write the exposure to file for quick read access:"
   ]
  },
  {
   "cell_type": "code",
   "execution_count": null,
   "metadata": {},
   "outputs": [],
   "source": [
    "for cam_name in grabbers:\n",
    "    cwl_str = str(int(camera['cwl']))\n",
    "    channel = str(camera['number'])+'_'+cwl_str\n",
    "    target_dir = Path('..', 'data', target, channel)\n",
    "    target_dir.mkdir(parents=True, exist_ok=True)\n",
    "    filename = Path(target_dir, 'exposure_seconds.txt')\n",
    "    with open(filename, 'w') as f:\n",
    "            t_exp = str(calibration_exposures[cam_name])\n",
    "            f.write(t_exp)"
   ]
  },
  {
   "attachments": {},
   "cell_type": "markdown",
   "metadata": {},
   "source": [
    "# Sample Imaging\n",
    "\n",
    "- Prompt: Lens Cap removal, put sample in place\n",
    "- Cycle over cameras. For each camera:\n",
    "    - get optimal exposure and check ROI\n",
    "    - capture repeat images of the sample\n",
    "    - save the images\n",
    "    - save the exposures used"
   ]
  },
  {
   "attachments": {},
   "cell_type": "markdown",
   "metadata": {},
   "source": [
    "Check:\n",
    "1. The sample is in place\n",
    "2. Lens cap is removed"
   ]
  },
  {
   "cell_type": "code",
   "execution_count": null,
   "metadata": {},
   "outputs": [],
   "source": [
    "ic.IC_MsgBox(tis.T('Check Sample is in place'), tis.T('Imaging Sample'))\n",
    "ic.IC_MsgBox(tis.T('Check Lens Caps are removed'), tis.T('Imaging Sample'))"
   ]
  },
  {
   "cell_type": "code",
   "execution_count": null,
   "metadata": {},
   "outputs": [],
   "source": [
    "sample_exposures = {}\n",
    "for cam_name in grabbers:\n",
    "    grabber = grabbers[cam_name]\n",
    "    camera = cameras[cam_name]\n",
    "    cam_num = camera['number']\n",
    "    print('-----------------------------------')\n",
    "    print(f'Device {cam_num}')\n",
    "    print('-----------------------------------')\n",
    "    sample_t_exp = find_exposure(grabber, camera)\n",
    "    sample_exposures[cam_name] = sample_t_exp\n",
    "    print('-----------------------------------')"
   ]
  },
  {
   "cell_type": "markdown",
   "metadata": {},
   "source": [
    "Check the images:"
   ]
  },
  {
   "cell_type": "code",
   "execution_count": null,
   "metadata": {},
   "outputs": [],
   "source": [
    "for cam_name in grabbers:\n",
    "    grabber = grabbers[cam_name]\n",
    "    camera = cameras[cam_name]\n",
    "    cam_num = camera['number']\n",
    "    print('-----------------------------------')\n",
    "    print(f'Device {cam_num}')\n",
    "    print('-----------------------------------')\n",
    "    set_property('Exposure', 'Value', sample_exposures[cam_name], 'AbsoluteValue', grabber)\n",
    "    set_property('Exposure', 'Auto', 0, 'Switch', grabber)\n",
    "    img_arr = image_capture(grabber, camera, roi=True)\n",
    "    title = f'Device {cam_num} Sample Check'\n",
    "    show_image(img_arr,title)\n",
    "    peak_dn = img_arr.max()\n",
    "    print(f'Peak Value: {peak_dn} DN')\n",
    "    print('-----------------------------------')"
   ]
  },
  {
   "cell_type": "code",
   "execution_count": null,
   "metadata": {},
   "outputs": [],
   "source": [
    "ic.IC_MsgBox(tis.T('Sample ROIs and Exposures Ok?'), tis.T('Imaging Sample'))"
   ]
  },
  {
   "cell_type": "markdown",
   "metadata": {},
   "source": [
    "Capture the repeat images:"
   ]
  },
  {
   "cell_type": "code",
   "execution_count": null,
   "metadata": {},
   "outputs": [],
   "source": [
    "n = 10\n",
    "target = 'sampletest'\n",
    "img_type = 'img'\n",
    "for cam_name in grabbers:\n",
    "    grabber = grabbers[cam_name]\n",
    "    camera = cameras[cam_name]\n",
    "    cam_num = camera['number']\n",
    "    print('-----------------------------------')\n",
    "    print(f'Device {cam_num}')\n",
    "    print('-----------------------------------')\n",
    "    for i in range(n):\n",
    "        img_arr = image_capture(grabber)\n",
    "        save_tiff(str(i), target, img_type, img_arr, grabber, camera)"
   ]
  },
  {
   "cell_type": "markdown",
   "metadata": {},
   "source": [
    "Write the exposure to file for quick read access:"
   ]
  },
  {
   "cell_type": "code",
   "execution_count": null,
   "metadata": {},
   "outputs": [],
   "source": [
    "for cam_name in grabbers:\n",
    "    cwl_str = str(int(camera['cwl']))\n",
    "    channel = str(camera['number'])+'_'+cwl_str\n",
    "    target_dir = Path('..', 'data', target, channel)\n",
    "    target_dir.mkdir(parents=True, exist_ok=True)\n",
    "    filename = Path(target_dir, 'exposure_seconds.txt')\n",
    "    with open(filename, 'w') as f:\n",
    "            t_exp = str(sample_exposures[cam_name])\n",
    "            f.write(t_exp)"
   ]
  },
  {
   "attachments": {},
   "cell_type": "markdown",
   "metadata": {},
   "source": [
    "# Dark Frame Imaging\n",
    "\n",
    "Now we use the recorded exposures to capture dark frames."
   ]
  },
  {
   "cell_type": "markdown",
   "metadata": {},
   "source": [
    "Check:\n",
    "1. Lens cap is in place"
   ]
  },
  {
   "cell_type": "code",
   "execution_count": null,
   "metadata": {},
   "outputs": [],
   "source": [
    "ic.IC_MsgBox(tis.T('Check Lens Cap is in place'), tis.T('Dark Imaging'))"
   ]
  },
  {
   "attachments": {},
   "cell_type": "markdown",
   "metadata": {},
   "source": [
    "Calibration dark images:"
   ]
  },
  {
   "cell_type": "code",
   "execution_count": null,
   "metadata": {},
   "outputs": [],
   "source": [
    "n = 10\n",
    "target = 'calibrationtest'\n",
    "img_type = 'drk'\n",
    "for cam_name in grabbers:\n",
    "    grabber = grabbers[cam_name]\n",
    "    camera = cameras[cam_name]\n",
    "    cam_num = camera['number']\n",
    "    print('-----------------------------------')\n",
    "    print(f'Device {cam_num}')\n",
    "    print('-----------------------------------')\n",
    "    set_property('Exposure', 'Value', calibration_exposures[cam_name], 'AbsoluteValue', grabber)\n",
    "    set_property('Exposure', 'Auto', 0, 'Switch', grabber)\n",
    "    for i in range(n):\n",
    "        img_arr = image_capture(grabber)\n",
    "        save_tiff(str(i), target, img_type, img_arr, grabber, camera)"
   ]
  },
  {
   "attachments": {},
   "cell_type": "markdown",
   "metadata": {},
   "source": [
    "Sample Dark Images:"
   ]
  },
  {
   "cell_type": "code",
   "execution_count": null,
   "metadata": {},
   "outputs": [],
   "source": [
    "n = 10\n",
    "target = 'sampletest'\n",
    "img_type = 'drk'\n",
    "for cam_name in grabbers:\n",
    "    grabber = grabbers[cam_name]\n",
    "    camera = cameras[cam_name]\n",
    "    cam_num = camera['number']\n",
    "    print('-----------------------------------')\n",
    "    print(f'Device {cam_num}')\n",
    "    print('-----------------------------------')\n",
    "    set_property('Exposure', 'Value', sample_exposures[cam_name], 'AbsoluteValue', grabber)\n",
    "    set_property('Exposure', 'Auto', 0, 'Switch', grabber)\n",
    "    for i in range(n):\n",
    "        img_arr = image_capture(grabber)\n",
    "        save_tiff(str(i), target, img_type, img_arr, grabber, camera)"
   ]
  },
  {
   "attachments": {},
   "cell_type": "markdown",
   "metadata": {},
   "source": [
    "This completes the capture of images and dark frames for all cameras."
   ]
  },
  {
   "cell_type": "code",
   "execution_count": null,
   "metadata": {},
   "outputs": [],
   "source": [
    "ic.IC_MsgBox(tis.T('Sequence Complete. Disconnecting Cameras'), tis.T('Sequence Complete'))\n",
    "\n",
    "for cam_name in grabbers:\n",
    "    grabber = grabbers[cam_name]\n",
    "    ic.IC_ReleaseGrabber(grabber)"
   ]
  },
  {
   "attachments": {},
   "cell_type": "markdown",
   "metadata": {},
   "source": [
    "Next, we will access these images for reflectance processing."
   ]
  }
 ],
 "metadata": {
  "kernelspec": {
   "display_name": "orochi_sim_ctrl",
   "language": "python",
   "name": "python3"
  },
  "language_info": {
   "codemirror_mode": {
    "name": "ipython",
    "version": 3
   },
   "file_extension": ".py",
   "mimetype": "text/x-python",
   "name": "python",
   "nbconvert_exporter": "python",
   "pygments_lexer": "ipython3",
   "version": "3.11.2"
  },
  "orig_nbformat": 4
 },
 "nbformat": 4,
 "nbformat_minor": 2
}

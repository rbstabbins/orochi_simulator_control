{
 "cells": [
  {
   "attachments": {},
   "cell_type": "markdown",
   "metadata": {},
   "source": [
    "A notebook for capturing geometric calibration data for the cameras of the OROCHI Simualtor of the Kameda Lab.\n",
    "\n",
    "Second attempt, using a larger target with larger squares (15 mm up from 5 mm).\n",
    "\n",
    "I will also capture more images that are close to filling the frame.\n",
    "\n",
    "I will also attempt to capture many more target positions, without necessarily worrying about complete coverage in all channels simulataneously."
   ]
  },
  {
   "attachments": {},
   "cell_type": "markdown",
   "metadata": {},
   "source": [
    "# Process Overview\n",
    "\n",
    "The objective of this notebook is to capture iamges of a geometric calibration target with each camera of OROS, with the target held in multiple different poses, so that we can extract the intrinsic and extrinsic camera matrix from each.\n",
    "\n",
    "This simply means taking images in each camera for the calibration target in various positions.\n",
    "\n",
    "For this calibration, we will remove the spectral filters, and attempt in this scenario to measure the matrices without them. This means we won't be restricted to using the lamp, and we can instead use low power lighting."
   ]
  },
  {
   "attachments": {},
   "cell_type": "markdown",
   "metadata": {},
   "source": [
    "# Camera Setup\n",
    "\n",
    "Here we configure and setup the camera capture objects."
   ]
  },
  {
   "cell_type": "code",
   "execution_count": null,
   "metadata": {},
   "outputs": [],
   "source": [
    "%reload_ext autoreload\n",
    "%autoreload 2\n",
    "%matplotlib inline"
   ]
  },
  {
   "cell_type": "code",
   "execution_count": null,
   "metadata": {},
   "outputs": [],
   "source": [
    "import orochi_sim_ctrl as osc\n",
    "\n",
    "ic = osc.start_ic()\n",
    "camera_config = osc.load_camera_config()\n",
    "cameras = osc.connect_cameras(ic, camera_config)\n",
    "osc.configure_cameras(cameras) # updated bias to 4 DN"
   ]
  },
  {
   "cell_type": "markdown",
   "metadata": {},
   "source": [
    "# Set up"
   ]
  },
  {
   "cell_type": "code",
   "execution_count": null,
   "metadata": {},
   "outputs": [],
   "source": [
    "n_repeats = 25\n",
    "date = '22082023'\n",
    "n_positions = 36"
   ]
  },
  {
   "cell_type": "markdown",
   "metadata": {},
   "source": [
    "# Image Capture\n",
    "\n",
    "Here we will neglect dark frame subtraction and simply capture single images of the target for each of 5 calibration target positions."
   ]
  },
  {
   "cell_type": "code",
   "execution_count": null,
   "metadata": {},
   "outputs": [],
   "source": [
    "chkbd_exposures = osc.find_channel_exposures(cameras, roi=False, target=0.8, n_hot = 100, tol=25)"
   ]
  },
  {
   "cell_type": "code",
   "execution_count": null,
   "metadata": {},
   "outputs": [],
   "source": [
    "for i in range(n_positions):\n",
    "    # prompt to set up new position\n",
    "    osc.prepare_geometric_calibration(cameras[0].ic)\n",
    "    # check image exposure\n",
    "    osc.capture_channel_images(\n",
    "        cameras, \n",
    "        chkbd_exposures, \n",
    "        subject=f'geom_calibration_pos_{i}_'+date, \n",
    "        repeats=1,\n",
    "        roi=False, \n",
    "        show_img=True,\n",
    "        save_img=False)    \n",
    "    # pause, prompt to begin repeat image capture\n",
    "    osc.prepare_geometric_calibration(cameras[0].ic)\n",
    "    osc.capture_channel_images(\n",
    "        cameras, \n",
    "        chkbd_exposures, \n",
    "        subject=f'geom_calibration_pos_{i}_'+date, \n",
    "        repeats=n_repeats,\n",
    "        roi=False, \n",
    "        show_img=False,\n",
    "        save_img=True)"
   ]
  },
  {
   "cell_type": "markdown",
   "metadata": {},
   "source": [
    "Capture images of a 3D object now."
   ]
  },
  {
   "cell_type": "code",
   "execution_count": null,
   "metadata": {},
   "outputs": [],
   "source": [
    "for i in range(n_positions):\n",
    "    osc.prepare_geometric_calibration(cameras[0].ic)\n",
    "    osc.capture_channel_images(\n",
    "        cameras, \n",
    "        chkbd_exposures, \n",
    "        subject=f'geom_calibration_sample_pos_{i}_'+date, \n",
    "        repeats=1,\n",
    "        roi=False, \n",
    "        show_img=True,\n",
    "        save_img=False)\n",
    "    osc.prepare_geometric_calibration(cameras[0].ic)\n",
    "    osc.capture_channel_images(\n",
    "        cameras, \n",
    "        chkbd_exposures, \n",
    "        subject=f'geom_calibration_sample_pos_{i}_'+date, \n",
    "        repeats=n_repeats,\n",
    "        roi=False, \n",
    "        show_img=False,\n",
    "        save_img=True)"
   ]
  },
  {
   "cell_type": "markdown",
   "metadata": {},
   "source": [
    "# Dark Frame Capture\n"
   ]
  },
  {
   "cell_type": "code",
   "execution_count": null,
   "metadata": {},
   "outputs": [],
   "source": [
    "osc.capture_channel_images(\n",
    "    cameras, \n",
    "    chkbd_exposures, \n",
    "    subject=f'geom_calibration_dark_'+date, \n",
    "    img_type='drk',\n",
    "    repeats=n_repeats,\n",
    "    roi=False, \n",
    "    show_img=False,\n",
    "    save_img=True)"
   ]
  },
  {
   "cell_type": "code",
   "execution_count": null,
   "metadata": {},
   "outputs": [],
   "source": []
  }
 ],
 "metadata": {
  "kernelspec": {
   "display_name": "orochi_sim_ctrl",
   "language": "python",
   "name": "python3"
  },
  "language_info": {
   "codemirror_mode": {
    "name": "ipython",
    "version": 3
   },
   "file_extension": ".py",
   "mimetype": "text/x-python",
   "name": "python",
   "nbconvert_exporter": "python",
   "pygments_lexer": "ipython3",
   "version": "3.10.11"
  },
  "orig_nbformat": 4
 },
 "nbformat": 4,
 "nbformat_minor": 2
}

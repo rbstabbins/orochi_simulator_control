{
 "cells": [
  {
   "attachments": {},
   "cell_type": "markdown",
   "metadata": {},
   "source": [
    "A notebook for capturing MTF chart image data for each channel of OROS (the OROCHI Simulator)."
   ]
  },
  {
   "attachments": {},
   "cell_type": "markdown",
   "metadata": {},
   "source": [
    "# Process Overview\n",
    "\n",
    "- Find Exposure time - aim for 3000 DN exposure, for SNR of ~120.\n",
    "- Set target in position\n",
    "- Capture 25 repeat images, save the average and standard deviation\n",
    "- Capture dark images at the given exposures."
   ]
  },
  {
   "attachments": {},
   "cell_type": "markdown",
   "metadata": {},
   "source": [
    "# Setup"
   ]
  },
  {
   "cell_type": "code",
   "execution_count": null,
   "metadata": {},
   "outputs": [],
   "source": [
    "%reload_ext autoreload\n",
    "%autoreload 2\n",
    "%matplotlib inline"
   ]
  },
  {
   "cell_type": "code",
   "execution_count": null,
   "metadata": {},
   "outputs": [],
   "source": [
    "import numpy as np\n",
    "import orochi_sim_ctrl as osc"
   ]
  },
  {
   "cell_type": "code",
   "execution_count": null,
   "metadata": {},
   "outputs": [],
   "source": [
    "ic = osc.start_ic()\n",
    "camera_config = osc.load_camera_config()\n",
    "cameras = osc.connect_cameras(ic, camera_config)\n",
    "osc.configure_cameras(cameras)"
   ]
  },
  {
   "attachments": {},
   "cell_type": "markdown",
   "metadata": {},
   "source": [
    "# Find Exposures"
   ]
  },
  {
   "cell_type": "code",
   "execution_count": null,
   "metadata": {},
   "outputs": [],
   "source": [
    "mtf_exposures = osc.find_channel_exposures(cameras, init_t_exp=0.4, target=0.73, n_hot=800,tol=10, limit=10, roi=True)"
   ]
  },
  {
   "attachments": {},
   "cell_type": "markdown",
   "metadata": {},
   "source": [
    "# Capture Illuminated Images"
   ]
  },
  {
   "cell_type": "code",
   "execution_count": null,
   "metadata": {},
   "outputs": [],
   "source": [
    "subject = 'mtf_9_illum_27062023'\n",
    "check_stk = {}\n",
    "for camera in cameras:\n",
    "    t_exp = mtf_exposures[camera.name]\n",
    "    camera.set_exposure(t_exp)\n",
    "    ave, std = camera.image_capture_repeat(n=25, roi=True)\n",
    "    print(ave.shape)\n",
    "    check_stk[camera.name] = ave\n",
    "    name = f'mtf_1_{camera.name}_ave'\n",
    "    camera.save_image(name, subject, 'ave', ave)\n",
    "    name = f'mtf_1_{camera.name}_std'\n",
    "    camera.save_image(name, subject, 'std', std)    "
   ]
  },
  {
   "cell_type": "code",
   "execution_count": null,
   "metadata": {},
   "outputs": [],
   "source": [
    "for camera in cameras:\n",
    "    img = check_stk[camera.name]\n",
    "    camera.show_image(img, camera.name)"
   ]
  },
  {
   "attachments": {},
   "cell_type": "markdown",
   "metadata": {},
   "source": [
    "# Capture Dark Images"
   ]
  },
  {
   "cell_type": "code",
   "execution_count": null,
   "metadata": {},
   "outputs": [],
   "source": [
    "subject = 'mtf_9_dark_27062023'\n",
    "for camera in cameras:\n",
    "    t_exp = mtf_exposures[camera.name]\n",
    "    camera.set_exposure(t_exp)\n",
    "    ave, std = camera.image_capture_repeat(n=25)\n",
    "    name = f'dark_{camera.name}_ave'\n",
    "    camera.save_image(name, subject, 'ave', ave)\n",
    "    name = f'dark_{camera.name}_std'\n",
    "    camera.save_image(name, subject, 'std', std)    "
   ]
  },
  {
   "cell_type": "code",
   "execution_count": null,
   "metadata": {},
   "outputs": [],
   "source": []
  }
 ],
 "metadata": {
  "kernelspec": {
   "display_name": "orochi_sim_ctrl",
   "language": "python",
   "name": "python3"
  },
  "language_info": {
   "codemirror_mode": {
    "name": "ipython",
    "version": 3
   },
   "file_extension": ".py",
   "mimetype": "text/x-python",
   "name": "python",
   "nbconvert_exporter": "python",
   "pygments_lexer": "ipython3",
   "version": "3.10.11"
  },
  "orig_nbformat": 4
 },
 "nbformat": 4,
 "nbformat_minor": 2
}

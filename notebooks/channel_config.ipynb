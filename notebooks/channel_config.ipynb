{
 "cells": [
  {
   "attachments": {},
   "cell_type": "markdown",
   "metadata": {},
   "source": [
    "A notebook for configuring the cameras of each channel of the Kameda Lab Orochi Simulator."
   ]
  },
  {
   "attachments": {},
   "cell_type": "markdown",
   "metadata": {},
   "source": [
    "# Overview\n",
    "\n",
    "This notebook guides the user through connection to each of the channels of the OROCHI simulator, and gives prompts for recording the channel number, the centre-wavelength, full-width-at-half-maximum, f-number, and region-of-interest of sample area, associated with each channel camera system, indexed by serial number.\n",
    "\n",
    "First we write a look-up-table of camera properties, and then we will attach the serial number of the associated camera to the camera properties.\n",
    "\n",
    "The steps are:\n",
    "1. Get list of serial numbers of devices connected.\n",
    "For each device:\n",
    "2. Begin live feed\n",
    "3. Establish position of camera in rig (manual)\n",
    "4. Prompt user to enter camera number\n",
    "5. Assign serial number to camera number\n",
    "6. Write look-up-table of properties of camera number, and add serial number\n",
    "7. Automatically set region of interest\n",
    "8. Check region of interest\n",
    "9. Write region of interest to properties"
   ]
  },
  {
   "attachments": {},
   "cell_type": "markdown",
   "metadata": {},
   "source": [
    "# Camera Properties\n",
    "\n",
    "There are 8 OROCHI channels, labelled 1 - 8, with band 8 as the monochromatic band.\n",
    "\n",
    "| Band | CWL (nm) | FWHM (nm) | f# |\n",
    "|------|----------|-----------|----|\n",
    "| 1    | 400      | 50        |6.4 |\n",
    "| 2    | 475      | 25        |6.4 |\n",
    "| 3    | 550      | 25        |6.4 |\n",
    "| 4    | 650      | 50        |6.4 |\n",
    "| 5    | 725      | 50        |6.4 |\n",
    "| 6    | 850      | 50        |6.2 |\n",
    "| 7    | 950      | 50        |5.8 |\n",
    "| 8    | 550      | 250       |6.4 |\n",
    "\n",
    "These f-numbers are for the equivalent OROCHI FM channels, from the Kameda et al 2021 paper. I need to verify that the same are used for the simulator.\n",
    "Note that these values are not currently used in the processing, but recorded in the metadata for future reference."
   ]
  },
  {
   "attachments": {},
   "cell_type": "markdown",
   "metadata": {},
   "source": [
    "We store this information in a dictionary of dictionaries, labelled by band name, but we will replace these labels with the device name of each camera."
   ]
  },
  {
   "cell_type": "code",
   "execution_count": 1,
   "metadata": {},
   "outputs": [],
   "source": [
    "cameras = {\n",
    "        'Band1':\n",
    "             {'number': 1,\n",
    "              'serial': None,\n",
    "              'fnumber': 6.4,\n",
    "              'flength': None,\n",
    "              'cwl': 400.0,\n",
    "              'fwhm': 50.0,\n",
    "              'width': 1920,\n",
    "              'height': 1200,\n",
    "              'roix': 0,\n",
    "              'roiy': 0,\n",
    "              'roiw': 1920,\n",
    "              'roih': 1200\n",
    "              },\n",
    "        'DMK 33GX249 10910273':\n",
    "             {'number': 1,\n",
    "              'serial': 'DMK 33GX249 10910273',\n",
    "              'fnumber': 6.4,\n",
    "              'flength': None,\n",
    "              'cwl': 475.0,\n",
    "              'fwhm': 25.0,\n",
    "              'width': 1920,\n",
    "              'height': 1200,\n",
    "              'roix': 0,\n",
    "              'roiy': 0,\n",
    "              'roiw': 1920,\n",
    "              'roih': 1200\n",
    "              },\n",
    "        'DMK 33GX249 10910289':\n",
    "             {'number': 2,\n",
    "              'serial': 'DMK 33GX249 10910289',\n",
    "              'fnumber': 6.4,\n",
    "              'flength': None,\n",
    "              'cwl': 550.0,\n",
    "              'fwhm': 25.0,\n",
    "              'width': 1920,\n",
    "              'height': 1200,\n",
    "              'roix': 0,\n",
    "              'roiy': 0,\n",
    "              'roiw': 1920,\n",
    "              'roih': 1200\n",
    "              },\n",
    "        'DMK 33GX249 10910288':\n",
    "             {'number': 0,\n",
    "              'serial': 'DMK 33GX249 10910288',\n",
    "              'fnumber': 6.4,\n",
    "              'flength': None,\n",
    "              'cwl': 650.0,\n",
    "              'fwhm': 50.0,\n",
    "              'width': 1920,\n",
    "              'height': 1200,\n",
    "              'roix': 0,\n",
    "              'roiy': 0,\n",
    "              'roiw': 1920,\n",
    "              'roih': 1200\n",
    "              },    \n",
    "        'DMK 33GX249 23120778':\n",
    "             {'number': 3,\n",
    "              'serial': 'DMK 33GX249 23120778',\n",
    "              'fnumber': 6.4,\n",
    "              'flength': None,\n",
    "              'cwl': 725.0,\n",
    "              'fwhm': 50.0,\n",
    "              'width': 1920,\n",
    "              'height': 1200,\n",
    "              'roix': 0,\n",
    "              'roiy': 0,\n",
    "              'roiw': 1920,\n",
    "              'roih': 1200\n",
    "              },  \n",
    "        'DMK 33GX249 10910291':\n",
    "             {'number': 4,\n",
    "              'serial': 'DMK 33GX249 10910291',\n",
    "              'fnumber': 6.2,\n",
    "              'flength': None,\n",
    "              'cwl': 850.0,\n",
    "              'fwhm': 50.0,\n",
    "              'width': 1920,\n",
    "              'height': 1200,\n",
    "              'roix': 0,\n",
    "              'roiy': 0,\n",
    "              'roiw': 1920,\n",
    "              'roih': 1200\n",
    "              },  \n",
    "        'DMK 33GX249 10910295':\n",
    "             {'number': 5,\n",
    "              'serial': 'DMK 33GX249 10910295',\n",
    "              'fnumber': 5.8,\n",
    "              'flength': None,\n",
    "              'cwl': 950.0,\n",
    "              'fwhm': 50.0,\n",
    "              'width': 1920,\n",
    "              'height': 1200,\n",
    "              'roix': 0,\n",
    "              'roiy': 0,\n",
    "              'roiw': 1920,\n",
    "              'roih': 1200\n",
    "              },  \n",
    "        'Band8':\n",
    "             {'number': 8,\n",
    "              'serial': None,\n",
    "              'fnumber': 6.4,\n",
    "              'flength': None,\n",
    "              'cwl': 550.0,\n",
    "              'fwhm': 250.0,\n",
    "              'width': 1920,\n",
    "              'height': 1200,\n",
    "              'roix': 0,\n",
    "              'roiy': 0,\n",
    "              'roiw': 1920,\n",
    "              'roih': 1200\n",
    "              },  \n",
    "       }"
   ]
  },
  {
   "attachments": {},
   "cell_type": "markdown",
   "metadata": {},
   "source": [
    "# Getting the list of available cameras\n",
    "\n",
    "Here we connect to the available cameras, and get a list of their names."
   ]
  },
  {
   "cell_type": "code",
   "execution_count": 2,
   "metadata": {},
   "outputs": [
    {
     "data": {
      "text/plain": [
       "1"
      ]
     },
     "execution_count": 2,
     "metadata": {},
     "output_type": "execute_result"
    }
   ],
   "source": [
    "import tisgrabber as tis\n",
    "from pathlib import Path\n",
    "import ctypes\n",
    "import numpy as np\n",
    "import tifffile as tiff\n",
    "import matplotlib.pyplot as plt\n",
    "import pandas as pd\n",
    "\n",
    "# get the location of the tisgrabber_x64.dll file\n",
    "tis_dir = Path(tis.__file__).resolve().parents[0]\n",
    "tis_dll = str(Path(tis_dir, 'tisgrabber_x64.dll'))\n",
    "\n",
    "# Load/Initiate the tisgrabber library\n",
    "ic = ctypes.cdll.LoadLibrary(tis_dll)\n",
    "tis.declareFunctions(ic)\n",
    "ic.IC_InitLibrary(0)"
   ]
  },
  {
   "cell_type": "code",
   "execution_count": 3,
   "metadata": {},
   "outputs": [],
   "source": [
    "class CallbackUserdata(ctypes.Structure):\n",
    "    \"\"\" Example for user data passed to the callback function. \n",
    "    \"\"\"\n",
    "    def __init__(self, ):\n",
    "        self.unsused = \"\"\n",
    "        self.devicename = \"\"\n",
    "        self.connected = False\n",
    "\n",
    "\n",
    "def frameReadyCallback(hGrabber, pBuffer, framenumber, pData):\n",
    "    # Maybe do something here.\n",
    "    return\n",
    "\n",
    "\n",
    "def deviceLostCallback(hGrabber, userdata):\n",
    "    \"\"\" This a device lost callback function. Called, if the camera disconnects. \n",
    "    This function runs in the Grabber thread, not in the main thread.\n",
    "    :param: hGrabber: This is the real pointer to the grabber object. Do not use.\n",
    "    :param: pData : Pointer to additional user data structure\n",
    "    \"\"\"\n",
    "    userdata.connected = False\n",
    "    print(\"Device {} lost\".format(userdata.devicename))"
   ]
  },
  {
   "attachments": {},
   "cell_type": "markdown",
   "metadata": {},
   "source": [
    "Now we will get the list of cameras available:"
   ]
  },
  {
   "cell_type": "code",
   "execution_count": 4,
   "metadata": {},
   "outputs": [],
   "source": [
    "connected_cameras = []\n",
    "devicecount = ic.IC_GetDeviceCount()\n",
    "for i in range(0, devicecount):\n",
    "    uniquename = tis.D(ic.IC_GetUniqueNamefromList(i))\n",
    "    connected_cameras.append(uniquename)"
   ]
  },
  {
   "cell_type": "code",
   "execution_count": 5,
   "metadata": {},
   "outputs": [
    {
     "name": "stdout",
     "output_type": "stream",
     "text": [
      "['DMK 33GX249 10910288', 'DMK 33GX249 10910273', 'DMK 33GX249 10910289', 'DMK 33GX249 10910291', 'DMK 33GX249 10910295', 'DMK 33GX249 23120778']\n"
     ]
    }
   ],
   "source": [
    "print(connected_cameras)"
   ]
  },
  {
   "attachments": {},
   "cell_type": "markdown",
   "metadata": {},
   "source": [
    "Now for each of these cameras in turn, we will create a tisgrabber."
   ]
  },
  {
   "cell_type": "code",
   "execution_count": 6,
   "metadata": {},
   "outputs": [
    {
     "name": "stdout",
     "output_type": "stream",
     "text": [
      "Device DMK 33GX249 10910288 succesfully connected.\n",
      "Device DMK 33GX249 10910273 succesfully connected.\n",
      "Device DMK 33GX249 10910289 succesfully connected.\n",
      "Device DMK 33GX249 10910291 succesfully connected.\n",
      "Device DMK 33GX249 10910295 succesfully connected.\n",
      "Device DMK 33GX249 23120778 succesfully connected.\n"
     ]
    }
   ],
   "source": [
    "grabbers = {}\n",
    "for camera in connected_cameras:\n",
    "    cam_name = camera\n",
    "    grabber = ic.IC_CreateGrabber()\n",
    "    ic.IC_OpenDevByUniqueName(grabber, tis.T(cam_name))\n",
    "\n",
    "    frameReadyCallbackfunc = ic.FRAMEREADYCALLBACK(frameReadyCallback)\n",
    "    userdata = CallbackUserdata()\n",
    "    devicelostcallbackfunc = ic.DEVICELOSTCALLBACK(deviceLostCallback)\n",
    "\n",
    "    userdata.devicename = cam_name\n",
    "    userdata.connected = True\n",
    "\n",
    "    ic.IC_SetCallbacks(grabber,\n",
    "                    frameReadyCallbackfunc, None,\n",
    "                    devicelostcallbackfunc, userdata)\n",
    "\n",
    "    # check the device is connected\n",
    "    if ic.IC_IsDevValid(grabber):\n",
    "        print(f'Device {cam_name} succesfully connected.')\n",
    "    else:\n",
    "        err_string = f'Camera {cam_name} did not connect - check connection and try again'\n",
    "        ic.IC_MsgBox( tis.T(err_string),tis.T(\"Connection Error\"))\n",
    "    \n",
    "    grabbers[cam_name] = grabber"
   ]
  },
  {
   "attachments": {},
   "cell_type": "markdown",
   "metadata": {},
   "source": [
    "# Finding the Band Number for each Camera\n",
    "\n",
    "Now we will connect to each of these cameras in turn, and begin a live video.\n",
    "\n",
    "To find the camera number, wave in front of each channel of the OROCHI simulator in turn, and note the band number of the camera you see your hand in.\n",
    "\n",
    "Then enter the band number after the prompt."
   ]
  },
  {
   "cell_type": "markdown",
   "metadata": {},
   "source": [
    "for cam_name in connected_cameras:\n",
    "    grabber = grabbers[cam_name]\n",
    "    ic.IC_StartLive(grabber,1)\n",
    "    ic.IC_MsgBox(tis.T('Find the band number by waving in front of each camera'), tis.T('Camera Configuration'))\n",
    "    ic.IC_StopLive(grabber,1)\n",
    "    band_number = input(prompt='Enter band number e.g. \"3\"')\n",
    "    band_label = f'Band{band_number}'\n",
    "    cameras[band_label]['serial'] = cam_name\n",
    "    cameras[cam_name] = cameras.pop(band_label)"
   ]
  },
  {
   "attachments": {},
   "cell_type": "markdown",
   "metadata": {},
   "source": [
    "Now we have a dictionary labelled by camera serial number."
   ]
  },
  {
   "cell_type": "code",
   "execution_count": 7,
   "metadata": {},
   "outputs": [
    {
     "name": "stdout",
     "output_type": "stream",
     "text": [
      "{'Band1': {'number': 1, 'serial': None, 'fnumber': 6.4, 'flength': None, 'cwl': 400.0, 'fwhm': 50.0, 'width': 1920, 'height': 1200, 'roix': 0, 'roiy': 0, 'roiw': 1920, 'roih': 1200}, 'DMK 33GX249 10910273': {'number': 1, 'serial': 'DMK 33GX249 10910273', 'fnumber': 6.4, 'flength': None, 'cwl': 475.0, 'fwhm': 25.0, 'width': 1920, 'height': 1200, 'roix': 0, 'roiy': 0, 'roiw': 1920, 'roih': 1200}, 'DMK 33GX249 10910289': {'number': 2, 'serial': 'DMK 33GX249 10910289', 'fnumber': 6.4, 'flength': None, 'cwl': 550.0, 'fwhm': 25.0, 'width': 1920, 'height': 1200, 'roix': 0, 'roiy': 0, 'roiw': 1920, 'roih': 1200}, 'DMK 33GX249 10910288': {'number': 0, 'serial': 'DMK 33GX249 10910288', 'fnumber': 6.4, 'flength': None, 'cwl': 650.0, 'fwhm': 50.0, 'width': 1920, 'height': 1200, 'roix': 0, 'roiy': 0, 'roiw': 1920, 'roih': 1200}, 'DMK 33GX249 23120778': {'number': 3, 'serial': 'DMK 33GX249 23120778', 'fnumber': 6.4, 'flength': None, 'cwl': 725.0, 'fwhm': 50.0, 'width': 1920, 'height': 1200, 'roix': 0, 'roiy': 0, 'roiw': 1920, 'roih': 1200}, 'DMK 33GX249 10910291': {'number': 4, 'serial': 'DMK 33GX249 10910291', 'fnumber': 6.2, 'flength': None, 'cwl': 850.0, 'fwhm': 50.0, 'width': 1920, 'height': 1200, 'roix': 0, 'roiy': 0, 'roiw': 1920, 'roih': 1200}, 'DMK 33GX249 10910295': {'number': 5, 'serial': 'DMK 33GX249 10910295', 'fnumber': 5.8, 'flength': None, 'cwl': 950.0, 'fwhm': 50.0, 'width': 1920, 'height': 1200, 'roix': 0, 'roiy': 0, 'roiw': 1920, 'roih': 1200}, 'Band8': {'number': 8, 'serial': None, 'fnumber': 6.4, 'flength': None, 'cwl': 550.0, 'fwhm': 250.0, 'width': 1920, 'height': 1200, 'roix': 0, 'roiy': 0, 'roiw': 1920, 'roih': 1200}}\n"
     ]
    }
   ],
   "source": [
    "print(cameras)"
   ]
  },
  {
   "attachments": {},
   "cell_type": "markdown",
   "metadata": {},
   "source": [
    "# Setting Region of Interest\n",
    "\n",
    "The sample typically occupies only a small portion of the image, so it is useful to record this region of interest for future use.\n",
    "\n",
    "We can do this by simply finding the brightest pixel after blurring, and centering a 128 x 128 window around this."
   ]
  },
  {
   "cell_type": "code",
   "execution_count": 8,
   "metadata": {},
   "outputs": [],
   "source": [
    "def set_defaults(grabber, exposure=1.0/100, auto_exposure=1, black_level=26):\n",
    "    black_level = black_level*2**4\n",
    "    set_property('Brightness', 'Value', black_level, 'Range', grabber) # brightness is Black Level in DN for the 12-bit range of the detector. Default is to 10% of detector range, for linearity\n",
    "    set_property('Contrast', 'Value', 0, 'Range', grabber)\n",
    "    set_property('Sharpness', 'Value', 0, 'Range', grabber)    \n",
    "    set_property('Gamma', 'Value', 100, 'Range', grabber)\n",
    "    set_property('Gain', 'Value', 0.0, 'AbsoluteValue', grabber)\n",
    "    set_property('Gain', 'Auto', 0, 'Switch', grabber)\n",
    "    set_property('Exposure', 'Value', exposure, 'AbsoluteValue', grabber)\n",
    "    set_property('Exposure', 'Auto', auto_exposure, 'Switch', grabber)\n",
    "    set_property('Exposure', 'Auto Reference', 80, 'Range', grabber)\n",
    "    set_property('Exposure', 'Auto Max Value', 2.0, 'AbsoluteValue', grabber)\n",
    "    set_property('Exposure', 'Auto Max Auto', 0, 'Switch', grabber)\n",
    "    set_property('Trigger', 'Enable', 0, 'Switch', grabber)\n",
    "    set_property('Denoise', 'Value', 0, 'Range', grabber)\n",
    "    set_property('Flip Horizontal', 'Enable', 0, 'Switch', grabber)\n",
    "    set_property('Flip Vertical', 'Enable', 0, 'Switch', grabber)\n",
    "    set_property('Highlight Reduction', 'Enable', 0, 'Switch', grabber)\n",
    "    set_property('Tone Mapping', 'Enable', 0, 'Switch', grabber)\n",
    "    set_property('Strobe', 'Enable', 0, 'Switch', grabber)\n",
    "    set_property('Auto Functions ROI', 'Enabled', 0, 'Switch', grabber)"
   ]
  },
  {
   "cell_type": "code",
   "execution_count": 9,
   "metadata": {},
   "outputs": [],
   "source": [
    "def set_property(property: str, element: str, value, interface: str, hGrabber):\n",
    "    \n",
    "    if interface == 'Range':\n",
    "        set_property_func = ic.IC_SetPropertyValue\n",
    "        value = ctypes.c_int(value)\n",
    "    elif interface == 'AbsoluteValue':\n",
    "        set_property_func = ic.IC_SetPropertyAbsoluteValue\n",
    "        value = ctypes.c_float(value)\n",
    "    elif interface == 'AbsoluteValueRange':\n",
    "        set_property_func = ic.IC_SetPropertyAbsoluteValueRange\n",
    "        value = ctypes.c_float(value)\n",
    "    elif interface == 'Switch':\n",
    "        set_property_func = ic.IC_SetPropertySwitch\n",
    "        value = ctypes.c_int(value)\n",
    "    elif interface == 'MapStrings':\n",
    "        set_property_func = ic.IC_SetPropertyMapStrings\n",
    "        value = ctypes.c_char(value)\n",
    "    elif interface == 'Button':\n",
    "        set_property_func = ic.IC_SetPropertyOnePush\n",
    "        value = ctypes.c_int(value)\n",
    "\n",
    "    ret = set_property_func(\n",
    "            hGrabber, \n",
    "            property.encode(\"utf-8\"),\n",
    "            element.encode(\"utf-8\"), \n",
    "            value)\n",
    "    if ret == 1:\n",
    "        print(f'{property} {element} set to {value.value}')\n",
    "    elif ret == -2:\n",
    "        raise ValueError('No video capture device opened')\n",
    "    elif ret == -4:\n",
    "        raise ValueError(f'{property} is not available')\n",
    "    elif ret == -5:\n",
    "        raise ValueError(f'{property} item {element} is not available')\n",
    "    elif ret == -6:\n",
    "        raise ValueError(f'{property} {element} has no interface')"
   ]
  },
  {
   "cell_type": "code",
   "execution_count": 10,
   "metadata": {},
   "outputs": [],
   "source": [
    "def get_image_info(grabber):\n",
    "    width = ctypes.c_long()\n",
    "    height = ctypes.c_long()\n",
    "    bits = ctypes.c_long()\n",
    "    col_fmt = ctypes.c_int()\n",
    "\n",
    "    ic.IC_GetImageDescription(grabber, width, height,\n",
    "                            bits, col_fmt)\n",
    "\n",
    "\n",
    "    bpp = int(bits.value / 8.0)\n",
    "    buffer_size = width.value * height.value * bits.value\n",
    "\n",
    "    return width.value, height.value, buffer_size, bpp"
   ]
  },
  {
   "cell_type": "code",
   "execution_count": 11,
   "metadata": {},
   "outputs": [],
   "source": [
    "def image_capture(grabber, camera=None, roi=False):\n",
    "    print(f'Device valid: {ic.IC_IsDevValid(grabber)}')\n",
    "    ic.IC_StartLive(grabber,1)\n",
    "    ic.IC_SnapImage(grabber, 2000) == tis.IC_SUCCESS\n",
    "    ic.IC_StopLive(grabber,1)\n",
    "\n",
    "    width, height, buffer_size, bpp = get_image_info(grabber)\n",
    "\n",
    "    # Get the image data\n",
    "    imagePtr = ic.IC_GetImagePtr(grabber)\n",
    "\n",
    "    imagedata = ctypes.cast(imagePtr,\n",
    "                            ctypes.POINTER(ctypes.c_ubyte *\n",
    "                                        buffer_size))\n",
    "\n",
    "    # Create the numpy array\n",
    "    image = np.ndarray(buffer=imagedata.contents,\n",
    "                    dtype=np.uint8,\n",
    "                    shape=(height,\n",
    "                            width,\n",
    "                            bpp))\n",
    "\n",
    "    if roi:\n",
    "        x = camera['roix']\n",
    "        y = camera['roiy']\n",
    "        w = camera['roiw']\n",
    "        h = camera['roih']\n",
    "        image = image[x:x+w,y:y+h,0]\n",
    "    else:\n",
    "        image = image[:,:,0]\n",
    "    return image"
   ]
  },
  {
   "cell_type": "code",
   "execution_count": 12,
   "metadata": {},
   "outputs": [],
   "source": [
    "def show_image(img_arr, title):\n",
    "    plt.imshow(img_arr, origin='lower')\n",
    "    plt.title(title)\n",
    "    plt.colorbar()\n",
    "    plt.show()"
   ]
  },
  {
   "cell_type": "code",
   "execution_count": 13,
   "metadata": {},
   "outputs": [
    {
     "name": "stderr",
     "output_type": "stream",
     "text": [
      "C:\\Users\\kameken\\AppData\\Local\\Temp\\ipykernel_9240\\1401773607.py:1: DeprecationWarning: Please use `gaussian_filter` from the `scipy.ndimage` namespace, the `scipy.ndimage.filters` namespace is deprecated.\n",
      "  from scipy.ndimage.filters import gaussian_filter\n"
     ]
    },
    {
     "name": "stdout",
     "output_type": "stream",
     "text": [
      "Device valid: 1\n"
     ]
    },
    {
     "ename": "",
     "evalue": "",
     "output_type": "error",
     "traceback": [
      "\u001b[1;31mCanceled future for execute_request message before replies were done"
     ]
    },
    {
     "ename": "",
     "evalue": "",
     "output_type": "error",
     "traceback": [
      "\u001b[1;31mThe Kernel crashed while executing code in the the current cell or a previous cell. Please review the code in the cell(s) to identify a possible cause of the failure. Click <a href='https://aka.ms/vscodeJupyterKernelCrash'>here</a> for more info. View Jupyter <a href='command:jupyter.viewOutput'>log</a> for further details."
     ]
    }
   ],
   "source": [
    "from scipy.ndimage.filters import gaussian_filter\n",
    "\n",
    "size = 128 # size of ROI\n",
    "for cam_name in connected_cameras:\n",
    "    grabber = grabbers[cam_name]\n",
    "    # set_defaults(grabber)\n",
    "    cam_num = cameras[cam_name]['number']\n",
    "    title = f'Band {cam_num} ({cam_name}) ROI Check'\n",
    "    img = image_capture(grabber)\n",
    "    show_image(img, title)\n",
    "    blurred = gaussian_filter(img, sigma=15)\n",
    "    cntr = np.unravel_index(np.argmax(blurred, axis=None), blurred.shape)\n",
    "    xlim = cntr[0]-int(size/2)\n",
    "    ylim = cntr[1]-int(size/2)\n",
    "    print(f'x: {xlim}')\n",
    "    print(f'y: {ylim}')\n",
    "    cameras[cam_name]['roix'] = xlim\n",
    "    cameras[cam_name]['roiy'] = ylim\n",
    "    cameras[cam_name]['roiw'] = size\n",
    "    cameras[cam_name]['roih'] = size\n"
   ]
  },
  {
   "attachments": {},
   "cell_type": "markdown",
   "metadata": {},
   "source": [
    "Now we check that the ROIs are satisfactory:"
   ]
  },
  {
   "cell_type": "code",
   "execution_count": null,
   "metadata": {},
   "outputs": [],
   "source": [
    "for cam_name in connected_cameras:\n",
    "    grabber = grabbers[cam_name]\n",
    "    img = image_capture(grabber, camera=cameras[cam_name], roi=True)\n",
    "    cam_num = cameras[cam_name]['number']\n",
    "    title = f'Band {cam_num} ({cam_name}) ROI Check'\n",
    "    show_image(img, title)"
   ]
  },
  {
   "attachments": {},
   "cell_type": "markdown",
   "metadata": {},
   "source": [
    "# Export the Camera Properties for Further Use\n",
    "\n",
    "Now we export these properties to use in our image capture routines."
   ]
  },
  {
   "cell_type": "code",
   "execution_count": null,
   "metadata": {},
   "outputs": [],
   "source": [
    "cameras"
   ]
  },
  {
   "cell_type": "code",
   "execution_count": null,
   "metadata": {},
   "outputs": [],
   "source": [
    "for camera in connected_cameras:\n",
    "    print(list(cameras[camera].values()))"
   ]
  },
  {
   "cell_type": "code",
   "execution_count": 3,
   "metadata": {},
   "outputs": [],
   "source": [
    "import pandas as pd\n",
    "\n",
    "cam_info = []\n",
    "for camera in cameras:\n",
    "    cam_props = list(cameras[camera].values())\n",
    "    index = list(cameras[camera].keys())\n",
    "    cam_info.append(pd.Series(cam_props, index = index, name = camera))\n",
    "cam_df = pd.concat(cam_info, axis=1)\n",
    "cam_df.sort_values('number', axis=1, ascending=True, inplace=True)"
   ]
  },
  {
   "attachments": {},
   "cell_type": "markdown",
   "metadata": {},
   "source": [
    "Now we save the camera settings:"
   ]
  },
  {
   "cell_type": "code",
   "execution_count": 4,
   "metadata": {},
   "outputs": [],
   "source": [
    "camera_file = 'camera_config.csv'\n",
    "cam_df.to_csv(camera_file)"
   ]
  },
  {
   "cell_type": "code",
   "execution_count": null,
   "metadata": {},
   "outputs": [],
   "source": []
  }
 ],
 "metadata": {
  "kernelspec": {
   "display_name": "orochi_sim_ctrl_test",
   "language": "python",
   "name": "python3"
  },
  "language_info": {
   "codemirror_mode": {
    "name": "ipython",
    "version": 3
   },
   "file_extension": ".py",
   "mimetype": "text/x-python",
   "name": "python",
   "nbconvert_exporter": "python",
   "pygments_lexer": "ipython3",
   "version": "3.10.11"
  },
  "orig_nbformat": 4
 },
 "nbformat": 4,
 "nbformat_minor": 2
}

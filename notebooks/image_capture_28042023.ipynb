{
 "cells": [
  {
   "attachments": {},
   "cell_type": "markdown",
   "metadata": {},
   "source": [
    "A notebook for guiding image capture and reflectance and stereo calibration with the OROCHI laboratory simulator."
   ]
  },
  {
   "attachments": {},
   "cell_type": "markdown",
   "metadata": {},
   "source": [
    "Experiments performed on 28/04/2023\n",
    "\n",
    "- Reflectance Calibration\n",
    "- Geometric Calibration\n",
    "- Dark Calibration Target\n",
    "- Sample 1\n",
    "- Sample 2\n",
    "- Sample 3\n",
    "- Sample 4\n",
    "- Sample 5"
   ]
  },
  {
   "cell_type": "code",
   "execution_count": null,
   "metadata": {},
   "outputs": [],
   "source": [
    "%reload_ext autoreload\n",
    "%autoreload 2\n",
    "%matplotlib inline"
   ]
  },
  {
   "attachments": {},
   "cell_type": "markdown",
   "metadata": {},
   "source": [
    "# Overview\n",
    "\n",
    "The steps are as follows. Note that dark image capture is reserved for the end, to minimise physical interactions with the cameras.\n",
    "\n",
    "1. Reflectace Calibration Target Imaging\n",
    "    - Prompt: Lens Cap removal, put calibration target in place\n",
    "    - Cycle over cameras. For each camera:\n",
    "        - Test the connection\n",
    "        - load/configure the camera\n",
    "        - get optimal exposure and check ROI\n",
    "        - capture repeat images of the calibration target\n",
    "        - save the images\n",
    "        - save the exposures used\n",
    "2. Geometric Calibration Target Imaging\n",
    "    - Prompt: Lens Cap removal, put geometric calibration target in place\n",
    "    - Cycle over cameras. For each camera:\n",
    "        - Test the connection\n",
    "        - load/configure the camera\n",
    "        - get optimal exposure and check ROI\n",
    "        - capture repeat images of the geometric calibration target\n",
    "        - save the images\n",
    "        - save the exposures used\n",
    "3. Sample Imaging\n",
    "    - as above, but with the sample replacing the calibration target\n",
    "    - repeat for each of 4 different samples\n",
    "4. Dark Imaging\n",
    "    - Prompt: Lens cap on / lights out\n",
    "    - Cycle over cameras. For each camera:\n",
    "        - check connection\n",
    "            - Calibration darks:\n",
    "                - load calibration exposure for given camera\n",
    "                - set exposure\n",
    "                - capture repeat frames\n",
    "                - save frames\n",
    "            - Sample darks:\n",
    "                - as aove but load sample exposures instead\n",
    "5. Processing to Reflectance"
   ]
  },
  {
   "attachments": {},
   "cell_type": "markdown",
   "metadata": {},
   "source": [
    "# Setup\n",
    "\n",
    "Here we setup the IC object, load the camera configuration file, and connect to and initiate the OROCHI camera channels."
   ]
  },
  {
   "cell_type": "code",
   "execution_count": null,
   "metadata": {},
   "outputs": [],
   "source": [
    "import orochi_sim_ctrl as osc\n",
    "\n",
    "ic = osc.start_ic()\n",
    "camera_config = osc.load_camera_config()\n",
    "cameras = osc.connect_cameras(ic, camera_config)\n",
    "osc.configure_cameras(cameras)"
   ]
  },
  {
   "attachments": {},
   "cell_type": "markdown",
   "metadata": {},
   "source": [
    "## Set ROIs"
   ]
  },
  {
   "cell_type": "code",
   "execution_count": null,
   "metadata": {},
   "outputs": [],
   "source": [
    "osc.find_camera_rois(cameras, roi_size=128)"
   ]
  },
  {
   "attachments": {},
   "cell_type": "markdown",
   "metadata": {},
   "source": [
    "# Calibration Target Imaging\n",
    "\n",
    "- Prompt: Lens Cap removal, put calibration target in place\n",
    "- Cycle over cameras. For each camera:\n",
    "    - get optimal exposure and check ROI\n",
    "    - capture repeat images of the calibration target\n",
    "    - save the images\n",
    "    - save the exposures used"
   ]
  },
  {
   "cell_type": "markdown",
   "metadata": {},
   "source": [
    "Check:\n",
    "1. The calibration target is in place\n",
    "2. Lens cap is removed"
   ]
  },
  {
   "cell_type": "code",
   "execution_count": null,
   "metadata": {},
   "outputs": [],
   "source": [
    "osc.prepare_reflectance_calibration(ic)"
   ]
  },
  {
   "attachments": {},
   "cell_type": "markdown",
   "metadata": {},
   "source": [
    "Find the optimal exposures for calibration target imaging."
   ]
  },
  {
   "cell_type": "code",
   "execution_count": null,
   "metadata": {},
   "outputs": [],
   "source": [
    "calibration_exposures = osc.find_channel_exposures(cameras)"
   ]
  },
  {
   "attachments": {},
   "cell_type": "markdown",
   "metadata": {},
   "source": [
    "Check the calibration target images."
   ]
  },
  {
   "cell_type": "code",
   "execution_count": null,
   "metadata": {},
   "outputs": [],
   "source": [
    "osc.capture_channel_images(\n",
    "    cameras, \n",
    "    calibration_exposures, \n",
    "    subject='Calibration Check', \n",
    "    roi=True, \n",
    "    show_img=True)"
   ]
  },
  {
   "attachments": {},
   "cell_type": "markdown",
   "metadata": {},
   "source": [
    "Capture 10 repeat images of the calibration target in each channel."
   ]
  },
  {
   "cell_type": "code",
   "execution_count": null,
   "metadata": {},
   "outputs": [],
   "source": [
    "osc.capture_channel_images(\n",
    "    cameras, \n",
    "    calibration_exposures, \n",
    "    subject='reflectance_calibration', \n",
    "    repeats=10,\n",
    "    roi=False, \n",
    "    show_img=False,\n",
    "    save_img=True)"
   ]
  },
  {
   "attachments": {},
   "cell_type": "markdown",
   "metadata": {},
   "source": [
    "Write the exposures to file."
   ]
  },
  {
   "cell_type": "code",
   "execution_count": null,
   "metadata": {},
   "outputs": [],
   "source": [
    "osc.record_exposures(cameras, calibration_exposures, 'reflectance_calibration')"
   ]
  },
  {
   "cell_type": "markdown",
   "metadata": {},
   "source": [
    "# Geometric Calibration Target Imaging\n",
    "\n",
    "- Prompt: Lens Cap removal, put geometric calibration target in place\n",
    "- Cycle over cameras. For each camera:\n",
    "    - get optimal exposure and check ROI\n",
    "    - capture repeat images of the geometric calibration target\n",
    "    - save the images\n",
    "    - save the exposures used"
   ]
  },
  {
   "attachments": {},
   "cell_type": "markdown",
   "metadata": {},
   "source": [
    "Check:\n",
    "1. The geometric target is in place\n",
    "2. Lens cap is removed"
   ]
  },
  {
   "cell_type": "code",
   "execution_count": null,
   "metadata": {},
   "outputs": [],
   "source": [
    "osc.prepare_geometric_calibration(ic)"
   ]
  },
  {
   "attachments": {},
   "cell_type": "markdown",
   "metadata": {},
   "source": [
    "Find the optimal exposures for geometric calibration target imaging."
   ]
  },
  {
   "cell_type": "code",
   "execution_count": null,
   "metadata": {},
   "outputs": [],
   "source": [
    "geometric_exposures = osc.find_channel_exposures(cameras, roi=True)"
   ]
  },
  {
   "attachments": {},
   "cell_type": "markdown",
   "metadata": {},
   "source": [
    "Check the geometric calibration target images."
   ]
  },
  {
   "cell_type": "code",
   "execution_count": null,
   "metadata": {},
   "outputs": [],
   "source": [
    "osc.capture_channel_images(\n",
    "    cameras, \n",
    "    geometric_exposures, \n",
    "    subject='Geometric Calibration Check', \n",
    "    roi=False, \n",
    "    show_img=True)"
   ]
  },
  {
   "attachments": {},
   "cell_type": "markdown",
   "metadata": {},
   "source": [
    "Capture 10 repeat images of the geometric calibration target in each channel."
   ]
  },
  {
   "cell_type": "code",
   "execution_count": null,
   "metadata": {},
   "outputs": [],
   "source": [
    "osc.capture_channel_images(\n",
    "    cameras, \n",
    "    geometric_exposures, \n",
    "    subject='geometric_calibration', \n",
    "    repeats=10,\n",
    "    roi=False, \n",
    "    show_img=False,\n",
    "    save_img=True)"
   ]
  },
  {
   "cell_type": "markdown",
   "metadata": {},
   "source": [
    "Write the exposures to file."
   ]
  },
  {
   "cell_type": "code",
   "execution_count": null,
   "metadata": {},
   "outputs": [],
   "source": [
    "osc.record_exposures(cameras, geometric_exposures, 'geometric_calibration')"
   ]
  },
  {
   "attachments": {},
   "cell_type": "markdown",
   "metadata": {},
   "source": [
    "# Dark Calibration Target Imaging\n",
    "\n",
    "For validating the spectral reflectance retrieval, and if neccessary for further reflectance calibration."
   ]
  },
  {
   "attachments": {},
   "cell_type": "markdown",
   "metadata": {},
   "source": [
    "Find the optimal exposures for dark calibration target imaging."
   ]
  },
  {
   "cell_type": "code",
   "execution_count": null,
   "metadata": {},
   "outputs": [],
   "source": [
    "dark_calibration_exposures = osc.find_channel_exposures(cameras)"
   ]
  },
  {
   "cell_type": "markdown",
   "metadata": {},
   "source": [
    "Check the calibration target images."
   ]
  },
  {
   "cell_type": "code",
   "execution_count": null,
   "metadata": {},
   "outputs": [],
   "source": [
    "osc.capture_channel_images(\n",
    "    cameras, \n",
    "    dark_calibration_exposures, \n",
    "    subject='Dark Calibration Check', \n",
    "    roi=True, \n",
    "    show_img=True)"
   ]
  },
  {
   "cell_type": "markdown",
   "metadata": {},
   "source": [
    "Capture 10 repeat images of the calibration target in each channel."
   ]
  },
  {
   "cell_type": "code",
   "execution_count": null,
   "metadata": {},
   "outputs": [],
   "source": [
    "osc.capture_channel_images(\n",
    "    cameras, \n",
    "    calibration_exposures, \n",
    "    subject='dark_reflectance_calibration', \n",
    "    repeats=10,\n",
    "    roi=False, \n",
    "    show_img=False,\n",
    "    save_img=True)"
   ]
  },
  {
   "cell_type": "markdown",
   "metadata": {},
   "source": [
    "Write the exposures to file."
   ]
  },
  {
   "cell_type": "code",
   "execution_count": null,
   "metadata": {},
   "outputs": [],
   "source": [
    "osc.record_exposures(cameras, dark_calibration_exposures, 'dark_reflectance_calibration')"
   ]
  },
  {
   "cell_type": "markdown",
   "metadata": {},
   "source": [
    "# Sample Imaging\n",
    "\n",
    "- Prompt: Lens Cap removal, put sample in place\n",
    "- Cycle over cameras. For each camera:\n",
    "    - get optimal exposure and check ROI\n",
    "    - capture repeat images of the sample\n",
    "    - save the images\n",
    "    - save the exposures used"
   ]
  },
  {
   "attachments": {},
   "cell_type": "markdown",
   "metadata": {},
   "source": [
    "## Sample 1"
   ]
  },
  {
   "attachments": {},
   "cell_type": "markdown",
   "metadata": {},
   "source": [
    "Check:\n",
    "1. The sample is in place\n",
    "2. Lens cap is removed"
   ]
  },
  {
   "cell_type": "code",
   "execution_count": null,
   "metadata": {},
   "outputs": [],
   "source": [
    "osc.prepare_sample_imaging(ic)"
   ]
  },
  {
   "attachments": {},
   "cell_type": "markdown",
   "metadata": {},
   "source": [
    "Find the optimal exposures for sample imaging."
   ]
  },
  {
   "cell_type": "code",
   "execution_count": null,
   "metadata": {},
   "outputs": [],
   "source": [
    "sample_exposures = osc.find_channel_exposures(cameras, roi=True)"
   ]
  },
  {
   "attachments": {},
   "cell_type": "markdown",
   "metadata": {},
   "source": [
    "Check the sample images."
   ]
  },
  {
   "cell_type": "code",
   "execution_count": null,
   "metadata": {},
   "outputs": [],
   "source": [
    "osc.capture_channel_images(\n",
    "    cameras, \n",
    "    sample_exposures, \n",
    "    subject='Sample Check', \n",
    "    roi=False, \n",
    "    show_img=True)"
   ]
  },
  {
   "cell_type": "markdown",
   "metadata": {},
   "source": [
    "Capture 10 repeat images of the geometric calibration target in each channel."
   ]
  },
  {
   "cell_type": "code",
   "execution_count": null,
   "metadata": {},
   "outputs": [],
   "source": [
    "osc.capture_channel_images(\n",
    "    cameras, \n",
    "    sample_exposures, \n",
    "    subject='sample_1', \n",
    "    repeats=10,\n",
    "    roi=False, \n",
    "    show_img=False,\n",
    "    save_img=True)"
   ]
  },
  {
   "cell_type": "markdown",
   "metadata": {},
   "source": [
    "Write the exposures to file."
   ]
  },
  {
   "cell_type": "code",
   "execution_count": null,
   "metadata": {},
   "outputs": [],
   "source": [
    "osc.record_exposures(cameras, sample_exposures, 'sample_1')"
   ]
  },
  {
   "attachments": {},
   "cell_type": "markdown",
   "metadata": {},
   "source": [
    "## Sample 2"
   ]
  },
  {
   "cell_type": "code",
   "execution_count": null,
   "metadata": {},
   "outputs": [],
   "source": [
    "sample_exposures = osc.find_channel_exposures(cameras, roi=True)"
   ]
  },
  {
   "cell_type": "code",
   "execution_count": null,
   "metadata": {},
   "outputs": [],
   "source": [
    "osc.capture_channel_images(\n",
    "    cameras, \n",
    "    sample_exposures, \n",
    "    subject='sample_2', \n",
    "    repeats=10,\n",
    "    roi=False, \n",
    "    show_img=False,\n",
    "    save_img=True)"
   ]
  },
  {
   "cell_type": "code",
   "execution_count": null,
   "metadata": {},
   "outputs": [],
   "source": [
    "osc.record_exposures(cameras, sample_exposures, 'sample_2')"
   ]
  },
  {
   "attachments": {},
   "cell_type": "markdown",
   "metadata": {},
   "source": [
    "## Sample 3"
   ]
  },
  {
   "cell_type": "code",
   "execution_count": null,
   "metadata": {},
   "outputs": [],
   "source": [
    "sample_exposures = osc.find_channel_exposures(cameras, roi=True)"
   ]
  },
  {
   "cell_type": "code",
   "execution_count": null,
   "metadata": {},
   "outputs": [],
   "source": [
    "osc.capture_channel_images(\n",
    "    cameras, \n",
    "    sample_exposures, \n",
    "    subject='sample_3', \n",
    "    repeats=10,\n",
    "    roi=False, \n",
    "    show_img=False,\n",
    "    save_img=True)"
   ]
  },
  {
   "cell_type": "code",
   "execution_count": null,
   "metadata": {},
   "outputs": [],
   "source": [
    "osc.record_exposures(cameras, sample_exposures, 'sample_3')"
   ]
  },
  {
   "attachments": {},
   "cell_type": "markdown",
   "metadata": {},
   "source": [
    "## Sample 4"
   ]
  },
  {
   "cell_type": "code",
   "execution_count": null,
   "metadata": {},
   "outputs": [],
   "source": [
    "sample_exposures = osc.find_channel_exposures(cameras, roi=True)"
   ]
  },
  {
   "cell_type": "code",
   "execution_count": null,
   "metadata": {},
   "outputs": [],
   "source": [
    "osc.capture_channel_images(\n",
    "    cameras, \n",
    "    sample_exposures, \n",
    "    subject='sample_4', \n",
    "    repeats=10,\n",
    "    roi=False, \n",
    "    show_img=False,\n",
    "    save_img=True)"
   ]
  },
  {
   "cell_type": "code",
   "execution_count": null,
   "metadata": {},
   "outputs": [],
   "source": [
    "osc.record_exposures(cameras, sample_exposures, 'sample_4')"
   ]
  },
  {
   "attachments": {},
   "cell_type": "markdown",
   "metadata": {},
   "source": [
    "## Sample 5"
   ]
  },
  {
   "cell_type": "code",
   "execution_count": null,
   "metadata": {},
   "outputs": [],
   "source": [
    "sample_exposures = osc.find_channel_exposures(cameras, roi=True)"
   ]
  },
  {
   "cell_type": "code",
   "execution_count": null,
   "metadata": {},
   "outputs": [],
   "source": [
    "osc.capture_channel_images(\n",
    "    cameras, \n",
    "    sample_exposures, \n",
    "    subject='sample_5', \n",
    "    repeats=10,\n",
    "    roi=False, \n",
    "    show_img=False,\n",
    "    save_img=True)"
   ]
  },
  {
   "cell_type": "code",
   "execution_count": null,
   "metadata": {},
   "outputs": [],
   "source": [
    "osc.record_exposures(cameras, sample_exposures, 'sample_5')"
   ]
  },
  {
   "cell_type": "markdown",
   "metadata": {},
   "source": [
    "# Dark Frame Imaging\n",
    "\n",
    "Now we use the recorded exposures to capture dark frames."
   ]
  },
  {
   "cell_type": "markdown",
   "metadata": {},
   "source": [
    "Check:\n",
    "1. Lens cap is in place"
   ]
  },
  {
   "cell_type": "code",
   "execution_count": null,
   "metadata": {},
   "outputs": [],
   "source": [
    "osc.prepare_dark_acquisition(ic)"
   ]
  },
  {
   "attachments": {},
   "cell_type": "markdown",
   "metadata": {},
   "source": [
    "## Reflectance Calibration Dark Frames."
   ]
  },
  {
   "attachments": {},
   "cell_type": "markdown",
   "metadata": {},
   "source": [
    "Load calibration target exposures"
   ]
  },
  {
   "cell_type": "code",
   "execution_count": null,
   "metadata": {},
   "outputs": [],
   "source": [
    "calibration_exposures = osc.load_exposures(cameras, 'reflectance_calibration')"
   ]
  },
  {
   "cell_type": "code",
   "execution_count": null,
   "metadata": {},
   "outputs": [],
   "source": [
    "osc.capture_channel_images(\n",
    "    cameras, \n",
    "    calibration_exposures, \n",
    "    subject='reflectance_calibration', \n",
    "    img_type='drk',\n",
    "    repeats=10,\n",
    "    roi=False, \n",
    "    show_img=False,\n",
    "    save_img=True)"
   ]
  },
  {
   "attachments": {},
   "cell_type": "markdown",
   "metadata": {},
   "source": [
    "## Geometric Calibration Dark Frames."
   ]
  },
  {
   "cell_type": "code",
   "execution_count": null,
   "metadata": {},
   "outputs": [],
   "source": [
    "geometric_exposures = osc.load_exposures(cameras, 'geometric_calibration')"
   ]
  },
  {
   "cell_type": "code",
   "execution_count": null,
   "metadata": {},
   "outputs": [],
   "source": [
    "osc.capture_channel_images(\n",
    "    cameras, \n",
    "    geometric_exposures, \n",
    "    subject='geometric_calibration', \n",
    "    img_type='drk',\n",
    "    repeats=10,\n",
    "    roi=False, \n",
    "    show_img=False,\n",
    "    save_img=True)"
   ]
  },
  {
   "attachments": {},
   "cell_type": "markdown",
   "metadata": {},
   "source": [
    "## Dark Calibration Dark Frames"
   ]
  },
  {
   "cell_type": "code",
   "execution_count": null,
   "metadata": {},
   "outputs": [],
   "source": [
    "dark_calibration_exposures = osc.load_exposures(cameras, 'dark_reflectance_calibration')"
   ]
  },
  {
   "cell_type": "code",
   "execution_count": null,
   "metadata": {},
   "outputs": [],
   "source": [
    "osc.capture_channel_images(\n",
    "    cameras, \n",
    "    dark_calibration_exposures, \n",
    "    subject='dark_reflectance_calibration', \n",
    "    img_type='drk',\n",
    "    repeats=10,\n",
    "    roi=False, \n",
    "    show_img=False,\n",
    "    save_img=True)"
   ]
  },
  {
   "attachments": {},
   "cell_type": "markdown",
   "metadata": {},
   "source": [
    "## Capture Sample Dark Frames."
   ]
  },
  {
   "attachments": {},
   "cell_type": "markdown",
   "metadata": {},
   "source": [
    "### Sample 1"
   ]
  },
  {
   "cell_type": "code",
   "execution_count": null,
   "metadata": {},
   "outputs": [],
   "source": [
    "sample_exposures = osc.load_exposures(cameras, 'sample_1')"
   ]
  },
  {
   "cell_type": "code",
   "execution_count": null,
   "metadata": {},
   "outputs": [],
   "source": [
    "osc.capture_channel_images(\n",
    "    cameras, \n",
    "    sample_exposures, \n",
    "    subject='sample_1', \n",
    "    img_type='drk',\n",
    "    repeats=10,\n",
    "    roi=False, \n",
    "    show_img=False,\n",
    "    save_img=True)"
   ]
  },
  {
   "attachments": {},
   "cell_type": "markdown",
   "metadata": {},
   "source": [
    "### Sample 2"
   ]
  },
  {
   "cell_type": "code",
   "execution_count": null,
   "metadata": {},
   "outputs": [],
   "source": [
    "sample_exposures = osc.load_exposures(cameras, 'sample_2')"
   ]
  },
  {
   "cell_type": "code",
   "execution_count": null,
   "metadata": {},
   "outputs": [],
   "source": [
    "osc.capture_channel_images(\n",
    "    cameras, \n",
    "    sample_exposures, \n",
    "    subject='sample_2', \n",
    "    img_type='drk',\n",
    "    repeats=10,\n",
    "    roi=False, \n",
    "    show_img=False,\n",
    "    save_img=True)"
   ]
  },
  {
   "attachments": {},
   "cell_type": "markdown",
   "metadata": {},
   "source": [
    "### Sample 3"
   ]
  },
  {
   "cell_type": "code",
   "execution_count": null,
   "metadata": {},
   "outputs": [],
   "source": [
    "sample_exposures = osc.load_exposures(cameras, 'sample_3')"
   ]
  },
  {
   "cell_type": "code",
   "execution_count": null,
   "metadata": {},
   "outputs": [],
   "source": [
    "osc.capture_channel_images(\n",
    "    cameras, \n",
    "    sample_exposures, \n",
    "    subject='sample_3', \n",
    "    img_type='drk',\n",
    "    repeats=10,\n",
    "    roi=False, \n",
    "    show_img=False,\n",
    "    save_img=True)"
   ]
  },
  {
   "attachments": {},
   "cell_type": "markdown",
   "metadata": {},
   "source": [
    "### Sample 4"
   ]
  },
  {
   "cell_type": "code",
   "execution_count": null,
   "metadata": {},
   "outputs": [],
   "source": [
    "sample_exposures = osc.load_exposures(cameras, 'sample_4')"
   ]
  },
  {
   "cell_type": "code",
   "execution_count": null,
   "metadata": {},
   "outputs": [],
   "source": [
    "osc.capture_channel_images(\n",
    "    cameras, \n",
    "    sample_exposures, \n",
    "    subject='sample_4', \n",
    "    img_type='drk',\n",
    "    repeats=10,\n",
    "    roi=False, \n",
    "    show_img=False,\n",
    "    save_img=True)"
   ]
  },
  {
   "attachments": {},
   "cell_type": "markdown",
   "metadata": {},
   "source": [
    "### Sample 5"
   ]
  },
  {
   "cell_type": "code",
   "execution_count": null,
   "metadata": {},
   "outputs": [],
   "source": [
    "sample_exposures = osc.load_exposures(cameras, 'sample_4')"
   ]
  },
  {
   "cell_type": "code",
   "execution_count": null,
   "metadata": {},
   "outputs": [],
   "source": [
    "osc.capture_channel_images(\n",
    "    cameras, \n",
    "    sample_exposures, \n",
    "    subject='sample_4', \n",
    "    img_type='drk',\n",
    "    repeats=10,\n",
    "    roi=False, \n",
    "    show_img=False,\n",
    "    save_img=True)"
   ]
  }
 ],
 "metadata": {
  "kernelspec": {
   "display_name": "orochi_sim_ctrl",
   "language": "python",
   "name": "python3"
  },
  "language_info": {
   "codemirror_mode": {
    "name": "ipython",
    "version": 3
   },
   "file_extension": ".py",
   "mimetype": "text/x-python",
   "name": "python",
   "nbconvert_exporter": "python",
   "pygments_lexer": "ipython3",
   "version": "3.10.9"
  },
  "orig_nbformat": 4
 },
 "nbformat": 4,
 "nbformat_minor": 2
}

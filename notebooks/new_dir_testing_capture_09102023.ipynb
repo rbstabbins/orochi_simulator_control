{
 "cells": [
  {
   "cell_type": "markdown",
   "metadata": {},
   "source": [
    "A notebook for testing the new directory creation and accessing structure, for image capture."
   ]
  },
  {
   "cell_type": "markdown",
   "metadata": {},
   "source": [
    "# Overview\n",
    "\n",
    "1. Connect Cameras\n",
    "3. Set manual exposures\n",
    "3. check image capture\n",
    "4. Set ROI - either manual or automatic\n",
    "5. Check ROI image capture\n",
    "6. Find optimal exposure by auto-exposure over ROI\n",
    "7. Capture images - save to directory\n",
    "8. Check images - given upper/lower range, mean, median etc."
   ]
  },
  {
   "cell_type": "code",
   "execution_count": 1,
   "metadata": {},
   "outputs": [],
   "source": [
    "%reload_ext autoreload\n",
    "%autoreload 2\n",
    "%matplotlib inline"
   ]
  },
  {
   "cell_type": "code",
   "execution_count": 2,
   "metadata": {},
   "outputs": [],
   "source": [
    "import orochi_sim_ctrl as osc"
   ]
  },
  {
   "cell_type": "markdown",
   "metadata": {},
   "source": [
    "Let's define our session as 'oros_test' and each scene according to the task, e.g. 'manual_exposure_test', 'roi_test' etc."
   ]
  },
  {
   "cell_type": "code",
   "execution_count": 3,
   "metadata": {},
   "outputs": [],
   "source": [
    "session = 'oros_test'"
   ]
  },
  {
   "cell_type": "markdown",
   "metadata": {},
   "source": [
    "# Camera Connect"
   ]
  },
  {
   "cell_type": "code",
<<<<<<< HEAD
   "execution_count": null,
   "metadata": {},
   "outputs": [
    {
     "ename": "OSError",
     "evalue": "dlopen(/Users/sci/Documents/projects/orochi_simulator_control/tisgrabber/samples/tisgrabber_x64.dll, 0x0006): tried: '/Users/sci/Documents/projects/orochi_simulator_control/tisgrabber/samples/tisgrabber_x64.dll' (not a mach-o file), '/System/Volumes/Preboot/Cryptexes/OS/Users/sci/Documents/projects/orochi_simulator_control/tisgrabber/samples/tisgrabber_x64.dll' (no such file), '/Users/sci/Documents/projects/orochi_simulator_control/tisgrabber/samples/tisgrabber_x64.dll' (not a mach-o file)",
     "output_type": "error",
     "traceback": [
      "\u001b[0;31m---------------------------------------------------------------------------\u001b[0m",
      "\u001b[0;31mOSError\u001b[0m                                   Traceback (most recent call last)",
      "\u001b[1;32m/Users/sci/Documents/projects/orochi_simulator_control/notebooks/new_dir_testing_capture_09102023.ipynb Cell 8\u001b[0m line \u001b[0;36m1\n\u001b[0;32m----> <a href='vscode-notebook-cell:/Users/sci/Documents/projects/orochi_simulator_control/notebooks/new_dir_testing_capture_09102023.ipynb#X10sZmlsZQ%3D%3D?line=0'>1</a>\u001b[0m ic \u001b[39m=\u001b[39m osc\u001b[39m.\u001b[39;49mstart_ic()\n\u001b[1;32m      <a href='vscode-notebook-cell:/Users/sci/Documents/projects/orochi_simulator_control/notebooks/new_dir_testing_capture_09102023.ipynb#X10sZmlsZQ%3D%3D?line=1'>2</a>\u001b[0m camera_config \u001b[39m=\u001b[39m osc\u001b[39m.\u001b[39mload_camera_config()\n\u001b[1;32m      <a href='vscode-notebook-cell:/Users/sci/Documents/projects/orochi_simulator_control/notebooks/new_dir_testing_capture_09102023.ipynb#X10sZmlsZQ%3D%3D?line=2'>3</a>\u001b[0m cameras \u001b[39m=\u001b[39m osc\u001b[39m.\u001b[39mconnect_cameras(ic, camera_config)\n",
      "File \u001b[0;32m~/Documents/projects/orochi_simulator_control/src/orochi_sim_ctrl.py:630\u001b[0m, in \u001b[0;36mstart_ic\u001b[0;34m()\u001b[0m\n\u001b[1;32m    627\u001b[0m tis_dll \u001b[39m=\u001b[39m \u001b[39mstr\u001b[39m(Path(tis_dir, \u001b[39m'\u001b[39m\u001b[39mtisgrabber_x64.dll\u001b[39m\u001b[39m'\u001b[39m))\n\u001b[1;32m    629\u001b[0m \u001b[39m# Load/Initiate the tisgrabber library\u001b[39;00m\n\u001b[0;32m--> 630\u001b[0m ic \u001b[39m=\u001b[39m ctypes\u001b[39m.\u001b[39;49mcdll\u001b[39m.\u001b[39;49mLoadLibrary(tis_dll)\n\u001b[1;32m    631\u001b[0m tis\u001b[39m.\u001b[39mdeclareFunctions(ic)\n\u001b[1;32m    632\u001b[0m ic\u001b[39m.\u001b[39mIC_InitLibrary(\u001b[39m0\u001b[39m)\n",
      "File \u001b[0;32m/opt/homebrew/Caskroom/miniconda/base/envs/orochi_sim_ctrl/lib/python3.10/ctypes/__init__.py:452\u001b[0m, in \u001b[0;36mLibraryLoader.LoadLibrary\u001b[0;34m(self, name)\u001b[0m\n\u001b[1;32m    451\u001b[0m \u001b[39mdef\u001b[39;00m \u001b[39mLoadLibrary\u001b[39m(\u001b[39mself\u001b[39m, name):\n\u001b[0;32m--> 452\u001b[0m     \u001b[39mreturn\u001b[39;00m \u001b[39mself\u001b[39;49m\u001b[39m.\u001b[39;49m_dlltype(name)\n",
      "File \u001b[0;32m/opt/homebrew/Caskroom/miniconda/base/envs/orochi_sim_ctrl/lib/python3.10/ctypes/__init__.py:374\u001b[0m, in \u001b[0;36mCDLL.__init__\u001b[0;34m(self, name, mode, handle, use_errno, use_last_error, winmode)\u001b[0m\n\u001b[1;32m    371\u001b[0m \u001b[39mself\u001b[39m\u001b[39m.\u001b[39m_FuncPtr \u001b[39m=\u001b[39m _FuncPtr\n\u001b[1;32m    373\u001b[0m \u001b[39mif\u001b[39;00m handle \u001b[39mis\u001b[39;00m \u001b[39mNone\u001b[39;00m:\n\u001b[0;32m--> 374\u001b[0m     \u001b[39mself\u001b[39m\u001b[39m.\u001b[39m_handle \u001b[39m=\u001b[39m _dlopen(\u001b[39mself\u001b[39;49m\u001b[39m.\u001b[39;49m_name, mode)\n\u001b[1;32m    375\u001b[0m \u001b[39melse\u001b[39;00m:\n\u001b[1;32m    376\u001b[0m     \u001b[39mself\u001b[39m\u001b[39m.\u001b[39m_handle \u001b[39m=\u001b[39m handle\n",
      "\u001b[0;31mOSError\u001b[0m: dlopen(/Users/sci/Documents/projects/orochi_simulator_control/tisgrabber/samples/tisgrabber_x64.dll, 0x0006): tried: '/Users/sci/Documents/projects/orochi_simulator_control/tisgrabber/samples/tisgrabber_x64.dll' (not a mach-o file), '/System/Volumes/Preboot/Cryptexes/OS/Users/sci/Documents/projects/orochi_simulator_control/tisgrabber/samples/tisgrabber_x64.dll' (no such file), '/Users/sci/Documents/projects/orochi_simulator_control/tisgrabber/samples/tisgrabber_x64.dll' (not a mach-o file)"
     ]
    }
   ],
   "source": [
    "ic = osc.start_ic()\n",
    "camera_config = osc.load_camera_config()\n",
    "cameras = osc.connect_cameras(ic, camera_config)\n",
    "osc.configure_cameras(cameras) # updated bias to 4 DN"
   ]
  },
  {
   "cell_type": "markdown",
   "metadata": {},
   "source": [
    "# Set Manual Exposures\n",
    "\n",
    "Set all cameras to the same exposure value of 300 ms."
   ]
  },
  {
   "cell_type": "code",
   "execution_count": null,
   "metadata": {},
   "outputs": [],
   "source": [
    "osc.set_channel_exposures(cameras, 0.3)"
   ]
  },
  {
   "cell_type": "markdown",
   "metadata": {},
   "source": [
    "Note that this could also be specified during the image capture call below."
   ]
  },
  {
   "cell_type": "markdown",
   "metadata": {},
   "source": [
    "# Check Image Capture"
   ]
  },
  {
   "cell_type": "markdown",
   "metadata": {},
   "source": [
    "We will also display the images as they're captured, using the oroch_sim_ctrl grid_plot functions."
   ]
  },
  {
   "cell_type": "code",
   "execution_count": null,
   "metadata": {},
   "outputs": [],
   "source": [
    "import orochi_sim_ctrl as osc\n",
    "fig, ax = osc.grid_plot(title='Manual Exposure Test')"
   ]
  },
  {
   "cell_type": "code",
   "execution_count": null,
   "metadata": {},
   "outputs": [],
   "source": [
    "scene = 'manual_exposure_test'"
   ]
  },
  {
   "cell_type": "code",
   "execution_count": null,
   "metadata": {},
   "outputs": [],
   "source": [
    "osc.capture_channel_images(cameras, ax=ax, show_img=True, session=session, scene=scene, save_img=True)"
   ]
  }
 ],
 "metadata": {
  "kernelspec": {
   "display_name": "orochi_sim_ctrl",
   "language": "python",
   "name": "python3"
  },
  "language_info": {
   "codemirror_mode": {
    "name": "ipython",
    "version": 3
   },
   "file_extension": ".py",
   "mimetype": "text/x-python",
   "name": "python",
   "nbconvert_exporter": "python",
   "pygments_lexer": "ipython3",
   "version": "3.10.9"
  }
 },
 "nbformat": 4,
 "nbformat_minor": 2
}

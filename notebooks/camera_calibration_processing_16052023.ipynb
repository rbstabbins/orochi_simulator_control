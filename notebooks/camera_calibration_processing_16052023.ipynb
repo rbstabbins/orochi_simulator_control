{
 "cells": [
  {
   "attachments": {},
   "cell_type": "markdown",
   "metadata": {},
   "source": [
    "A notebook for processing calibration data for the cameras of the OROCHI Simualtor of the Kameda Lab."
   ]
  },
  {
   "attachments": {},
   "cell_type": "markdown",
   "metadata": {},
   "source": [
    "# Process Overview\n",
    "\n",
    "The objective of this notebook is to process uniformly illuminated and dark images (across the sampling area) and characterise each camera of the OROCHI simulator, in terms of:\n",
    "- Linearity\n",
    "- Read Noise\n",
    "- Gain\n",
    "- FPN\n",
    "- Dark Signal\n",
    "\n",
    "To do this, we will process images of the 99% Reflectance Spectralon Calibration Target (SCT99) and the 5% Reflectance Spectral Calibration Target (SCT5), and images without illumination, at exposures that range from the minimum possible with the cameras (~5 µs) up to a maximum, defined such that all pixels of the image are saturated (DN=255)."
   ]
  },
  {
   "attachments": {},
   "cell_type": "markdown",
   "metadata": {},
   "source": [
    "For each of the SCT99 and SCT5 targets, we:\n",
    "- for each channel:\n",
    "    - load the list of exposures\n",
    "    - for each exposure,\n",
    "        - load image 1\n",
    "        - load image 2\n",
    "        - load the dark frame\n",
    "        - get mean of image 1 - dark\n",
    "        - get the noise of image 1 - dark\n",
    "        - get the noise of image 1 - image 2\n",
    "    - plot mean vs exposure\n",
    "    - plot noise vs mean\n",
    "    - plot ∆noise vs mean\n",
    "    - get the read noise\n",
    "    - get shot noise\n",
    "    - plot shot noise vs mean\n",
    "    - get sensitivity\n",
    "    - plot sensitivity vs mean\n",
    "    - evaluate linearity"
   ]
  },
  {
   "attachments": {},
   "cell_type": "markdown",
   "metadata": {},
   "source": [
    "As we'd like to repeat this for each camera, we will write each of these steps into functions, contained in the notebook here, such that the analysis can be iterated and automated."
   ]
  },
  {
   "attachments": {},
   "cell_type": "markdown",
   "metadata": {},
   "source": [
    "# Channel 1 Tests\n",
    "\n",
    "Here we develop the analysis functions for the first camera only.\n"
   ]
  },
  {
   "cell_type": "code",
   "execution_count": 1,
   "metadata": {},
   "outputs": [],
   "source": [
    "from pathlib import Path\n",
    "import orochi_sim_proc as osp\n",
    "# get list of channels\n",
    "subject = 'SCT99'\n",
    "channels = sorted(list(Path('..', 'data', subject).glob('[!.]*')))\n",
    "channel_path = channels[0]\n",
    "\n",
    "channel = channel_path.name\n",
    "# load the calibration target images\n",
    "pct_data = osp.load_pct_frames(subject, channel)"
   ]
  }
 ],
 "metadata": {
  "kernelspec": {
   "display_name": "orochi_sim_ctrl",
   "language": "python",
   "name": "python3"
  },
  "language_info": {
   "codemirror_mode": {
    "name": "ipython",
    "version": 3
   },
   "file_extension": ".py",
   "mimetype": "text/x-python",
   "name": "python",
   "nbconvert_exporter": "python",
   "pygments_lexer": "ipython3",
   "version": "3.10.9"
  },
  "orig_nbformat": 4
 },
 "nbformat": 4,
 "nbformat_minor": 2
}

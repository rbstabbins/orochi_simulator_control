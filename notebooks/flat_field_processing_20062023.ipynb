{
 "cells": [
  {
   "attachments": {},
   "cell_type": "markdown",
   "metadata": {},
   "source": [
    "A notebook for processing flat field data for each channel of OROS (the OROCHI Simulator)."
   ]
  },
  {
   "attachments": {},
   "cell_type": "markdown",
   "metadata": {},
   "source": [
    "# Process Overview\n",
    "\n",
    "- load flat-field images\n",
    "- average frames from different spectralon positions\n",
    "- look for convergence toward mean pixel values\n",
    "    - by plotting the mean change-in-mean across all pixels\n",
    "    - i.e. change in mean is this abs(mean - last mean) - pixel wise\n",
    "    - mean of this over all pixels shows how this changes for the repeat images.\n",
    "- save final flat field"
   ]
  },
  {
   "cell_type": "code",
   "execution_count": null,
   "metadata": {},
   "outputs": [],
   "source": []
  }
 ],
 "metadata": {
  "language_info": {
   "name": "python"
  },
  "orig_nbformat": 4
 },
 "nbformat": 4,
 "nbformat_minor": 2
}

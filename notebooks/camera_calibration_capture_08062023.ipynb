{
 "cells": [
  {
   "attachments": {},
   "cell_type": "markdown",
   "metadata": {},
   "source": [
    "A notebook for capturing calibration data for the cameras of the OROCHI Simualtor of the Kameda Lab.\n",
    "\n",
    "Fourth round of experiments after procedure upgrade adding 8th camera, and switching some camera positions.\n",
    "\n",
    "Using a gain of 4.27 dB to raise apparent full well to 20000 e-, and sensitivity to 4.88 e-/DN.\n",
    "Reducing Blacklevel to 8 DN from 128 DN, to increase sensitive range."
   ]
  },
  {
   "attachments": {},
   "cell_type": "markdown",
   "metadata": {},
   "source": [
    "# Process Overview\n",
    "\n",
    "The objective of this notebook is to capture uniformly illuminated and dark images (across the sampling area) that can be used to characterise each camera of the OROCHI simulator, in terms of:\n",
    "- Linearity\n",
    "- Read Noise\n",
    "- Gain\n",
    "- FPN\n",
    "- Dark Signal\n",
    "\n",
    "To do this, we will  capture images of the 99% Reflectance Spectralon Calibration Target (SCT99) and the 5% Reflectance Spectral Calibration Target (SCT5), and images without illumination, at exposures that range from the minimum possible with the cameras (~5 µs) up to a maximum, defined such that all pixels of the image are saturated (DN=255)."
   ]
  },
  {
   "attachments": {},
   "cell_type": "markdown",
   "metadata": {},
   "source": [
    "For each exposure, we will capture:\n",
    "- 2 illuminated images of the target\n",
    "- 25 dark images (to reduce read noise by factor of 5)\n",
    "\n",
    "We will choose exposures with the following procedure:\n",
    "1. Start at minimum exposure - capture pair, record exposure\n",
    "2. Double exposure - capture pair, record exposure\n",
    "3. Repeat until all pixels are saturated - i.e. all = 255\n",
    "4. Reduce exposure by factor of 0.90, and repeat, until 0 pixels are saturated.\n",
    "\n",
    "This process will be repeated for SCT99 and SCT5, and then again for dark images.\n",
    "Then, 25 dark frames will be captured for each exposure, and the mean and standard deviation TIFF float images recorded.\n"
   ]
  },
  {
   "attachments": {},
   "cell_type": "markdown",
   "metadata": {},
   "source": [
    "# Camera Setup\n",
    "\n",
    "Here we configure and setup the camera capture objects."
   ]
  },
  {
   "cell_type": "code",
   "execution_count": null,
   "metadata": {},
   "outputs": [],
   "source": [
    "%reload_ext autoreload\n",
    "%autoreload 2\n",
    "%matplotlib inline"
   ]
  },
  {
   "cell_type": "code",
   "execution_count": null,
   "metadata": {},
   "outputs": [],
   "source": [
    "import orochi_sim_ctrl as osc\n",
    "\n",
    "ic = osc.start_ic()\n",
    "camera_config = osc.load_camera_config()\n",
    "cameras = osc.connect_cameras(ic, camera_config)\n",
    "osc.configure_cameras(cameras)"
   ]
  },
  {
   "cell_type": "code",
   "execution_count": null,
   "metadata": {},
   "outputs": [],
   "source": [
    "from pathlib import Path\n",
    "import numpy as np\n",
    "from matplotlib import pyplot as plt\n",
    "import pandas as pd\n",
    "from time import sleep"
   ]
  },
  {
   "attachments": {},
   "cell_type": "markdown",
   "metadata": {},
   "source": [
    "Here we are only going to process images over the calibration target itself, so we restrict the ROI to a very small field of 32x32 pixels.\n",
    "Statistics are therfore computed over 1024 pixels in each case."
   ]
  },
  {
   "cell_type": "code",
   "execution_count": null,
   "metadata": {},
   "outputs": [],
   "source": [
    "osc.find_camera_rois(cameras, roi_size=24)"
   ]
  },
  {
   "cell_type": "code",
   "execution_count": null,
   "metadata": {},
   "outputs": [],
   "source": [
    "osc.check_channel_roi_uniformity(cameras)"
   ]
  },
  {
   "attachments": {},
   "cell_type": "markdown",
   "metadata": {},
   "source": [
    "# Calibration Functions\n",
    "\n",
    "Here we define simple functions for controlling the cameras during the calibration routines."
   ]
  },
  {
   "cell_type": "code",
   "execution_count": null,
   "metadata": {},
   "outputs": [],
   "source": [
    "def camera_calibration_sequence(camera, subject) -> pd.DataFrame:\n",
    "    \"\"\"Capture pairs of images with increasing exposure time until all\n",
    "    pixels are saturated, then decrease exposure time until no pixels are \n",
    "    saturated.\n",
    "    \n",
    "    Args:\n",
    "        camera: Camera object to capture images from.\n",
    "    \n",
    "    Returns:\n",
    "        DataFrame with columns:\n",
    "            - exposure\n",
    "            - mean\n",
    "            - std\n",
    "    \"\"\"\n",
    "    camera.set_property('Exposure', 'Auto', 0, 'Switch')        \n",
    "    t_min = 1.0/16666 # (seconds) verify that this is the minimum exposure time\n",
    "    t_max = 50.0\n",
    "    t_exp = t_min\n",
    "    up_scale = 1.2\n",
    "    dwn_scale = 0.99\n",
    "    t_scale = up_scale\n",
    "    img_type='calibration'\n",
    "    stop = False    \n",
    "    cmd_exposures = []\n",
    "    exposures = []\n",
    "    means = []\n",
    "    stds = []\n",
    "    shots = []\n",
    "    sat_val = camera.max_dn\n",
    "    while stop is False:\n",
    "        print(f'Exposure: {t_exp:.7f} s')\n",
    "        camera.set_property('Exposure', 'Value', t_exp, 'AbsoluteValue')\n",
    "        img_1 = camera.image_capture(roi=True)\n",
    "        img_2 = camera.image_capture(roi=True)\n",
    "        name_1 = f'{t_exp*1E6:.0f}us_1'\n",
    "        name_2 = f'{t_exp*1E6:.0f}us_2'\n",
    "        camera.save_image(name_1, subject, img_type, img_1)\n",
    "        camera.save_image(name_2, subject, img_type, img_2)\n",
    "        exposures.append(camera.get_exposure_value())\n",
    "        cmd_exposures.append(t_exp)\n",
    "        mean = np.mean([np.mean(img_1), np.mean(img_2)])\n",
    "        std = np.mean([np.std(img_1), np.std(img_2)])\n",
    "        shot = np.sqrt(np.mean((img_1 - img_2)**2)/2)\n",
    "        means.append(mean)\n",
    "        stds.append(std)\n",
    "        shots.append(shot)\n",
    "        if mean >= sat_val * 0.999:\n",
    "            t_scale = dwn_scale\n",
    "        if t_scale == dwn_scale:\n",
    "            # n_sat = (np.sum(img_1 == sat_val) + np.sum(img_2 == sat_val)) / 2\n",
    "            if mean <= sat_val * 0.80:\n",
    "                stop = True\n",
    "        else:\n",
    "            if t_exp*t_scale > t_max:\n",
    "                t_scale = dwn_scale\n",
    "        t_exp = t_exp * t_scale\n",
    "\n",
    "    results = pd.DataFrame({'exposure': exposures, 'raw mean': means, 'raw standard deviation': stds, 'shot and read noise': shots})\n",
    "    results.sort_values('exposure', inplace=True)\n",
    "\n",
    "    print(results)\n",
    "\n",
    "    cwl_str = str(int(camera.camera_props['cwl']))\n",
    "    channel = str(camera.camera_props['number'])+'_'+cwl_str\n",
    "    subject_dir = Path('..', 'data', subject, channel)\n",
    "    subject_dir.mkdir(parents=True, exist_ok=True)\n",
    "    filename = 'exposures.csv'\n",
    "    img_file =str(Path(subject_dir, filename).with_suffix('.tif'))\n",
    "\n",
    "    results['exposure'].to_csv(f'{subject}_exposures.csv', index=False)\n",
    "\n",
    "    fig, ax = plt.subplots(2,1, figsize=(5,10))\n",
    "    ax[0].plot(results['exposure'], results['raw mean'])\n",
    "    ax[0].set_xlabel('Exposure (s)')\n",
    "    ax[0].set_ylabel('Mean Pixel Value')\n",
    "    results.sort_values('raw mean', inplace=True)\n",
    "    ax[1].loglog(results['raw mean'], results['raw standard deviation'], label='Total Noise')\n",
    "    ax[1].loglog(results['raw mean'], results['shot and read noise'], label='Shot and Read Noise')\n",
    "    ax[1].set_xlabel('Mean Pixel Value')\n",
    "    ax[1].set_ylabel('Standard Deviation')\n",
    "    plt.show()\n",
    "    return cmd_exposures"
   ]
  },
  {
   "attachments": {},
   "cell_type": "markdown",
   "metadata": {},
   "source": [
    "# SCT99 Procedure"
   ]
  },
  {
   "attachments": {},
   "cell_type": "markdown",
   "metadata": {},
   "source": [
    "Output:\n",
    "- SCT99 Exposure List\n",
    "- SCT99 Lit Image Directory"
   ]
  },
  {
   "cell_type": "code",
   "execution_count": null,
   "metadata": {},
   "outputs": [],
   "source": [
    "sct99_exposures = {}\n",
    "for camera in cameras:\n",
    "    sct99_exposures[camera] = camera_calibration_sequence(camera, 'SCT99_080623')"
   ]
  },
  {
   "attachments": {},
   "cell_type": "markdown",
   "metadata": {},
   "source": [
    "# SCT5 Procedure"
   ]
  },
  {
   "attachments": {},
   "cell_type": "markdown",
   "metadata": {},
   "source": [
    "Output:\n",
    "- SCT5 Exposure List\n",
    "- SCT5 Lit Image Directory"
   ]
  },
  {
   "cell_type": "code",
   "execution_count": null,
   "metadata": {},
   "outputs": [],
   "source": [
    "osc.check_channel_roi_uniformity(cameras)"
   ]
  },
  {
   "cell_type": "code",
   "execution_count": null,
   "metadata": {},
   "outputs": [],
   "source": [
    "sct5_exposures = {}\n",
    "for camera in cameras:\n",
    "    sct5_exposures[camera] = camera_calibration_sequence(camera, 'SCT5_080623')"
   ]
  },
  {
   "attachments": {},
   "cell_type": "markdown",
   "metadata": {},
   "source": [
    "# Dark Signal Procedure"
   ]
  },
  {
   "attachments": {},
   "cell_type": "markdown",
   "metadata": {},
   "source": [
    "Output:\n",
    "- Dark Exposure List\n",
    "- Dark Image Directory"
   ]
  },
  {
   "cell_type": "code",
   "execution_count": null,
   "metadata": {},
   "outputs": [],
   "source": [
    "for camera in cameras:\n",
    "    dark_exposures = camera_calibration_sequence(camera, 'dark_080623')"
   ]
  },
  {
   "attachments": {},
   "cell_type": "markdown",
   "metadata": {},
   "source": [
    "# Dark Frame Capture"
   ]
  },
  {
   "attachments": {},
   "cell_type": "markdown",
   "metadata": {},
   "source": [
    "Output:\n",
    "- addition of dark mean frames to SCT99 directory\n",
    "- addition of dark mean frames to SCT5 directory"
   ]
  },
  {
   "cell_type": "code",
   "execution_count": null,
   "metadata": {},
   "outputs": [],
   "source": [
    "for camera in cameras:\n",
    "    exposures = sct99_exposures[camera]\n",
    "    for exposure in exposures:\n",
    "        camera.set_property('Exposure', 'Value', exposure, 'AbsoluteValue')\n",
    "        drk = camera.image_capture(roi=True)\n",
    "        for i in range(24):\n",
    "            drk += camera.image_capture(roi=True)\n",
    "        drk_ave = drk.astype(np.float32)/25\n",
    "        name = f'{exposure*1E6:.0f}us_d'\n",
    "        camera.save_image(name, 'SCT99_080623', 'drk', drk_ave)"
   ]
  },
  {
   "cell_type": "code",
   "execution_count": null,
   "metadata": {},
   "outputs": [],
   "source": [
    "for camera in cameras:\n",
    "    exposures = sct5_exposures[camera]\n",
    "    for exposure in exposures:\n",
    "        camera.set_property('Exposure', 'Value', exposure, 'AbsoluteValue')\n",
    "        drk = camera.image_capture(roi=True)\n",
    "        for i in range(24):\n",
    "            drk += camera.image_capture(roi=True)\n",
    "        drk_ave = drk.astype(np.float32)/25\n",
    "        name = f'{exposure*1E6:.0f}us_d'\n",
    "        camera.save_image(name, 'SCT5_080623', 'drk', drk_ave)"
   ]
  },
  {
   "cell_type": "code",
   "execution_count": null,
   "metadata": {},
   "outputs": [],
   "source": []
  }
 ],
 "metadata": {
  "kernelspec": {
   "display_name": "orochi_sim_ctrl",
   "language": "python",
   "name": "python3"
  },
  "language_info": {
   "codemirror_mode": {
    "name": "ipython",
    "version": 3
   },
   "file_extension": ".py",
   "mimetype": "text/x-python",
   "name": "python",
   "nbconvert_exporter": "python",
   "pygments_lexer": "ipython3",
   "version": "3.10.11"
  },
  "orig_nbformat": 4
 },
 "nbformat": 4,
 "nbformat_minor": 2
}

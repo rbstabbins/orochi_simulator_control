{
 "cells": [
  {
   "cell_type": "markdown",
   "metadata": {},
   "source": [
    "Notebook for processing the geometric calibration of each channel of OROS, and cross-channel stereo calibration."
   ]
  },
  {
   "cell_type": "markdown",
   "metadata": {},
   "source": [
    "# Process\n",
    "\n",
    "First we will process, for each channel, the intrinsic and extrinsic camera matrices from images of the square 10x10 calibration target oriented at mutiple positions.\n",
    "We will then draw the epipolar lines on these images, showing, for each channel, the epipolar line of each other channel in turn.\n",
    "\n",
    "Then, we will experiment with drawing the epipolar lines over the sample-region mounted calibration target, that has been imaged at multiple positions. Again, we will draw epipolar lines for each positions, for each channel with each other channel.\n",
    "\n",
    "Steps:\n",
    "1. For each position, load images for each channel.\n",
    "2. Perform averaging and average dark subtraction\n",
    "3. For each position, find the calibration target points\n",
    "4. For all positions, and for each channel, solve for camera matrices\n",
    "5. For each position, and for each channel, find and draw epipolar lines for each other channel"
   ]
  },
  {
   "cell_type": "markdown",
   "metadata": {},
   "source": [
    "# Setup"
   ]
  },
  {
   "cell_type": "code",
   "execution_count": null,
   "metadata": {},
   "outputs": [],
   "source": [
    "%reload_ext autoreload\n",
    "%autoreload 2\n",
    "%matplotlib inline"
   ]
  },
  {
   "cell_type": "code",
   "execution_count": null,
   "metadata": {},
   "outputs": [],
   "source": [
    "import orochi_sim_proc as osp\n",
    "from pathlib import Path\n",
    "import matplotlib.pyplot as plt\n",
    "import numpy as np\n",
    "import pandas as pd"
   ]
  },
  {
   "cell_type": "code",
   "execution_count": null,
   "metadata": {},
   "outputs": [],
   "source": [
    "# get the location of this notebook\n",
    "import os\n",
    "from pathlib import Path\n",
    "notebook_dir = Path(os.path.abspath(''))\n",
    "output_dir = Path(notebook_dir, 'stereo_calibration_processing_22082023_outputs')\n",
    "output_dir.mkdir(parents=True, exist_ok=True)"
   ]
  },
  {
   "cell_type": "markdown",
   "metadata": {},
   "source": [
    "# Loading images"
   ]
  },
  {
   "cell_type": "code",
   "execution_count": null,
   "metadata": {},
   "outputs": [],
   "source": [
    "# get the list of positions\n",
    "# get the list of the cameras\n",
    "# for each position, for each camera, load the image\n",
    "# find the calibration points, store in a dictionary indexed by camera\n",
    "# for each camera, calibrate to get intrinsic and extrinsic matrices\n"
   ]
  },
  {
   "cell_type": "code",
   "execution_count": null,
   "metadata": {},
   "outputs": [],
   "source": [
    "n_pos = 35\n",
    "positions = {}\n",
    "for pos in range(n_pos):\n",
    "    print(f'Position {pos+1} of {n_pos}')\n",
    "    pos_dir = f'geom_calibration_pos_{pos}_22082023'\n",
    "    dark_dir = f'geom_calibration_dark_22082023'\n",
    "    geocs = osp.load_geometric_calibration(subject=pos_dir, dark=dark_dir, caption=f'Target Position {pos+1} of {n_pos}')\n",
    "    positions[pos] = geocs\n",
    "# del positions[7]\n",
    "# del positions[0]\n",
    "# del positions[1]\n",
    "# del positions[9]\n",
    "# note this is a very long process when we have to do it for all 35 positions"
   ]
  },
  {
   "cell_type": "markdown",
   "metadata": {},
   "source": [
    "# Getting Checkerboard Corner Points"
   ]
  },
  {
   "cell_type": "code",
   "execution_count": null,
   "metadata": {},
   "outputs": [],
   "source": [
    "positions[22]"
   ]
  },
  {
   "cell_type": "code",
   "execution_count": null,
   "metadata": {},
   "outputs": [],
   "source": [
    "corners = {}\n",
    "chkrbrd = (5,7,0.015)\n",
    "for pos in positions:\n",
    "    print(f'Position {pos+1} of {n_pos}')\n",
    "    geocs = positions[pos]\n",
    "    corner_set = osp.checkerboard_calibration(geocs, chkrbrd=chkrbrd, caption=f'Target Position {pos+1}')\n",
    "    corners[pos] = corner_set"
   ]
  },
  {
   "cell_type": "markdown",
   "metadata": {},
   "source": [
    "# Solve for Intrinsic Calibration Matrix"
   ]
  },
  {
   "cell_type": "code",
   "execution_count": null,
   "metadata": {},
   "outputs": [],
   "source": [
    "import cv2"
   ]
  },
  {
   "cell_type": "code",
   "execution_count": null,
   "metadata": {},
   "outputs": [],
   "source": [
    "position_lst = list(corners.keys())\n",
    "channels = list(corners[list(position_lst)[0]].keys())\n",
    "for channel in channels:\n",
    "    imgpoints = []\n",
    "    objpoints = []\n",
    "    valid_positions = []\n",
    "    for position in position_lst:\n",
    "        # get the corners for the current channel and position\n",
    "        # TODO skip if none\n",
    "        pos_points = corners[position][channel].corner_points\n",
    "        if pos_points is not None:\n",
    "            valid_positions.append(position)\n",
    "            imgpoints.append(pos_points)\n",
    "            objpoints.append(corners[position][channel].object_points)\n",
    "            shape = corners[position][channel].img_ave.shape[::-1]\n",
    "    # calibrate the channel\n",
    "    ret, mtx, dist, rvecs, tvecs = cv2.calibrateCamera(objpoints, imgpoints, shape, None, None)        \n",
    "    for n,position in enumerate(valid_positions): \n",
    "        corners[position][channel].calibration_error = ret\n",
    "        corners[position][channel].mtx = mtx\n",
    "        corners[position][channel].dist = dist\n",
    "        corners[position][channel].rvec = rvecs[n]\n",
    "        corners[position][channel].tvec = tvecs[n]    \n",
    "        corners[position][channel].camera_intrinsic_properties()    \n",
    "        r_mtx, _ = cv2.Rodrigues(rvecs[n])\n",
    "        e_mtx = np.c_[r_mtx, tvecs[n]]\n",
    "        corners[position][channel].p_mtx = np.matmul(mtx, e_mtx)     "
   ]
  },
  {
   "cell_type": "markdown",
   "metadata": {},
   "source": [
    "# Check the Distortion Coefficients"
   ]
  },
  {
   "cell_type": "code",
   "execution_count": null,
   "metadata": {},
   "outputs": [],
   "source": [
    "position_lst = list(corners.keys())\n",
    "channels = list(corners[list(position_lst)[0]].keys())\n",
    "for position in position_lst:\n",
    "    fig, ax = osp.grid_plot(f'Distortion Difference Check: Position {position}')\n",
    "    for channel in channels:\n",
    "        test_cam = corners[position][channel]\n",
    "        test_cam.check_distortion(ax=ax[test_cam.camera])\n",
    "    osp.show_grid(fig, ax)"
   ]
  },
  {
   "cell_type": "markdown",
   "metadata": {},
   "source": [
    "# Check the calibration by drawing the axes on the geocs images - and export"
   ]
  },
  {
   "cell_type": "code",
   "execution_count": null,
   "metadata": {},
   "outputs": [],
   "source": [
    "position_lst = list(corners.keys())\n",
    "for position in position_lst:\n",
    "    fig, ax = osp.grid_plot(f'Calibration Check: Position {pos+1} of {len(position_lst)}')\n",
    "    for channel in channels:        \n",
    "        cam_pos = corners[position][channel]\n",
    "        cam_pos.export_calibration(dir = output_dir)\n",
    "        cam_pos.project_axes(ax=ax[cam_pos.camera], corner_roi=False)\n",
    "    osp.show_grid(fig, ax)"
   ]
  },
  {
   "cell_type": "markdown",
   "metadata": {},
   "source": [
    "# Stereo Calibration\n",
    "\n",
    "To do, ignore pairing if points are missing"
   ]
  },
  {
   "cell_type": "code",
   "execution_count": null,
   "metadata": {},
   "outputs": [],
   "source": [
    "cam_pairs = {}\n",
    "channels = list(corners[list(position_lst)[0]].keys())\n",
    "position_lst = list(corners.keys())\n",
    "for channel in channels:\n",
    "    cam_pairs[channel] = {}\n",
    "    for sub_channel in channels:\n",
    "        cam_pairs[channel][sub_channel] = {}\n",
    "        for position in position_lst:\n",
    "            if corners[position][channel].corner_points is not None:\n",
    "                if corners[position][sub_channel].corner_points is not None:\n",
    "                    cam_pairs[channel][sub_channel][position] = None\n",
    "\n",
    "for channel in channels:\n",
    "    for sub_channel in channels:\n",
    "        valid_positions = list(cam_pairs[channel][sub_channel].keys())\n",
    "        print(valid_positions)\n",
    "        a_imgpoints = []\n",
    "        a_objpoints = []    \n",
    "        b_imgpoints = []\n",
    "        b_objpoints = []\n",
    "        for position in valid_positions:\n",
    "            a_cam = corners[position][channel]       \n",
    "            a_imgpoints.append(a_cam.corner_points)\n",
    "            a_objpoints.append(a_cam.object_points)    \n",
    "            b_cam = corners[position][sub_channel]\n",
    "            b_imgpoints.append(b_cam.corner_points)\n",
    "            b_objpoints.append(b_cam.object_points)\n",
    "        for position in valid_positions:\n",
    "            a_cam = corners[position][channel]    \n",
    "            b_cam = corners[position][sub_channel]   \n",
    "            cam_pair = osp.StereoPair(a_cam, b_cam)\n",
    "            # set the points from all target positions\n",
    "            cam_pair.src_pts = a_imgpoints\n",
    "            cam_pair.dst_pts = b_imgpoints\n",
    "            # check a_obj_points == b_objpoints\n",
    "            cam_pair.obj_pts = a_objpoints\n",
    "            # perform the stereo calibration\n",
    "            print(f'Pos. {position} A: {a_cam.camera}, B: {b_cam.camera}')            \n",
    "            pair_error = cam_pair.calibrate_stereo()\n",
    "            cam_pair.export_calibration(dir=output_dir)\n",
    "            cam_pairs[channel][sub_channel][position] = cam_pair"
   ]
  },
  {
   "cell_type": "markdown",
   "metadata": {},
   "source": [
    "# Epipolar Geometry\n",
    "\n",
    "For each position, and for each channel in turn (starting with the #7 550 nm position), draw the epipolar lines for each other channel."
   ]
  },
  {
   "cell_type": "code",
   "execution_count": null,
   "metadata": {},
   "outputs": [],
   "source": [
    "for position in position_lst:\n",
    "    for channel in channels:        \n",
    "        home_cam = corners[position][channel]        \n",
    "        fig_fs_lines, ax_fs_lines = osp.grid_plot(f'Target Position {position+1} for Channel {home_cam.camera}: {int(home_cam.cwl)} nm Epipolar Lines from Fundamental Matrix')\n",
    "        for sub_channel in channels:                        \n",
    "            if position in cam_pairs[channel][sub_channel]:\n",
    "                cam_pair = cam_pairs[channel][sub_channel][position]\n",
    "                src_lines, dst_lines = cam_pair.compute_epilines('F')\n",
    "                cam_pair.draw_epilines(view='dst', ax=ax_fs_lines[cam_pair.dst.camera])\n",
    "                cam_pair.draw_epilines(view='src', ax=ax_fs_lines[8])            \n",
    "        osp.show_grid(fig_fs_lines, ax_fs_lines)"
   ]
  },
  {
   "cell_type": "markdown",
   "metadata": {},
   "source": [
    "# Stereo Rectify"
   ]
  },
  {
   "cell_type": "code",
   "execution_count": null,
   "metadata": {},
   "outputs": [],
   "source": [
    "position_lst = list(corners.keys())\n",
    "for position in position_lst: # use the first position only for now\n",
    "    for channel in [channels[0]]: # just use first channel for development        \n",
    "        home_cam = corners[position][channel]        \n",
    "        fig_fs_lines, ax_fs_lines = osp.grid_plot(f'Target Position {position+1} for Channel {home_cam.camera}: {int(home_cam.cwl)} nm Stereo Rectification')\n",
    "        for sub_channel in channels:    \n",
    "            valid_positions = list(cam_pairs[channel][sub_channel].keys())\n",
    "            if position in valid_positions:        \n",
    "                cam_pair = cam_pairs[channel][sub_channel][position]          \n",
    "                print(f'Rectifying {channel} and {sub_channel} i.e. {cam_pair.src.camera} and {cam_pair.dst.camera}') \n",
    "                # print(cam_pair.r_mtx)\n",
    "                # print(np.sqrt(np.sum(np.array(cam_pair.t_mtx)**2)))            \n",
    "                cam_pair.rectify(ax=ax_fs_lines[cam_pair.dst.camera])            \n",
    "        osp.show_grid(fig_fs_lines, ax_fs_lines)"
   ]
  },
  {
   "cell_type": "markdown",
   "metadata": {},
   "source": [
    "# Stereo Matching for Disparity Map\n",
    " Compute a disparity map from each image pair."
   ]
  },
  {
   "cell_type": "code",
   "execution_count": null,
   "metadata": {},
   "outputs": [],
   "source": [
    "for position in position_lst:\n",
    "    for channel in [channels[0]]:\n",
    "        fig_disp, ax_disp = osp.grid_plot(f'Disparity for Position {position+1} for Channel {channel}')\n",
    "        for sub_channel in channels:                \n",
    "            cam_pair = cam_pairs[position][channel][sub_channel]\n",
    "            points3D = cam_pair.compute_disparity(ax=ax_disp[cam_pair.dst.camera])            \n",
    "        osp.show_grid(fig_disp, ax_disp)"
   ]
  },
  {
   "cell_type": "markdown",
   "metadata": {},
   "source": [
    "# Projecting from Image to 3D\n",
    "\n",
    "Now we will use the depth maps and the Q matrix, and the new projection matrices, to attempt to project from the images to 3D space."
   ]
  },
  {
   "cell_type": "code",
   "execution_count": null,
   "metadata": {},
   "outputs": [],
   "source": [
    "# lets try to triangulate with projection matrices, computed from the intrinsic x extrinsic matrices for each camera, found through calibration\n",
    "# position = 2\n",
    "for position in position_lst:\n",
    "    for channel in [channels[0]]:\n",
    "# channel = '0_850'\n",
    "        fig_rec, ax_rec = osp.grid_plot(f'Target 3D Reconstruction for Position {position+1} for Channel {channel}', projection='3d')\n",
    "        for sub_channel in channels:                \n",
    "            cam_pair = cam_pairs[position][channel][sub_channel]\n",
    "            points3D = cam_pair.depth_from_disparity()\n",
    "            cam_pair.plot_3D_points(ax=ax_rec[cam_pair.dst.camera])\n",
    "        osp.show_grid(fig_rec, ax_rec)"
   ]
  },
  {
   "cell_type": "markdown",
   "metadata": {},
   "source": [
    "# Triangulation & Depth Maps"
   ]
  },
  {
   "cell_type": "code",
   "execution_count": null,
   "metadata": {},
   "outputs": [],
   "source": [
    "# lets try to triangulate with projection matrices, computed from the intrinsic x extrinsic matrices for each camera, found through calibration\n",
    "# position = 2\n",
    "for position in position_lst:\n",
    "    for channel in channels:\n",
    "# channel = '0_850'\n",
    "        fig_rec, ax_rec = osp.grid_plot(f'Target 3D Reconstruction for Position {position+1} for Channel {channel}', projection='3d')\n",
    "        for sub_channel in channels:                \n",
    "            cam_pair = cam_pairs[position][channel][sub_channel]\n",
    "            points3D = cam_pair.compute3D()\n",
    "            cam_pair.plot_3D_points(ax=ax_rec[cam_pair.dst.camera])\n",
    "        osp.show_grid(fig_rec, ax_rec)\n",
    "    "
   ]
  },
  {
   "cell_type": "code",
   "execution_count": null,
   "metadata": {},
   "outputs": [],
   "source": [
    "position = 2\n",
    "# for position in position_lst:\n",
    "    # for channel in channels:\n",
    "channel = '0_850'\n",
    "fig_fs_lines, ax_fs_lines = osp.grid_plot(f'Target Position {position+1} for Channel {home_cam.camera}: {int(home_cam.cwl)} nm Epipolar Lines from Fundamental Matrix')\n",
    "fig_rec, ax_rec = osp.grid_plot(f'Target Position {position+1} for Channel {channel} Rectified images')\n",
    "for sub_channel in channels:                \n",
    "    cam_pair = cam_pairs[position][channel][sub_channel]\n",
    "    cam_pair.draw_epilines(view='dst', ax=ax_fs_lines[cam_pair.dst.camera])\n",
    "    cam_pair.draw_epilines(view='src', ax=ax_fs_lines[8])\n",
    "    cam_pair.rectify(ax=ax_rec[cam_pair.dst.camera])\n",
    "osp.show_grid(fig_fs_lines, ax_fs_lines)\n",
    "osp.show_grid(fig_rec, ax_rec)"
   ]
  },
  {
   "cell_type": "code",
   "execution_count": null,
   "metadata": {},
   "outputs": [],
   "source": []
  }
 ],
 "metadata": {
  "kernelspec": {
   "display_name": "orochi_sim_ctrl",
   "language": "python",
   "name": "python3"
  },
  "language_info": {
   "codemirror_mode": {
    "name": "ipython",
    "version": 3
   },
   "file_extension": ".py",
   "mimetype": "text/x-python",
   "name": "python",
   "nbconvert_exporter": "python",
   "pygments_lexer": "ipython3",
   "version": "3.10.9"
  },
  "orig_nbformat": 4
 },
 "nbformat": 4,
 "nbformat_minor": 2
}

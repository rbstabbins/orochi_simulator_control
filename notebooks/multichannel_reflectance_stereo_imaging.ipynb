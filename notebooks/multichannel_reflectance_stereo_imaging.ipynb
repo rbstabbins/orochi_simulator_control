{
 "cells": [
  {
   "attachments": {},
   "cell_type": "markdown",
   "metadata": {},
   "source": [
    "A notebook for guiding image capture and reflectance and stereo calibration with the OROCHI laboratory simulator."
   ]
  },
  {
   "cell_type": "code",
   "execution_count": 4,
   "metadata": {},
   "outputs": [],
   "source": [
    "%reload_ext autoreload\n",
    "%autoreload 2\n",
    "%matplotlib inline"
   ]
  },
  {
   "attachments": {},
   "cell_type": "markdown",
   "metadata": {},
   "source": [
    "# Overview\n",
    "\n",
    "The steps are as follows. Note that dark image capture is reserved for the end, to minimise physical interactions with the cameras.\n",
    "\n",
    "1. Reflectace Calibration Target Imaging\n",
    "    - Prompt: Lens Cap removal, put calibration target in place\n",
    "    - Cycle over cameras. For each camera:\n",
    "        - Test the connection\n",
    "        - load/configure the camera\n",
    "        - get optimal exposure and check ROI\n",
    "        - capture repeat images of the calibration target\n",
    "        - save the images\n",
    "        - save the exposures used\n",
    "2. Geometric Calibration Target Imaging\n",
    "    - Prompt: Lens Cap removal, put geometric calibration target in place\n",
    "    - Cycle over cameras. For each camera:\n",
    "        - Test the connection\n",
    "        - load/configure the camera\n",
    "        - get optimal exposure and check ROI\n",
    "        - capture repeat images of the geometric calibration target\n",
    "        - save the images\n",
    "        - save the exposures used\n",
    "3. Sample Imaging\n",
    "    - as above, but with the sample replacing the calibration target\n",
    "4. Dark Imaging\n",
    "    - Prompt: Lens cap on / lights out\n",
    "    - Cycle over cameras. For each camera:\n",
    "        - check connection\n",
    "            - Calibration darks:\n",
    "                - load calibration exposure for given camera\n",
    "                - set exposure\n",
    "                - capture repeat frames\n",
    "                - save frames\n",
    "            - Sample darks:\n",
    "                - as aove but load sample exposures instead\n",
    "5. Processing to Reflectance"
   ]
  },
  {
   "attachments": {},
   "cell_type": "markdown",
   "metadata": {},
   "source": [
    "# Setup\n",
    "\n",
    "Here we setup the IC object, load the camera configuration file, and connect to and initiate the OROCHI camera channels."
   ]
  },
  {
   "cell_type": "code",
   "execution_count": 5,
   "metadata": {},
   "outputs": [
    {
     "name": "stdout",
     "output_type": "stream",
     "text": [
      "Warning - cameras not connected: {'Band8', 'Band1'}\n",
      "Device 0 (DMK 33GX249 10910288) succesfully connected.\n",
      "Device 1 (DMK 33GX249 10910273) succesfully connected.\n",
      "Device 2 (DMK 33GX249 10910289) succesfully connected.\n",
      "Device 4 (DMK 33GX249 10910291) succesfully connected.\n",
      "Device 5 (DMK 33GX249 10910295) succesfully connected.\n",
      "Device 7 (DMK 33GX249 23120778) succesfully connected.\n",
      "-----------------------------------\n",
      "Device 0 (DMK 33GX249 10910288)\n",
      "-----------------------------------\n",
      "Brightness Value set to 416\n",
      "Contrast Value set to 0\n",
      "Sharpness Value set to 0\n",
      "Gamma Value set to 100\n",
      "Gain Value set to 0.0\n",
      "Gain Auto set to 0\n",
      "Exposure Value set to 0.009999999776482582\n",
      "Exposure Auto set to 1\n",
      "Exposure Auto Reference set to 80\n",
      "Exposure Auto Max Value set to 2.0\n",
      "Exposure Auto Max Auto set to 0\n",
      "Trigger Enable set to 0\n",
      "Denoise Value set to 0\n",
      "Flip Horizontal Enable set to 0\n",
      "Flip Vertical Enable set to 0\n",
      "Highlight Reduction Enable set to 0\n",
      "Tone Mapping Enable set to 0\n",
      "Strobe Enable set to 0\n",
      "Auto Functions ROI Enabled set to 0\n",
      "-----------------------------------\n",
      "-----------------------------------\n",
      "Device 1 (DMK 33GX249 10910273)\n",
      "-----------------------------------\n",
      "Brightness Value set to 416\n",
      "Contrast Value set to 0\n",
      "Sharpness Value set to 0\n",
      "Gamma Value set to 100\n",
      "Gain Value set to 0.0\n",
      "Gain Auto set to 0\n",
      "Exposure Value set to 0.009999999776482582\n",
      "Exposure Auto set to 1\n",
      "Exposure Auto Reference set to 80\n",
      "Exposure Auto Max Value set to 2.0\n",
      "Exposure Auto Max Auto set to 0\n",
      "Trigger Enable set to 0\n",
      "Denoise Value set to 0\n",
      "Flip Horizontal Enable set to 0\n",
      "Flip Vertical Enable set to 0\n",
      "Highlight Reduction Enable set to 0\n",
      "Tone Mapping Enable set to 0\n",
      "Strobe Enable set to 0\n",
      "Auto Functions ROI Enabled set to 0\n",
      "-----------------------------------\n",
      "-----------------------------------\n",
      "Device 2 (DMK 33GX249 10910289)\n",
      "-----------------------------------\n",
      "Brightness Value set to 416\n",
      "Contrast Value set to 0\n",
      "Sharpness Value set to 0\n",
      "Gamma Value set to 100\n",
      "Gain Value set to 0.0\n",
      "Gain Auto set to 0\n",
      "Exposure Value set to 0.009999999776482582\n",
      "Exposure Auto set to 1\n",
      "Exposure Auto Reference set to 80\n",
      "Exposure Auto Max Value set to 2.0\n",
      "Exposure Auto Max Auto set to 0\n",
      "Trigger Enable set to 0\n",
      "Denoise Value set to 0\n",
      "Flip Horizontal Enable set to 0\n",
      "Flip Vertical Enable set to 0\n",
      "Highlight Reduction Enable set to 0\n",
      "Tone Mapping Enable set to 0\n",
      "Strobe Enable set to 0\n",
      "Auto Functions ROI Enabled set to 0\n",
      "-----------------------------------\n",
      "-----------------------------------\n",
      "Device 4 (DMK 33GX249 10910291)\n",
      "-----------------------------------\n",
      "Brightness Value set to 416\n",
      "Contrast Value set to 0\n",
      "Sharpness Value set to 0\n",
      "Gamma Value set to 100\n",
      "Gain Value set to 0.0\n",
      "Gain Auto set to 0\n",
      "Exposure Value set to 0.009999999776482582\n",
      "Exposure Auto set to 1\n",
      "Exposure Auto Reference set to 80\n",
      "Exposure Auto Max Value set to 2.0\n",
      "Exposure Auto Max Auto set to 0\n",
      "Trigger Enable set to 0\n",
      "Denoise Value set to 0\n",
      "Flip Horizontal Enable set to 0\n",
      "Flip Vertical Enable set to 0\n",
      "Highlight Reduction Enable set to 0\n",
      "Tone Mapping Enable set to 0\n",
      "Strobe Enable set to 0\n",
      "Auto Functions ROI Enabled set to 0\n",
      "-----------------------------------\n",
      "-----------------------------------\n",
      "Device 5 (DMK 33GX249 10910295)\n",
      "-----------------------------------\n",
      "Brightness Value set to 416\n",
      "Contrast Value set to 0\n",
      "Sharpness Value set to 0\n",
      "Gamma Value set to 100\n",
      "Gain Value set to 0.0\n",
      "Gain Auto set to 0\n",
      "Exposure Value set to 0.009999999776482582\n",
      "Exposure Auto set to 1\n",
      "Exposure Auto Reference set to 80\n",
      "Exposure Auto Max Value set to 2.0\n",
      "Exposure Auto Max Auto set to 0\n",
      "Trigger Enable set to 0\n",
      "Denoise Value set to 0\n",
      "Flip Horizontal Enable set to 0\n",
      "Flip Vertical Enable set to 0\n",
      "Highlight Reduction Enable set to 0\n",
      "Tone Mapping Enable set to 0\n",
      "Strobe Enable set to 0\n",
      "Auto Functions ROI Enabled set to 0\n",
      "-----------------------------------\n",
      "-----------------------------------\n",
      "Device 7 (DMK 33GX249 23120778)\n",
      "-----------------------------------\n",
      "Brightness Value set to 416\n",
      "Contrast Value set to 0\n",
      "Sharpness Value set to 0\n",
      "Gamma Value set to 100\n",
      "Gain Value set to 0.0\n",
      "Gain Auto set to 0\n",
      "Exposure Value set to 0.009999999776482582\n",
      "Exposure Auto set to 1\n",
      "Exposure Auto Reference set to 80\n",
      "Exposure Auto Max Value set to 2.0\n",
      "Exposure Auto Max Auto set to 0\n",
      "Trigger Enable set to 0\n",
      "Denoise Value set to 0\n",
      "Flip Horizontal Enable set to 0\n",
      "Flip Vertical Enable set to 0\n",
      "Highlight Reduction Enable set to 0\n",
      "Tone Mapping Enable set to 0\n",
      "Strobe Enable set to 0\n",
      "Auto Functions ROI Enabled set to 0\n",
      "-----------------------------------\n"
     ]
    }
   ],
   "source": [
    "import orochi_sim_ctrl as osc\n",
    "\n",
    "ic = osc.start_ic()\n",
    "camera_config = osc.load_camera_config()\n",
    "cameras = osc.connect_cameras(ic, camera_config)\n",
    "osc.configure_cameras(cameras)"
   ]
  },
  {
   "attachments": {},
   "cell_type": "markdown",
   "metadata": {},
   "source": [
    "# Calibration Target Imaging\n",
    "\n",
    "- Prompt: Lens Cap removal, put calibration target in place\n",
    "- Cycle over cameras. For each camera:\n",
    "    - get optimal exposure and check ROI\n",
    "    - capture repeat images of the calibration target\n",
    "    - save the images\n",
    "    - save the exposures used"
   ]
  },
  {
   "cell_type": "markdown",
   "metadata": {},
   "source": [
    "Check:\n",
    "1. The calibration target is in place\n",
    "2. Lens cap is removed"
   ]
  },
  {
   "cell_type": "code",
   "execution_count": 6,
   "metadata": {},
   "outputs": [],
   "source": [
    "osc.prepare_reflectance_calibration(ic)"
   ]
  },
  {
   "attachments": {},
   "cell_type": "markdown",
   "metadata": {},
   "source": [
    "Find the optimal exposures for calibration target imaging."
   ]
  },
  {
   "cell_type": "code",
   "execution_count": 13,
   "metadata": {},
   "outputs": [
    {
     "name": "stdout",
     "output_type": "stream",
     "text": [
      "-----------------------------------\n",
      "Device 0\n",
      "-----------------------------------\n",
      "Initiating search:\n",
      "Exposure Value set to 0.009999999776482582\n",
      "Exposure Auto set to 0\n",
      "Trial 0:\n",
      "Exposure current Value: 0.009998999536037445\n",
      "Exposure Value set to 0.04166249930858612\n",
      "Trial 1:\n",
      "Exposure current Value: 0.04166200011968613\n",
      "Exposure Value set to 0.17855143547058105\n",
      "Trial 2:\n",
      "Exposure current Value: 0.17855100333690643\n",
      "Exposure Value set to 0.7439625263214111\n",
      "Trial 3:\n",
      "Exposure current Value: 0.7439619898796082\n",
      "Exposure Value set to 3.099841594696045\n",
      "Trial 4:\n",
      "Exposure current Value: 3.0998411178588867\n",
      "Exposure Value set to 12.91600513458252\n",
      "Trial 5:\n",
      "Exposure current Value: 12.91600513458252\n",
      "Failure to satisfy tolerance. Exiting routine.\n",
      "Exposure current Value: 12.91600513458252\n",
      "-----------------------------------\n",
      "-----------------------------------\n",
      "Device 1\n",
      "-----------------------------------\n",
      "Initiating search:\n",
      "Exposure Value set to 0.009999999776482582\n",
      "Exposure Auto set to 0\n",
      "Trial 0:\n",
      "Exposure current Value: 0.009998999536037445\n",
      "Exposure Value set to 0.04544999822974205\n",
      "Trial 1:\n",
      "Exposure current Value: 0.04544899985194206\n",
      "Exposure Value set to 0.20658636093139648\n",
      "Trial 2:\n",
      "Exposure current Value: 0.20658600330352783\n",
      "Exposure Value set to 0.9114088416099548\n",
      "Trial 3:\n",
      "Exposure current Value: 0.911408007144928\n",
      "Exposure Value set to 4.020917892456055\n",
      "Trial 4:\n",
      "Exposure current Value: 4.020916938781738\n",
      "Exposure Value set to 17.73933982849121\n",
      "Trial 5:\n",
      "Exposure current Value: 17.73933982849121\n",
      "Failure to satisfy tolerance. Exiting routine.\n",
      "Exposure current Value: 17.73933982849121\n",
      "-----------------------------------\n",
      "-----------------------------------\n",
      "Device 2\n",
      "-----------------------------------\n",
      "Initiating search:\n",
      "Exposure Value set to 0.009999999776482582\n",
      "Exposure Auto set to 0\n",
      "Trial 0:\n",
      "Exposure current Value: 0.009998999536037445\n",
      "Exposure Value set to 0.04285285621881485\n",
      "Trial 1:\n",
      "Exposure current Value: 0.042851999402046204\n",
      "Exposure Value set to 0.18905293941497803\n",
      "Trial 2:\n",
      "Exposure current Value: 0.18905200064182281\n",
      "Exposure Value set to 0.7877166867256165\n",
      "Trial 3:\n",
      "Exposure current Value: 0.7877159714698792\n",
      "Exposure Value set to 3.2821497917175293\n",
      "Trial 4:\n",
      "Exposure current Value: 3.282149076461792\n",
      "Exposure Value set to 13.675621032714844\n",
      "Trial 5:\n",
      "Exposure current Value: 13.675621032714844\n",
      "Failure to satisfy tolerance. Exiting routine.\n",
      "Exposure current Value: 13.675621032714844\n",
      "-----------------------------------\n",
      "-----------------------------------\n",
      "Device 4\n",
      "-----------------------------------\n",
      "Initiating search:\n",
      "Exposure Value set to 0.009999999776482582\n",
      "Exposure Auto set to 0\n",
      "Trial 0:\n",
      "Exposure current Value: 0.009998999536037445\n",
      "Exposure Value set to 0.04285285621881485\n",
      "Trial 1:\n",
      "Exposure current Value: 0.042851999402046204\n",
      "Exposure Value set to 0.18365143239498138\n",
      "Trial 2:\n",
      "Exposure current Value: 0.18365100026130676\n",
      "Exposure Value set to 0.7870756983757019\n",
      "Trial 3:\n",
      "Exposure current Value: 0.7870749831199646\n",
      "Exposure Value set to 3.373178482055664\n",
      "Trial 4:\n",
      "Exposure current Value: 3.373178005218506\n",
      "Exposure Value set to 14.456477165222168\n",
      "Trial 5:\n",
      "Exposure current Value: 14.456477165222168\n",
      "Failure to satisfy tolerance. Exiting routine.\n",
      "Exposure current Value: 14.456477165222168\n",
      "-----------------------------------\n",
      "-----------------------------------\n",
      "Device 5\n",
      "-----------------------------------\n",
      "Initiating search:\n",
      "Exposure Value set to 0.009999999776482582\n",
      "Exposure Auto set to 0\n",
      "Trial 0:\n",
      "Exposure current Value: 0.009998999536037445\n",
      "Exposure Value set to 0.040536485612392426\n",
      "Trial 1:\n",
      "Exposure current Value: 0.040536001324653625\n",
      "Exposure Value set to 0.16433514654636383\n",
      "Trial 2:\n",
      "Exposure current Value: 0.1643349975347519\n",
      "Exposure Value set to 0.6662229895591736\n",
      "Trial 3:\n",
      "Exposure current Value: 0.6662219762802124\n",
      "Exposure Value set to 2.700899839401245\n",
      "Trial 4:\n",
      "Exposure current Value: 2.7008988857269287\n",
      "Exposure Value set to 10.949589729309082\n",
      "Trial 5:\n",
      "Exposure current Value: 10.949588775634766\n",
      "Exposure Value set to 44.39022445678711\n",
      "Failure to satisfy tolerance. Exiting routine.\n",
      "Exposure current Value: 44.39022445678711\n",
      "-----------------------------------\n",
      "-----------------------------------\n",
      "Device 7\n",
      "-----------------------------------\n",
      "Initiating search:\n",
      "Exposure Value set to 0.009999999776482582\n",
      "Exposure Auto set to 0\n",
      "Trial 0:\n",
      "Exposure current Value: 0.009998999536037445\n",
      "Exposure Value set to 0.04411323368549347\n",
      "Trial 1:\n",
      "Exposure current Value: 0.044112998992204666\n",
      "Exposure Value set to 0.1946161687374115\n",
      "Trial 2:\n",
      "Exposure current Value: 0.19461600482463837\n",
      "Exposure Value set to 0.8846182227134705\n",
      "Trial 3:\n",
      "Exposure current Value: 0.8846179842948914\n",
      "Exposure Value set to 4.02099084854126\n",
      "Trial 4:\n",
      "Exposure current Value: 4.020989894866943\n",
      "Exposure Value set to 18.2772274017334\n",
      "Trial 5:\n",
      "Exposure current Value: 18.2772274017334\n",
      "Failure to satisfy tolerance. Exiting routine.\n",
      "Exposure current Value: 18.2772274017334\n",
      "-----------------------------------\n"
     ]
    }
   ],
   "source": [
    "calibration_exposures = osc.find_channel_exposures(cameras)"
   ]
  },
  {
   "attachments": {},
   "cell_type": "markdown",
   "metadata": {},
   "source": [
    "Check the calibration target images."
   ]
  },
  {
   "cell_type": "code",
   "execution_count": 15,
   "metadata": {},
   "outputs": [
    {
     "name": "stdout",
     "output_type": "stream",
     "text": [
      "-----------------------------------\n",
      "Device 0\n",
      "-----------------------------------\n",
      "Exposure Value set to 12.91600513458252\n",
      "Exposure Auto set to 0\n"
     ]
    },
    {
     "data": {
      "image/png": "[encoded data removed]",
      "text/plain": [
       "<Figure size 640x480 with 2 Axes>"
      ]
     },
     "metadata": {},
     "output_type": "display_data"
    },
    {
     "name": "stdout",
     "output_type": "stream",
     "text": [
      "-----------------------------------\n",
      "-----------------------------------\n",
      "Device 1\n",
      "-----------------------------------\n",
      "Exposure Value set to 17.73933982849121\n",
      "Exposure Auto set to 0\n"
     ]
    },
    {
     "data": {
      "image/png": "[encoded data removed]",
      "text/plain": [
       "<Figure size 640x480 with 2 Axes>"
      ]
     },
     "metadata": {},
     "output_type": "display_data"
    },
    {
     "name": "stdout",
     "output_type": "stream",
     "text": [
      "-----------------------------------\n",
      "-----------------------------------\n",
      "Device 2\n",
      "-----------------------------------\n",
      "Exposure Value set to 13.675621032714844\n",
      "Exposure Auto set to 0\n"
     ]
    },
    {
     "data": {
      "image/png": "[encoded data removed]",
      "text/plain": [
       "<Figure size 640x480 with 2 Axes>"
      ]
     },
     "metadata": {},
     "output_type": "display_data"
    },
    {
     "name": "stdout",
     "output_type": "stream",
     "text": [
      "-----------------------------------\n",
      "-----------------------------------\n",
      "Device 4\n",
      "-----------------------------------\n",
      "Exposure Value set to 14.456477165222168\n",
      "Exposure Auto set to 0\n"
     ]
    },
    {
     "data": {
      "image/png": "[encoded data removed]",
      "text/plain": [
       "<Figure size 640x480 with 2 Axes>"
      ]
     },
     "metadata": {},
     "output_type": "display_data"
    },
    {
     "name": "stdout",
     "output_type": "stream",
     "text": [
      "-----------------------------------\n",
      "-----------------------------------\n",
      "Device 5\n",
      "-----------------------------------\n",
      "Exposure Value set to 44.39022445678711\n",
      "Exposure Auto set to 0\n"
     ]
    },
    {
     "data": {
      "image/png": "[encoded data removed]",
      "text/plain": [
       "<Figure size 640x480 with 2 Axes>"
      ]
     },
     "metadata": {},
     "output_type": "display_data"
    },
    {
     "name": "stdout",
     "output_type": "stream",
     "text": [
      "-----------------------------------\n",
      "-----------------------------------\n",
      "Device 7\n",
      "-----------------------------------\n",
      "Exposure Value set to 18.2772274017334\n",
      "Exposure Auto set to 0\n"
     ]
    },
    {
     "data": {
      "image/png": "[encoded data removed]",
      "text/plain": [
       "<Figure size 640x480 with 2 Axes>"
      ]
     },
     "metadata": {},
     "output_type": "display_data"
    },
    {
     "name": "stdout",
     "output_type": "stream",
     "text": [
      "-----------------------------------\n"
     ]
    }
   ],
   "source": [
    "osc.capture_channel_images(\n",
    "    cameras, \n",
    "    calibration_exposures, \n",
    "    subject='Calibration Check', \n",
    "    roi=True, \n",
    "    show_img=True)"
   ]
  },
  {
   "attachments": {},
   "cell_type": "markdown",
   "metadata": {},
   "source": [
    "Capture 10 repeat images of the calibration target in each channel."
   ]
  },
  {
   "cell_type": "code",
   "execution_count": 17,
   "metadata": {},
   "outputs": [
    {
     "name": "stdout",
     "output_type": "stream",
     "text": [
      "-----------------------------------\n",
      "Device 0\n",
      "-----------------------------------\n",
      "Exposure Value set to 12.91600513458252\n",
      "Exposure Auto set to 0\n",
      "Exposure current Value: 12.91600513458252\n",
      "Image 0 written to reflectance_calibration\\0_650\\650_0_img.tif\n",
      "Exposure current Value: 12.91600513458252\n",
      "Image 1 written to reflectance_calibration\\0_650\\650_1_img.tif\n",
      "Exposure current Value: 12.91600513458252\n",
      "Image 2 written to reflectance_calibration\\0_650\\650_2_img.tif\n",
      "Exposure current Value: 12.91600513458252\n",
      "Image 3 written to reflectance_calibration\\0_650\\650_3_img.tif\n",
      "Exposure current Value: 12.91600513458252\n",
      "Image 4 written to reflectance_calibration\\0_650\\650_4_img.tif\n",
      "Exposure current Value: 12.91600513458252\n",
      "Image 5 written to reflectance_calibration\\0_650\\650_5_img.tif\n",
      "Exposure current Value: 12.91600513458252\n",
      "Image 6 written to reflectance_calibration\\0_650\\650_6_img.tif\n",
      "Exposure current Value: 12.91600513458252\n",
      "Image 7 written to reflectance_calibration\\0_650\\650_7_img.tif\n",
      "Exposure current Value: 12.91600513458252\n",
      "Image 8 written to reflectance_calibration\\0_650\\650_8_img.tif\n",
      "Exposure current Value: 12.91600513458252\n",
      "Image 9 written to reflectance_calibration\\0_650\\650_9_img.tif\n",
      "-----------------------------------\n",
      "-----------------------------------\n",
      "Device 1\n",
      "-----------------------------------\n",
      "Exposure Value set to 17.73933982849121\n",
      "Exposure Auto set to 0\n",
      "Exposure current Value: 17.73933982849121\n",
      "Image 0 written to reflectance_calibration\\1_475\\475_0_img.tif\n",
      "Exposure current Value: 17.73933982849121\n",
      "Image 1 written to reflectance_calibration\\1_475\\475_1_img.tif\n",
      "Exposure current Value: 17.73933982849121\n",
      "Image 2 written to reflectance_calibration\\1_475\\475_2_img.tif\n",
      "Exposure current Value: 17.73933982849121\n",
      "Image 3 written to reflectance_calibration\\1_475\\475_3_img.tif\n",
      "Exposure current Value: 17.73933982849121\n",
      "Image 4 written to reflectance_calibration\\1_475\\475_4_img.tif\n",
      "Exposure current Value: 17.73933982849121\n",
      "Image 5 written to reflectance_calibration\\1_475\\475_5_img.tif\n",
      "Exposure current Value: 17.73933982849121\n",
      "Image 6 written to reflectance_calibration\\1_475\\475_6_img.tif\n",
      "Exposure current Value: 17.73933982849121\n",
      "Image 7 written to reflectance_calibration\\1_475\\475_7_img.tif\n",
      "Exposure current Value: 17.73933982849121\n",
      "Image 8 written to reflectance_calibration\\1_475\\475_8_img.tif\n",
      "Exposure current Value: 17.73933982849121\n",
      "Image 9 written to reflectance_calibration\\1_475\\475_9_img.tif\n",
      "-----------------------------------\n",
      "-----------------------------------\n",
      "Device 2\n",
      "-----------------------------------\n",
      "Exposure Value set to 13.675621032714844\n",
      "Exposure Auto set to 0\n",
      "Exposure current Value: 13.675621032714844\n",
      "Image 0 written to reflectance_calibration\\2_550\\550_0_img.tif\n",
      "Exposure current Value: 13.675621032714844\n",
      "Image 1 written to reflectance_calibration\\2_550\\550_1_img.tif\n",
      "Exposure current Value: 13.675621032714844\n",
      "Image 2 written to reflectance_calibration\\2_550\\550_2_img.tif\n",
      "Exposure current Value: 13.675621032714844\n",
      "Image 3 written to reflectance_calibration\\2_550\\550_3_img.tif\n",
      "Exposure current Value: 13.675621032714844\n",
      "Image 4 written to reflectance_calibration\\2_550\\550_4_img.tif\n",
      "Exposure current Value: 13.675621032714844\n",
      "Image 5 written to reflectance_calibration\\2_550\\550_5_img.tif\n",
      "Exposure current Value: 13.675621032714844\n",
      "Image 6 written to reflectance_calibration\\2_550\\550_6_img.tif\n",
      "Exposure current Value: 13.675621032714844\n",
      "Image 7 written to reflectance_calibration\\2_550\\550_7_img.tif\n",
      "Exposure current Value: 13.675621032714844\n",
      "Image 8 written to reflectance_calibration\\2_550\\550_8_img.tif\n",
      "Exposure current Value: 13.675621032714844\n",
      "Image 9 written to reflectance_calibration\\2_550\\550_9_img.tif\n",
      "-----------------------------------\n",
      "-----------------------------------\n",
      "Device 4\n",
      "-----------------------------------\n",
      "Exposure Value set to 14.456477165222168\n",
      "Exposure Auto set to 0\n",
      "Exposure current Value: 14.456477165222168\n",
      "Image 0 written to reflectance_calibration\\4_725\\725_0_img.tif\n",
      "Exposure current Value: 14.456477165222168\n",
      "Image 1 written to reflectance_calibration\\4_725\\725_1_img.tif\n",
      "Exposure current Value: 14.456477165222168\n",
      "Image 2 written to reflectance_calibration\\4_725\\725_2_img.tif\n",
      "Exposure current Value: 14.456477165222168\n",
      "Image 3 written to reflectance_calibration\\4_725\\725_3_img.tif\n",
      "Exposure current Value: 14.456477165222168\n",
      "Image 4 written to reflectance_calibration\\4_725\\725_4_img.tif\n",
      "Exposure current Value: 14.456477165222168\n",
      "Image 5 written to reflectance_calibration\\4_725\\725_5_img.tif\n",
      "Exposure current Value: 14.456477165222168\n",
      "Image 6 written to reflectance_calibration\\4_725\\725_6_img.tif\n",
      "Exposure current Value: 14.456477165222168\n",
      "Image 7 written to reflectance_calibration\\4_725\\725_7_img.tif\n",
      "Exposure current Value: 14.456477165222168\n",
      "Image 8 written to reflectance_calibration\\4_725\\725_8_img.tif\n",
      "Exposure current Value: 14.456477165222168\n",
      "Image 9 written to reflectance_calibration\\4_725\\725_9_img.tif\n",
      "-----------------------------------\n",
      "-----------------------------------\n",
      "Device 5\n",
      "-----------------------------------\n",
      "Exposure Value set to 44.39022445678711\n",
      "Exposure Auto set to 0\n",
      "Exposure current Value: 44.39022445678711\n",
      "Image 0 written to reflectance_calibration\\5_850\\850_0_img.tif\n",
      "Exposure current Value: 44.39022445678711\n",
      "Image 1 written to reflectance_calibration\\5_850\\850_1_img.tif\n",
      "Exposure current Value: 44.39022445678711\n",
      "Image 2 written to reflectance_calibration\\5_850\\850_2_img.tif\n",
      "Exposure current Value: 44.39022445678711\n",
      "Image 3 written to reflectance_calibration\\5_850\\850_3_img.tif\n",
      "Exposure current Value: 44.39022445678711\n",
      "Image 4 written to reflectance_calibration\\5_850\\850_4_img.tif\n",
      "Exposure current Value: 44.39022445678711\n",
      "Image 5 written to reflectance_calibration\\5_850\\850_5_img.tif\n",
      "Exposure current Value: 44.39022445678711\n",
      "Image 6 written to reflectance_calibration\\5_850\\850_6_img.tif\n",
      "Exposure current Value: 44.39022445678711\n",
      "Image 7 written to reflectance_calibration\\5_850\\850_7_img.tif\n",
      "Exposure current Value: 44.39022445678711\n",
      "Image 8 written to reflectance_calibration\\5_850\\850_8_img.tif\n",
      "Exposure current Value: 44.39022445678711\n",
      "Image 9 written to reflectance_calibration\\5_850\\850_9_img.tif\n",
      "-----------------------------------\n",
      "-----------------------------------\n",
      "Device 7\n",
      "-----------------------------------\n",
      "Exposure Value set to 18.2772274017334\n",
      "Exposure Auto set to 0\n",
      "Exposure current Value: 18.2772274017334\n",
      "Image 0 written to reflectance_calibration\\7_950\\950_0_img.tif\n",
      "Exposure current Value: 18.2772274017334\n",
      "Image 1 written to reflectance_calibration\\7_950\\950_1_img.tif\n",
      "Exposure current Value: 18.2772274017334\n",
      "Image 2 written to reflectance_calibration\\7_950\\950_2_img.tif\n",
      "Exposure current Value: 18.2772274017334\n",
      "Image 3 written to reflectance_calibration\\7_950\\950_3_img.tif\n",
      "Exposure current Value: 18.2772274017334\n",
      "Image 4 written to reflectance_calibration\\7_950\\950_4_img.tif\n",
      "Exposure current Value: 18.2772274017334\n",
      "Image 5 written to reflectance_calibration\\7_950\\950_5_img.tif\n",
      "Exposure current Value: 18.2772274017334\n",
      "Image 6 written to reflectance_calibration\\7_950\\950_6_img.tif\n",
      "Exposure current Value: 18.2772274017334\n",
      "Image 7 written to reflectance_calibration\\7_950\\950_7_img.tif\n",
      "Exposure current Value: 18.2772274017334\n",
      "Image 8 written to reflectance_calibration\\7_950\\950_8_img.tif\n",
      "Exposure current Value: 18.2772274017334\n",
      "Image 9 written to reflectance_calibration\\7_950\\950_9_img.tif\n",
      "-----------------------------------\n"
     ]
    }
   ],
   "source": [
    "osc.capture_channel_images(\n",
    "    cameras, \n",
    "    calibration_exposures, \n",
    "    subject='reflectance_calibration', \n",
    "    repeats=10,\n",
    "    roi=False, \n",
    "    show_img=False,\n",
    "    save_img=True)"
   ]
  },
  {
   "attachments": {},
   "cell_type": "markdown",
   "metadata": {},
   "source": [
    "Write the exposures to file."
   ]
  },
  {
   "cell_type": "code",
   "execution_count": 19,
   "metadata": {},
   "outputs": [],
   "source": [
    "osc.record_exposures(cameras, calibration_exposures, 'reflectance_calibration')"
   ]
  },
  {
   "cell_type": "markdown",
   "metadata": {},
   "source": [
    "# Geometric Calibration Target Imaging\n",
    "\n",
    "- Prompt: Lens Cap removal, put geometric calibration target in place\n",
    "- Cycle over cameras. For each camera:\n",
    "    - get optimal exposure and check ROI\n",
    "    - capture repeat images of the geometric calibration target\n",
    "    - save the images\n",
    "    - save the exposures used"
   ]
  },
  {
   "attachments": {},
   "cell_type": "markdown",
   "metadata": {},
   "source": [
    "Check:\n",
    "1. The geometric target is in place\n",
    "2. Lens cap is removed"
   ]
  },
  {
   "cell_type": "code",
   "execution_count": 20,
   "metadata": {},
   "outputs": [],
   "source": [
    "osc.prepare_geometric_calibration(ic)"
   ]
  },
  {
   "attachments": {},
   "cell_type": "markdown",
   "metadata": {},
   "source": [
    "Find the optimal exposures for geometric calibration target imaging."
   ]
  },
  {
   "cell_type": "code",
   "execution_count": 22,
   "metadata": {},
   "outputs": [
    {
     "name": "stdout",
     "output_type": "stream",
     "text": [
      "-----------------------------------\n",
      "Device 0\n",
      "-----------------------------------\n",
      "Initiating search:\n",
      "Exposure Value set to 0.009999999776482582\n",
      "Exposure Auto set to 0\n",
      "Trial 0:\n",
      "Exposure current Value: 0.009998999536037445\n",
      "Exposure Value set to 0.04166249930858612\n",
      "Trial 1:\n",
      "Exposure current Value: 0.04166200011968613\n",
      "Exposure Value set to 0.17359167337417603\n",
      "Trial 2:\n",
      "Exposure current Value: 0.1735910028219223\n",
      "Exposure Value set to 0.7037473320960999\n",
      "Trial 3:\n",
      "Exposure current Value: 0.7037469744682312\n",
      "Exposure Value set to 2.8530282974243164\n",
      "Trial 4:\n",
      "Exposure current Value: 2.8530280590057373\n",
      "Exposure Value set to 11.566329956054688\n",
      "Trial 5:\n",
      "Exposure current Value: 11.566329002380371\n",
      "Exposure Value set to 46.89052200317383\n",
      "Failure to satisfy tolerance. Exiting routine.\n",
      "Exposure current Value: 46.89051818847656\n",
      "-----------------------------------\n",
      "-----------------------------------\n",
      "Device 1\n",
      "-----------------------------------\n",
      "Initiating search:\n",
      "Exposure Value set to 0.009999999776482582\n",
      "Exposure Auto set to 0\n",
      "Trial 0:\n",
      "Exposure current Value: 0.009998999536037445\n",
      "Exposure Value set to 0.04166249930858612\n",
      "Trial 1:\n",
      "Exposure current Value: 0.04166200011968613\n",
      "Exposure Value set to 0.17359167337417603\n",
      "Trial 2:\n",
      "Exposure current Value: 0.1735910028219223\n",
      "Exposure Value set to 0.667657732963562\n",
      "Trial 3:\n",
      "Exposure current Value: 0.6676570177078247\n",
      "Exposure Value set to 2.5679116249084473\n",
      "Trial 4:\n",
      "Exposure current Value: 2.56791090965271\n",
      "Exposure Value set to 9.876580238342285\n",
      "Trial 5:\n",
      "Exposure current Value: 9.876580238342285\n",
      "Exposure Value set to 37.986846923828125\n",
      "Failure to satisfy tolerance. Exiting routine.\n",
      "Exposure current Value: 37.986846923828125\n",
      "-----------------------------------\n",
      "-----------------------------------\n",
      "Device 2\n",
      "-----------------------------------\n",
      "Initiating search:\n",
      "Exposure Value set to 0.009999999776482582\n",
      "Exposure Auto set to 0\n",
      "Trial 0:\n",
      "Exposure current Value: 0.009998999536037445\n",
      "Exposure Value set to 0.040536485612392426\n",
      "Trial 1:\n",
      "Exposure current Value: 0.040536001324653625\n",
      "Exposure Value set to 0.16001053154468536\n",
      "Trial 2:\n",
      "Exposure current Value: 0.16000999510288239\n",
      "Exposure Value set to 0.6316183805465698\n",
      "Trial 3:\n",
      "Exposure current Value: 0.6316180229187012\n",
      "Exposure Value set to 2.4932291507720947\n",
      "Trial 4:\n",
      "Exposure current Value: 2.4932289123535156\n",
      "Exposure Value set to 9.841692924499512\n",
      "Trial 5:\n",
      "Exposure current Value: 9.841691970825195\n",
      "Exposure Value set to 38.848785400390625\n",
      "Failure to satisfy tolerance. Exiting routine.\n",
      "Exposure current Value: 38.848785400390625\n",
      "-----------------------------------\n",
      "-----------------------------------\n",
      "Device 4\n",
      "-----------------------------------\n",
      "Initiating search:\n",
      "Exposure Value set to 0.009999999776482582\n",
      "Exposure Auto set to 0\n",
      "Trial 0:\n",
      "Exposure current Value: 0.009998999536037445\n",
      "Exposure Value set to 0.040536485612392426\n",
      "Trial 1:\n",
      "Exposure current Value: 0.040536001324653625\n",
      "Exposure Value set to 0.16433514654636383\n",
      "Trial 2:\n",
      "Exposure current Value: 0.1643349975347519\n",
      "Exposure Value set to 0.6320576667785645\n",
      "Trial 3:\n",
      "Exposure current Value: 0.6320570111274719\n",
      "Exposure Value set to 2.4309885501861572\n",
      "Trial 4:\n",
      "Exposure current Value: 2.430988073348999\n",
      "Exposure Value set to 9.349954605102539\n",
      "Trial 5:\n",
      "Exposure current Value: 9.349953651428223\n",
      "Exposure Value set to 35.961360931396484\n",
      "Failure to satisfy tolerance. Exiting routine.\n",
      "Exposure current Value: 35.961360931396484\n",
      "-----------------------------------\n",
      "-----------------------------------\n",
      "Device 5\n",
      "-----------------------------------\n",
      "Initiating search:\n",
      "Exposure Value set to 0.009999999776482582\n",
      "Exposure Auto set to 0\n",
      "Trial 0:\n",
      "Exposure current Value: 0.009998999536037445\n",
      "Exposure Value set to 0.03749624639749527\n",
      "Trial 1:\n",
      "Exposure current Value: 0.03749600052833557\n",
      "Exposure Value set to 0.144215390086174\n",
      "Trial 2:\n",
      "Exposure current Value: 0.14421500265598297\n",
      "Exposure Value set to 0.540806233882904\n",
      "Trial 3:\n",
      "Exposure current Value: 0.540805995464325\n",
      "Exposure Value set to 2.028022527694702\n",
      "Trial 4:\n",
      "Exposure current Value: 2.028022050857544\n",
      "Exposure Value set to 7.6050825119018555\n",
      "Trial 5:\n",
      "Exposure current Value: 7.605082035064697\n",
      "Exposure Value set to 28.519058227539062\n",
      "Failure to satisfy tolerance. Exiting routine.\n",
      "Exposure current Value: 28.519058227539062\n",
      "-----------------------------------\n",
      "-----------------------------------\n",
      "Device 7\n",
      "-----------------------------------\n",
      "Initiating search:\n",
      "Exposure Value set to 0.009999999776482582\n",
      "Exposure Auto set to 0\n",
      "Trial 0:\n",
      "Exposure current Value: 0.009998999536037445\n",
      "Exposure Value set to 0.04166249930858612\n",
      "Trial 1:\n",
      "Exposure current Value: 0.04166200011968613\n",
      "Exposure Value set to 0.17359167337417603\n",
      "Trial 2:\n",
      "Exposure current Value: 0.1735910028219223\n",
      "Exposure Value set to 0.7232958674430847\n",
      "Trial 3:\n",
      "Exposure current Value: 0.7232949733734131\n",
      "Exposure Value set to 3.0137290954589844\n",
      "Trial 4:\n",
      "Exposure current Value: 3.0137290954589844\n",
      "Exposure Value set to 12.557204246520996\n",
      "Trial 5:\n",
      "Exposure current Value: 12.557204246520996\n",
      "Failure to satisfy tolerance. Exiting routine.\n",
      "Exposure current Value: 12.557204246520996\n",
      "-----------------------------------\n"
     ]
    }
   ],
   "source": [
    "geometric_exposures = osc.find_channel_exposures(cameras, roi=False)"
   ]
  },
  {
   "attachments": {},
   "cell_type": "markdown",
   "metadata": {},
   "source": [
    "Check the geometric calibration target images."
   ]
  },
  {
   "cell_type": "code",
   "execution_count": 23,
   "metadata": {},
   "outputs": [
    {
     "name": "stdout",
     "output_type": "stream",
     "text": [
      "-----------------------------------\n",
      "Device 0\n",
      "-----------------------------------\n",
      "Exposure Value set to 46.89051818847656\n",
      "Exposure Auto set to 0\n"
     ]
    },
    {
     "data": {
      "image/png": "[encoded data removed]",
      "text/plain": [
       "<Figure size 640x480 with 2 Axes>"
      ]
     },
     "metadata": {},
     "output_type": "display_data"
    },
    {
     "name": "stdout",
     "output_type": "stream",
     "text": [
      "-----------------------------------\n",
      "-----------------------------------\n",
      "Device 1\n",
      "-----------------------------------\n",
      "Exposure Value set to 37.986846923828125\n",
      "Exposure Auto set to 0\n"
     ]
    },
    {
     "data": {
      "image/png": "[encoded data removed]",
      "text/plain": [
       "<Figure size 640x480 with 2 Axes>"
      ]
     },
     "metadata": {},
     "output_type": "display_data"
    },
    {
     "name": "stdout",
     "output_type": "stream",
     "text": [
      "-----------------------------------\n",
      "-----------------------------------\n",
      "Device 2\n",
      "-----------------------------------\n",
      "Exposure Value set to 38.848785400390625\n",
      "Exposure Auto set to 0\n"
     ]
    },
    {
     "data": {
      "image/png": "[encoded data removed]",
      "text/plain": [
       "<Figure size 640x480 with 2 Axes>"
      ]
     },
     "metadata": {},
     "output_type": "display_data"
    },
    {
     "name": "stdout",
     "output_type": "stream",
     "text": [
      "-----------------------------------\n",
      "-----------------------------------\n",
      "Device 4\n",
      "-----------------------------------\n",
      "Exposure Value set to 35.961360931396484\n",
      "Exposure Auto set to 0\n"
     ]
    },
    {
     "data": {
      "image/png": "[encoded data removed]",
      "text/plain": [
       "<Figure size 640x480 with 2 Axes>"
      ]
     },
     "metadata": {},
     "output_type": "display_data"
    },
    {
     "name": "stdout",
     "output_type": "stream",
     "text": [
      "-----------------------------------\n",
      "-----------------------------------\n",
      "Device 5\n",
      "-----------------------------------\n",
      "Exposure Value set to 28.519058227539062\n",
      "Exposure Auto set to 0\n"
     ]
    },
    {
     "data": {
      "image/png": "[encoded data removed]",
      "text/plain": [
       "<Figure size 640x480 with 2 Axes>"
      ]
     },
     "metadata": {},
     "output_type": "display_data"
    },
    {
     "name": "stdout",
     "output_type": "stream",
     "text": [
      "-----------------------------------\n",
      "-----------------------------------\n",
      "Device 7\n",
      "-----------------------------------\n",
      "Exposure Value set to 12.557204246520996\n",
      "Exposure Auto set to 0\n"
     ]
    },
    {
     "data": {
      "image/png": "[encoded data removed]",
      "text/plain": [
       "<Figure size 640x480 with 2 Axes>"
      ]
     },
     "metadata": {},
     "output_type": "display_data"
    },
    {
     "name": "stdout",
     "output_type": "stream",
     "text": [
      "-----------------------------------\n"
     ]
    }
   ],
   "source": [
    "osc.capture_channel_images(\n",
    "    cameras, \n",
    "    geometric_exposures, \n",
    "    subject='Geometric Calibration Check', \n",
    "    roi=False, \n",
    "    show_img=True)"
   ]
  },
  {
   "attachments": {},
   "cell_type": "markdown",
   "metadata": {},
   "source": [
    "Capture 10 repeat images of the geometric calibration target in each channel."
   ]
  },
  {
   "cell_type": "code",
   "execution_count": 24,
   "metadata": {},
   "outputs": [
    {
     "name": "stdout",
     "output_type": "stream",
     "text": [
      "-----------------------------------\n",
      "Device 0\n",
      "-----------------------------------\n",
      "Exposure Value set to 46.89051818847656\n",
      "Exposure Auto set to 0\n",
      "Exposure current Value: 46.89051818847656\n",
      "Image 0 written to ..\\data\\geometric_calibration\\0_650\\650_0_img.tif\n",
      "Exposure current Value: 46.89051818847656\n",
      "Image 1 written to ..\\data\\geometric_calibration\\0_650\\650_1_img.tif\n",
      "Exposure current Value: 46.89051818847656\n",
      "Image 2 written to ..\\data\\geometric_calibration\\0_650\\650_2_img.tif\n",
      "Exposure current Value: 46.89051818847656\n",
      "Image 3 written to ..\\data\\geometric_calibration\\0_650\\650_3_img.tif\n",
      "Exposure current Value: 46.89051818847656\n",
      "Image 4 written to ..\\data\\geometric_calibration\\0_650\\650_4_img.tif\n",
      "Exposure current Value: 46.89051818847656\n",
      "Image 5 written to ..\\data\\geometric_calibration\\0_650\\650_5_img.tif\n",
      "Exposure current Value: 46.89051818847656\n",
      "Image 6 written to ..\\data\\geometric_calibration\\0_650\\650_6_img.tif\n",
      "Exposure current Value: 46.89051818847656\n",
      "Image 7 written to ..\\data\\geometric_calibration\\0_650\\650_7_img.tif\n",
      "Exposure current Value: 46.89051818847656\n",
      "Image 8 written to ..\\data\\geometric_calibration\\0_650\\650_8_img.tif\n",
      "Exposure current Value: 46.89051818847656\n",
      "Image 9 written to ..\\data\\geometric_calibration\\0_650\\650_9_img.tif\n",
      "-----------------------------------\n",
      "-----------------------------------\n",
      "Device 1\n",
      "-----------------------------------\n",
      "Exposure Value set to 37.986846923828125\n",
      "Exposure Auto set to 0\n",
      "Exposure current Value: 37.986846923828125\n",
      "Image 0 written to ..\\data\\geometric_calibration\\1_475\\475_0_img.tif\n",
      "Exposure current Value: 37.986846923828125\n",
      "Image 1 written to ..\\data\\geometric_calibration\\1_475\\475_1_img.tif\n",
      "Exposure current Value: 37.986846923828125\n",
      "Image 2 written to ..\\data\\geometric_calibration\\1_475\\475_2_img.tif\n",
      "Exposure current Value: 37.986846923828125\n",
      "Image 3 written to ..\\data\\geometric_calibration\\1_475\\475_3_img.tif\n",
      "Exposure current Value: 37.986846923828125\n",
      "Image 4 written to ..\\data\\geometric_calibration\\1_475\\475_4_img.tif\n",
      "Exposure current Value: 37.986846923828125\n",
      "Image 5 written to ..\\data\\geometric_calibration\\1_475\\475_5_img.tif\n",
      "Exposure current Value: 37.986846923828125\n",
      "Image 6 written to ..\\data\\geometric_calibration\\1_475\\475_6_img.tif\n",
      "Exposure current Value: 37.986846923828125\n",
      "Image 7 written to ..\\data\\geometric_calibration\\1_475\\475_7_img.tif\n",
      "Exposure current Value: 37.986846923828125\n",
      "Image 8 written to ..\\data\\geometric_calibration\\1_475\\475_8_img.tif\n",
      "Exposure current Value: 37.986846923828125\n",
      "Image 9 written to ..\\data\\geometric_calibration\\1_475\\475_9_img.tif\n",
      "-----------------------------------\n",
      "-----------------------------------\n",
      "Device 2\n",
      "-----------------------------------\n",
      "Exposure Value set to 38.848785400390625\n",
      "Exposure Auto set to 0\n",
      "Exposure current Value: 38.848785400390625\n",
      "Image 0 written to ..\\data\\geometric_calibration\\2_550\\550_0_img.tif\n",
      "Exposure current Value: 38.848785400390625\n",
      "Image 1 written to ..\\data\\geometric_calibration\\2_550\\550_1_img.tif\n",
      "Exposure current Value: 38.848785400390625\n",
      "Image 2 written to ..\\data\\geometric_calibration\\2_550\\550_2_img.tif\n",
      "Exposure current Value: 38.848785400390625\n",
      "Image 3 written to ..\\data\\geometric_calibration\\2_550\\550_3_img.tif\n",
      "Exposure current Value: 38.848785400390625\n",
      "Image 4 written to ..\\data\\geometric_calibration\\2_550\\550_4_img.tif\n",
      "Exposure current Value: 38.848785400390625\n",
      "Image 5 written to ..\\data\\geometric_calibration\\2_550\\550_5_img.tif\n",
      "Exposure current Value: 38.848785400390625\n",
      "Image 6 written to ..\\data\\geometric_calibration\\2_550\\550_6_img.tif\n",
      "Exposure current Value: 38.848785400390625\n",
      "Image 7 written to ..\\data\\geometric_calibration\\2_550\\550_7_img.tif\n",
      "Exposure current Value: 38.848785400390625\n",
      "Image 8 written to ..\\data\\geometric_calibration\\2_550\\550_8_img.tif\n",
      "Exposure current Value: 38.848785400390625\n",
      "Image 9 written to ..\\data\\geometric_calibration\\2_550\\550_9_img.tif\n",
      "-----------------------------------\n",
      "-----------------------------------\n",
      "Device 4\n",
      "-----------------------------------\n",
      "Exposure Value set to 35.961360931396484\n",
      "Exposure Auto set to 0\n",
      "Exposure current Value: 35.961360931396484\n",
      "Image 0 written to ..\\data\\geometric_calibration\\4_725\\725_0_img.tif\n",
      "Exposure current Value: 35.961360931396484\n",
      "Image 1 written to ..\\data\\geometric_calibration\\4_725\\725_1_img.tif\n",
      "Exposure current Value: 35.961360931396484\n",
      "Image 2 written to ..\\data\\geometric_calibration\\4_725\\725_2_img.tif\n",
      "Exposure current Value: 35.961360931396484\n",
      "Image 3 written to ..\\data\\geometric_calibration\\4_725\\725_3_img.tif\n",
      "Exposure current Value: 35.961360931396484\n",
      "Image 4 written to ..\\data\\geometric_calibration\\4_725\\725_4_img.tif\n",
      "Exposure current Value: 35.961360931396484\n",
      "Image 5 written to ..\\data\\geometric_calibration\\4_725\\725_5_img.tif\n",
      "Exposure current Value: 35.961360931396484\n",
      "Image 6 written to ..\\data\\geometric_calibration\\4_725\\725_6_img.tif\n",
      "Exposure current Value: 35.961360931396484\n",
      "Image 7 written to ..\\data\\geometric_calibration\\4_725\\725_7_img.tif\n",
      "Exposure current Value: 35.961360931396484\n",
      "Image 8 written to ..\\data\\geometric_calibration\\4_725\\725_8_img.tif\n",
      "Exposure current Value: 35.961360931396484\n",
      "Image 9 written to ..\\data\\geometric_calibration\\4_725\\725_9_img.tif\n",
      "-----------------------------------\n",
      "-----------------------------------\n",
      "Device 5\n",
      "-----------------------------------\n",
      "Exposure Value set to 28.519058227539062\n",
      "Exposure Auto set to 0\n",
      "Exposure current Value: 28.519058227539062\n",
      "Image 0 written to ..\\data\\geometric_calibration\\5_850\\850_0_img.tif\n",
      "Exposure current Value: 28.519058227539062\n",
      "Image 1 written to ..\\data\\geometric_calibration\\5_850\\850_1_img.tif\n",
      "Exposure current Value: 28.519058227539062\n",
      "Image 2 written to ..\\data\\geometric_calibration\\5_850\\850_2_img.tif\n",
      "Exposure current Value: 28.519058227539062\n",
      "Image 3 written to ..\\data\\geometric_calibration\\5_850\\850_3_img.tif\n",
      "Exposure current Value: 28.519058227539062\n",
      "Image 4 written to ..\\data\\geometric_calibration\\5_850\\850_4_img.tif\n",
      "Exposure current Value: 28.519058227539062\n",
      "Image 5 written to ..\\data\\geometric_calibration\\5_850\\850_5_img.tif\n",
      "Exposure current Value: 28.519058227539062\n",
      "Image 6 written to ..\\data\\geometric_calibration\\5_850\\850_6_img.tif\n",
      "Exposure current Value: 28.519058227539062\n",
      "Image 7 written to ..\\data\\geometric_calibration\\5_850\\850_7_img.tif\n",
      "Exposure current Value: 28.519058227539062\n",
      "Image 8 written to ..\\data\\geometric_calibration\\5_850\\850_8_img.tif\n",
      "Exposure current Value: 28.519058227539062\n",
      "Image 9 written to ..\\data\\geometric_calibration\\5_850\\850_9_img.tif\n",
      "-----------------------------------\n",
      "-----------------------------------\n",
      "Device 7\n",
      "-----------------------------------\n",
      "Exposure Value set to 12.557204246520996\n",
      "Exposure Auto set to 0\n",
      "Exposure current Value: 12.557204246520996\n",
      "Image 0 written to ..\\data\\geometric_calibration\\7_950\\950_0_img.tif\n",
      "Exposure current Value: 12.557204246520996\n",
      "Image 1 written to ..\\data\\geometric_calibration\\7_950\\950_1_img.tif\n",
      "Exposure current Value: 12.557204246520996\n",
      "Image 2 written to ..\\data\\geometric_calibration\\7_950\\950_2_img.tif\n",
      "Exposure current Value: 12.557204246520996\n",
      "Image 3 written to ..\\data\\geometric_calibration\\7_950\\950_3_img.tif\n",
      "Exposure current Value: 12.557204246520996\n",
      "Image 4 written to ..\\data\\geometric_calibration\\7_950\\950_4_img.tif\n",
      "Exposure current Value: 12.557204246520996\n",
      "Image 5 written to ..\\data\\geometric_calibration\\7_950\\950_5_img.tif\n",
      "Exposure current Value: 12.557204246520996\n",
      "Image 6 written to ..\\data\\geometric_calibration\\7_950\\950_6_img.tif\n",
      "Exposure current Value: 12.557204246520996\n",
      "Image 7 written to ..\\data\\geometric_calibration\\7_950\\950_7_img.tif\n",
      "Exposure current Value: 12.557204246520996\n",
      "Image 8 written to ..\\data\\geometric_calibration\\7_950\\950_8_img.tif\n",
      "Exposure current Value: 12.557204246520996\n",
      "Image 9 written to ..\\data\\geometric_calibration\\7_950\\950_9_img.tif\n",
      "-----------------------------------\n"
     ]
    }
   ],
   "source": [
    "osc.capture_channel_images(\n",
    "    cameras, \n",
    "    geometric_exposures, \n",
    "    subject='geometric_calibration', \n",
    "    repeats=10,\n",
    "    roi=False, \n",
    "    show_img=False,\n",
    "    save_img=True)"
   ]
  },
  {
   "cell_type": "markdown",
   "metadata": {},
   "source": [
    "Write the exposures to file."
   ]
  },
  {
   "cell_type": "code",
   "execution_count": 25,
   "metadata": {},
   "outputs": [],
   "source": [
    "osc.record_exposures(cameras, geometric_exposures, 'geometric_calibration')"
   ]
  },
  {
   "cell_type": "markdown",
   "metadata": {},
   "source": [
    "# Sample Imaging\n",
    "\n",
    "- Prompt: Lens Cap removal, put sample in place\n",
    "- Cycle over cameras. For each camera:\n",
    "    - get optimal exposure and check ROI\n",
    "    - capture repeat images of the sample\n",
    "    - save the images\n",
    "    - save the exposures used"
   ]
  },
  {
   "attachments": {},
   "cell_type": "markdown",
   "metadata": {},
   "source": [
    "Check:\n",
    "1. The sample is in place\n",
    "2. Lens cap is removed"
   ]
  },
  {
   "cell_type": "code",
   "execution_count": null,
   "metadata": {},
   "outputs": [],
   "source": [
    "osc.prepare_sample_imaging(ic)"
   ]
  },
  {
   "attachments": {},
   "cell_type": "markdown",
   "metadata": {},
   "source": [
    "Find the optimal exposures for sample imaging."
   ]
  },
  {
   "cell_type": "code",
   "execution_count": null,
   "metadata": {},
   "outputs": [],
   "source": [
    "sample_exposures = osc.find_exposures(cameras, roi=True)"
   ]
  },
  {
   "attachments": {},
   "cell_type": "markdown",
   "metadata": {},
   "source": [
    "Check the sample images."
   ]
  },
  {
   "cell_type": "code",
   "execution_count": null,
   "metadata": {},
   "outputs": [],
   "source": [
    "osc.capture_channel_images(\n",
    "    cameras, \n",
    "    sample_exposures, \n",
    "    subejct='Sample Check', \n",
    "    roi=False, \n",
    "    show_img=True)"
   ]
  },
  {
   "cell_type": "markdown",
   "metadata": {},
   "source": [
    "Capture 10 repeat images of the geometric calibration target in each channel."
   ]
  },
  {
   "cell_type": "code",
   "execution_count": null,
   "metadata": {},
   "outputs": [],
   "source": [
    "osc.capture_channel_images(\n",
    "    cameras, \n",
    "    sample_exposures, \n",
    "    subject='sample', \n",
    "    repeats=10,\n",
    "    roi=False, \n",
    "    show_img=False,\n",
    "    save_img=True)"
   ]
  },
  {
   "cell_type": "markdown",
   "metadata": {},
   "source": [
    "Write the exposures to file."
   ]
  },
  {
   "cell_type": "code",
   "execution_count": null,
   "metadata": {},
   "outputs": [],
   "source": [
    "osc.record_exposures(cameras, sample_exposures, 'sample')"
   ]
  },
  {
   "cell_type": "markdown",
   "metadata": {},
   "source": [
    "# Dark Frame Imaging\n",
    "\n",
    "Now we use the recorded exposures to capture dark frames."
   ]
  },
  {
   "cell_type": "markdown",
   "metadata": {},
   "source": [
    "Check:\n",
    "1. Lens cap is in place"
   ]
  },
  {
   "cell_type": "code",
   "execution_count": 26,
   "metadata": {},
   "outputs": [],
   "source": [
    "osc.prepare_dark_acquisition(ic)"
   ]
  },
  {
   "attachments": {},
   "cell_type": "markdown",
   "metadata": {},
   "source": [
    "Capture Reflectance Calibration Dark Frames."
   ]
  },
  {
   "cell_type": "code",
   "execution_count": 27,
   "metadata": {},
   "outputs": [
    {
     "name": "stdout",
     "output_type": "stream",
     "text": [
      "-----------------------------------\n",
      "Device 0\n",
      "-----------------------------------\n",
      "Exposure Value set to 12.91600513458252\n",
      "Exposure Auto set to 0\n",
      "Exposure current Value: 12.91600513458252\n",
      "Image 0 written to ..\\data\\reflectance_calibration\\0_650\\650_0_drk.tif\n",
      "Exposure current Value: 12.91600513458252\n",
      "Image 1 written to ..\\data\\reflectance_calibration\\0_650\\650_1_drk.tif\n",
      "Exposure current Value: 12.91600513458252\n",
      "Image 2 written to ..\\data\\reflectance_calibration\\0_650\\650_2_drk.tif\n",
      "Exposure current Value: 12.91600513458252\n",
      "Image 3 written to ..\\data\\reflectance_calibration\\0_650\\650_3_drk.tif\n",
      "Exposure current Value: 12.91600513458252\n",
      "Image 4 written to ..\\data\\reflectance_calibration\\0_650\\650_4_drk.tif\n",
      "Exposure current Value: 12.91600513458252\n",
      "Image 5 written to ..\\data\\reflectance_calibration\\0_650\\650_5_drk.tif\n",
      "Exposure current Value: 12.91600513458252\n",
      "Image 6 written to ..\\data\\reflectance_calibration\\0_650\\650_6_drk.tif\n",
      "Exposure current Value: 12.91600513458252\n",
      "Image 7 written to ..\\data\\reflectance_calibration\\0_650\\650_7_drk.tif\n",
      "Exposure current Value: 12.91600513458252\n",
      "Image 8 written to ..\\data\\reflectance_calibration\\0_650\\650_8_drk.tif\n",
      "Exposure current Value: 12.91600513458252\n",
      "Image 9 written to ..\\data\\reflectance_calibration\\0_650\\650_9_drk.tif\n",
      "-----------------------------------\n",
      "-----------------------------------\n",
      "Device 1\n",
      "-----------------------------------\n",
      "Exposure Value set to 17.73933982849121\n",
      "Exposure Auto set to 0\n",
      "Exposure current Value: 17.73933982849121\n",
      "Image 0 written to ..\\data\\reflectance_calibration\\1_475\\475_0_drk.tif\n",
      "Exposure current Value: 17.73933982849121\n",
      "Image 1 written to ..\\data\\reflectance_calibration\\1_475\\475_1_drk.tif\n",
      "Exposure current Value: 17.73933982849121\n",
      "Image 2 written to ..\\data\\reflectance_calibration\\1_475\\475_2_drk.tif\n",
      "Exposure current Value: 17.73933982849121\n",
      "Image 3 written to ..\\data\\reflectance_calibration\\1_475\\475_3_drk.tif\n",
      "Exposure current Value: 17.73933982849121\n",
      "Image 4 written to ..\\data\\reflectance_calibration\\1_475\\475_4_drk.tif\n",
      "Exposure current Value: 17.73933982849121\n",
      "Image 5 written to ..\\data\\reflectance_calibration\\1_475\\475_5_drk.tif\n",
      "Exposure current Value: 17.73933982849121\n",
      "Image 6 written to ..\\data\\reflectance_calibration\\1_475\\475_6_drk.tif\n",
      "Exposure current Value: 17.73933982849121\n",
      "Image 7 written to ..\\data\\reflectance_calibration\\1_475\\475_7_drk.tif\n",
      "Exposure current Value: 17.73933982849121\n",
      "Image 8 written to ..\\data\\reflectance_calibration\\1_475\\475_8_drk.tif\n",
      "Exposure current Value: 17.73933982849121\n",
      "Image 9 written to ..\\data\\reflectance_calibration\\1_475\\475_9_drk.tif\n",
      "-----------------------------------\n",
      "-----------------------------------\n",
      "Device 2\n",
      "-----------------------------------\n",
      "Exposure Value set to 13.675621032714844\n",
      "Exposure Auto set to 0\n",
      "Exposure current Value: 13.675621032714844\n",
      "Image 0 written to ..\\data\\reflectance_calibration\\2_550\\550_0_drk.tif\n",
      "Exposure current Value: 13.675621032714844\n",
      "Image 1 written to ..\\data\\reflectance_calibration\\2_550\\550_1_drk.tif\n",
      "Exposure current Value: 13.675621032714844\n",
      "Image 2 written to ..\\data\\reflectance_calibration\\2_550\\550_2_drk.tif\n",
      "Exposure current Value: 13.675621032714844\n",
      "Image 3 written to ..\\data\\reflectance_calibration\\2_550\\550_3_drk.tif\n",
      "Exposure current Value: 13.675621032714844\n",
      "Image 4 written to ..\\data\\reflectance_calibration\\2_550\\550_4_drk.tif\n",
      "Exposure current Value: 13.675621032714844\n",
      "Image 5 written to ..\\data\\reflectance_calibration\\2_550\\550_5_drk.tif\n",
      "Exposure current Value: 13.675621032714844\n",
      "Image 6 written to ..\\data\\reflectance_calibration\\2_550\\550_6_drk.tif\n",
      "Exposure current Value: 13.675621032714844\n",
      "Image 7 written to ..\\data\\reflectance_calibration\\2_550\\550_7_drk.tif\n",
      "Exposure current Value: 13.675621032714844\n",
      "Image 8 written to ..\\data\\reflectance_calibration\\2_550\\550_8_drk.tif\n",
      "Exposure current Value: 13.675621032714844\n",
      "Image 9 written to ..\\data\\reflectance_calibration\\2_550\\550_9_drk.tif\n",
      "-----------------------------------\n",
      "-----------------------------------\n",
      "Device 4\n",
      "-----------------------------------\n",
      "Exposure Value set to 14.456477165222168\n",
      "Exposure Auto set to 0\n",
      "Exposure current Value: 14.456477165222168\n",
      "Image 0 written to ..\\data\\reflectance_calibration\\4_725\\725_0_drk.tif\n",
      "Exposure current Value: 14.456477165222168\n",
      "Image 1 written to ..\\data\\reflectance_calibration\\4_725\\725_1_drk.tif\n",
      "Exposure current Value: 14.456477165222168\n",
      "Image 2 written to ..\\data\\reflectance_calibration\\4_725\\725_2_drk.tif\n",
      "Exposure current Value: 14.456477165222168\n",
      "Image 3 written to ..\\data\\reflectance_calibration\\4_725\\725_3_drk.tif\n",
      "Exposure current Value: 14.456477165222168\n",
      "Image 4 written to ..\\data\\reflectance_calibration\\4_725\\725_4_drk.tif\n",
      "Exposure current Value: 14.456477165222168\n",
      "Image 5 written to ..\\data\\reflectance_calibration\\4_725\\725_5_drk.tif\n",
      "Exposure current Value: 14.456477165222168\n",
      "Image 6 written to ..\\data\\reflectance_calibration\\4_725\\725_6_drk.tif\n",
      "Exposure current Value: 14.456477165222168\n",
      "Image 7 written to ..\\data\\reflectance_calibration\\4_725\\725_7_drk.tif\n",
      "Exposure current Value: 14.456477165222168\n",
      "Image 8 written to ..\\data\\reflectance_calibration\\4_725\\725_8_drk.tif\n",
      "Exposure current Value: 14.456477165222168\n",
      "Image 9 written to ..\\data\\reflectance_calibration\\4_725\\725_9_drk.tif\n",
      "-----------------------------------\n",
      "-----------------------------------\n",
      "Device 5\n",
      "-----------------------------------\n",
      "Exposure Value set to 44.39022445678711\n",
      "Exposure Auto set to 0\n",
      "Exposure current Value: 44.39022445678711\n",
      "Image 0 written to ..\\data\\reflectance_calibration\\5_850\\850_0_drk.tif\n",
      "Exposure current Value: 44.39022445678711\n",
      "Image 1 written to ..\\data\\reflectance_calibration\\5_850\\850_1_drk.tif\n",
      "Exposure current Value: 44.39022445678711\n",
      "Image 2 written to ..\\data\\reflectance_calibration\\5_850\\850_2_drk.tif\n",
      "Exposure current Value: 44.39022445678711\n",
      "Image 3 written to ..\\data\\reflectance_calibration\\5_850\\850_3_drk.tif\n",
      "Exposure current Value: 44.39022445678711\n",
      "Image 4 written to ..\\data\\reflectance_calibration\\5_850\\850_4_drk.tif\n",
      "Exposure current Value: 44.39022445678711\n",
      "Image 5 written to ..\\data\\reflectance_calibration\\5_850\\850_5_drk.tif\n",
      "Exposure current Value: 44.39022445678711\n",
      "Image 6 written to ..\\data\\reflectance_calibration\\5_850\\850_6_drk.tif\n",
      "Exposure current Value: 44.39022445678711\n",
      "Image 7 written to ..\\data\\reflectance_calibration\\5_850\\850_7_drk.tif\n",
      "Exposure current Value: 44.39022445678711\n",
      "Image 8 written to ..\\data\\reflectance_calibration\\5_850\\850_8_drk.tif\n",
      "Exposure current Value: 44.39022445678711\n",
      "Image 9 written to ..\\data\\reflectance_calibration\\5_850\\850_9_drk.tif\n",
      "-----------------------------------\n",
      "-----------------------------------\n",
      "Device 7\n",
      "-----------------------------------\n",
      "Exposure Value set to 18.2772274017334\n",
      "Exposure Auto set to 0\n",
      "Exposure current Value: 18.2772274017334\n",
      "Image 0 written to ..\\data\\reflectance_calibration\\7_950\\950_0_drk.tif\n",
      "Exposure current Value: 18.2772274017334\n",
      "Image 1 written to ..\\data\\reflectance_calibration\\7_950\\950_1_drk.tif\n",
      "Exposure current Value: 18.2772274017334\n",
      "Image 2 written to ..\\data\\reflectance_calibration\\7_950\\950_2_drk.tif\n",
      "Exposure current Value: 18.2772274017334\n",
      "Image 3 written to ..\\data\\reflectance_calibration\\7_950\\950_3_drk.tif\n",
      "Exposure current Value: 18.2772274017334\n",
      "Image 4 written to ..\\data\\reflectance_calibration\\7_950\\950_4_drk.tif\n",
      "Exposure current Value: 18.2772274017334\n",
      "Image 5 written to ..\\data\\reflectance_calibration\\7_950\\950_5_drk.tif\n",
      "Exposure current Value: 18.2772274017334\n",
      "Image 6 written to ..\\data\\reflectance_calibration\\7_950\\950_6_drk.tif\n",
      "Exposure current Value: 18.2772274017334\n",
      "Image 7 written to ..\\data\\reflectance_calibration\\7_950\\950_7_drk.tif\n",
      "Exposure current Value: 18.2772274017334\n",
      "Image 8 written to ..\\data\\reflectance_calibration\\7_950\\950_8_drk.tif\n",
      "Exposure current Value: 18.2772274017334\n",
      "Image 9 written to ..\\data\\reflectance_calibration\\7_950\\950_9_drk.tif\n",
      "-----------------------------------\n"
     ]
    }
   ],
   "source": [
    "osc.capture_channel_images(\n",
    "    cameras, \n",
    "    calibration_exposures, \n",
    "    subject='reflectance_calibration', \n",
    "    img_type='drk',\n",
    "    repeats=10,\n",
    "    roi=False, \n",
    "    show_img=False,\n",
    "    save_img=True)"
   ]
  },
  {
   "attachments": {},
   "cell_type": "markdown",
   "metadata": {},
   "source": [
    "Capture Geometric Calibration Dark Frames."
   ]
  },
  {
   "cell_type": "code",
   "execution_count": 28,
   "metadata": {},
   "outputs": [
    {
     "name": "stdout",
     "output_type": "stream",
     "text": [
      "-----------------------------------\n",
      "Device 0\n",
      "-----------------------------------\n",
      "Exposure Value set to 46.89051818847656\n",
      "Exposure Auto set to 0\n",
      "Exposure current Value: 46.89051818847656\n",
      "Image 0 written to ..\\data\\geometric_calibration\\0_650\\650_0_drk.tif\n",
      "Exposure current Value: 46.89051818847656\n",
      "Image 1 written to ..\\data\\geometric_calibration\\0_650\\650_1_drk.tif\n",
      "Exposure current Value: 46.89051818847656\n",
      "Image 2 written to ..\\data\\geometric_calibration\\0_650\\650_2_drk.tif\n",
      "Exposure current Value: 46.89051818847656\n",
      "Image 3 written to ..\\data\\geometric_calibration\\0_650\\650_3_drk.tif\n",
      "Exposure current Value: 46.89051818847656\n",
      "Image 4 written to ..\\data\\geometric_calibration\\0_650\\650_4_drk.tif\n",
      "Exposure current Value: 46.89051818847656\n",
      "Image 5 written to ..\\data\\geometric_calibration\\0_650\\650_5_drk.tif\n",
      "Exposure current Value: 46.89051818847656\n",
      "Image 6 written to ..\\data\\geometric_calibration\\0_650\\650_6_drk.tif\n",
      "Exposure current Value: 46.89051818847656\n",
      "Image 7 written to ..\\data\\geometric_calibration\\0_650\\650_7_drk.tif\n",
      "Exposure current Value: 46.89051818847656\n",
      "Image 8 written to ..\\data\\geometric_calibration\\0_650\\650_8_drk.tif\n",
      "Exposure current Value: 46.89051818847656\n",
      "Image 9 written to ..\\data\\geometric_calibration\\0_650\\650_9_drk.tif\n",
      "-----------------------------------\n",
      "-----------------------------------\n",
      "Device 1\n",
      "-----------------------------------\n",
      "Exposure Value set to 37.986846923828125\n",
      "Exposure Auto set to 0\n",
      "Exposure current Value: 37.986846923828125\n",
      "Image 0 written to ..\\data\\geometric_calibration\\1_475\\475_0_drk.tif\n",
      "Exposure current Value: 37.986846923828125\n",
      "Image 1 written to ..\\data\\geometric_calibration\\1_475\\475_1_drk.tif\n",
      "Exposure current Value: 37.986846923828125\n",
      "Image 2 written to ..\\data\\geometric_calibration\\1_475\\475_2_drk.tif\n",
      "Exposure current Value: 37.986846923828125\n",
      "Image 3 written to ..\\data\\geometric_calibration\\1_475\\475_3_drk.tif\n",
      "Exposure current Value: 37.986846923828125\n",
      "Image 4 written to ..\\data\\geometric_calibration\\1_475\\475_4_drk.tif\n",
      "Exposure current Value: 37.986846923828125\n",
      "Image 5 written to ..\\data\\geometric_calibration\\1_475\\475_5_drk.tif\n",
      "Exposure current Value: 37.986846923828125\n",
      "Image 6 written to ..\\data\\geometric_calibration\\1_475\\475_6_drk.tif\n",
      "Exposure current Value: 37.986846923828125\n",
      "Image 7 written to ..\\data\\geometric_calibration\\1_475\\475_7_drk.tif\n",
      "Exposure current Value: 37.986846923828125\n",
      "Image 8 written to ..\\data\\geometric_calibration\\1_475\\475_8_drk.tif\n",
      "Exposure current Value: 37.986846923828125\n",
      "Image 9 written to ..\\data\\geometric_calibration\\1_475\\475_9_drk.tif\n",
      "-----------------------------------\n",
      "-----------------------------------\n",
      "Device 2\n",
      "-----------------------------------\n",
      "Exposure Value set to 38.848785400390625\n",
      "Exposure Auto set to 0\n",
      "Exposure current Value: 38.848785400390625\n",
      "Image 0 written to ..\\data\\geometric_calibration\\2_550\\550_0_drk.tif\n",
      "Exposure current Value: 38.848785400390625\n",
      "Image 1 written to ..\\data\\geometric_calibration\\2_550\\550_1_drk.tif\n",
      "Exposure current Value: 38.848785400390625\n",
      "Image 2 written to ..\\data\\geometric_calibration\\2_550\\550_2_drk.tif\n",
      "Exposure current Value: 38.848785400390625\n",
      "Image 3 written to ..\\data\\geometric_calibration\\2_550\\550_3_drk.tif\n",
      "Exposure current Value: 38.848785400390625\n",
      "Image 4 written to ..\\data\\geometric_calibration\\2_550\\550_4_drk.tif\n",
      "Exposure current Value: 38.848785400390625\n",
      "Image 5 written to ..\\data\\geometric_calibration\\2_550\\550_5_drk.tif\n",
      "Exposure current Value: 38.848785400390625\n",
      "Image 6 written to ..\\data\\geometric_calibration\\2_550\\550_6_drk.tif\n",
      "Exposure current Value: 38.848785400390625\n",
      "Image 7 written to ..\\data\\geometric_calibration\\2_550\\550_7_drk.tif\n",
      "Exposure current Value: 38.848785400390625\n",
      "Image 8 written to ..\\data\\geometric_calibration\\2_550\\550_8_drk.tif\n",
      "Exposure current Value: 38.848785400390625\n",
      "Image 9 written to ..\\data\\geometric_calibration\\2_550\\550_9_drk.tif\n",
      "-----------------------------------\n",
      "-----------------------------------\n",
      "Device 4\n",
      "-----------------------------------\n",
      "Exposure Value set to 35.961360931396484\n",
      "Exposure Auto set to 0\n",
      "Exposure current Value: 35.961360931396484\n",
      "Image 0 written to ..\\data\\geometric_calibration\\4_725\\725_0_drk.tif\n",
      "Exposure current Value: 35.961360931396484\n",
      "Image 1 written to ..\\data\\geometric_calibration\\4_725\\725_1_drk.tif\n",
      "Exposure current Value: 35.961360931396484\n",
      "Image 2 written to ..\\data\\geometric_calibration\\4_725\\725_2_drk.tif\n",
      "Exposure current Value: 35.961360931396484\n",
      "Image 3 written to ..\\data\\geometric_calibration\\4_725\\725_3_drk.tif\n",
      "Exposure current Value: 35.961360931396484\n",
      "Image 4 written to ..\\data\\geometric_calibration\\4_725\\725_4_drk.tif\n",
      "Exposure current Value: 35.961360931396484\n",
      "Image 5 written to ..\\data\\geometric_calibration\\4_725\\725_5_drk.tif\n",
      "Exposure current Value: 35.961360931396484\n",
      "Image 6 written to ..\\data\\geometric_calibration\\4_725\\725_6_drk.tif\n",
      "Exposure current Value: 35.961360931396484\n",
      "Image 7 written to ..\\data\\geometric_calibration\\4_725\\725_7_drk.tif\n",
      "Exposure current Value: 35.961360931396484\n",
      "Image 8 written to ..\\data\\geometric_calibration\\4_725\\725_8_drk.tif\n",
      "Exposure current Value: 35.961360931396484\n",
      "Image 9 written to ..\\data\\geometric_calibration\\4_725\\725_9_drk.tif\n",
      "-----------------------------------\n",
      "-----------------------------------\n",
      "Device 5\n",
      "-----------------------------------\n",
      "Exposure Value set to 28.519058227539062\n",
      "Exposure Auto set to 0\n",
      "Exposure current Value: 28.519058227539062\n",
      "Image 0 written to ..\\data\\geometric_calibration\\5_850\\850_0_drk.tif\n",
      "Exposure current Value: 28.519058227539062\n",
      "Image 1 written to ..\\data\\geometric_calibration\\5_850\\850_1_drk.tif\n",
      "Exposure current Value: 28.519058227539062\n",
      "Image 2 written to ..\\data\\geometric_calibration\\5_850\\850_2_drk.tif\n",
      "Exposure current Value: 28.519058227539062\n",
      "Image 3 written to ..\\data\\geometric_calibration\\5_850\\850_3_drk.tif\n",
      "Exposure current Value: 28.519058227539062\n",
      "Image 4 written to ..\\data\\geometric_calibration\\5_850\\850_4_drk.tif\n",
      "Exposure current Value: 28.519058227539062\n",
      "Image 5 written to ..\\data\\geometric_calibration\\5_850\\850_5_drk.tif\n",
      "Exposure current Value: 28.519058227539062\n",
      "Image 6 written to ..\\data\\geometric_calibration\\5_850\\850_6_drk.tif\n",
      "Exposure current Value: 28.519058227539062\n",
      "Image 7 written to ..\\data\\geometric_calibration\\5_850\\850_7_drk.tif\n",
      "Exposure current Value: 28.519058227539062\n",
      "Image 8 written to ..\\data\\geometric_calibration\\5_850\\850_8_drk.tif\n",
      "Exposure current Value: 28.519058227539062\n",
      "Image 9 written to ..\\data\\geometric_calibration\\5_850\\850_9_drk.tif\n",
      "-----------------------------------\n",
      "-----------------------------------\n",
      "Device 7\n",
      "-----------------------------------\n",
      "Exposure Value set to 12.557204246520996\n",
      "Exposure Auto set to 0\n",
      "Exposure current Value: 12.557204246520996\n",
      "Image 0 written to ..\\data\\geometric_calibration\\7_950\\950_0_drk.tif\n",
      "Exposure current Value: 12.557204246520996\n",
      "Image 1 written to ..\\data\\geometric_calibration\\7_950\\950_1_drk.tif\n",
      "Exposure current Value: 12.557204246520996\n",
      "Image 2 written to ..\\data\\geometric_calibration\\7_950\\950_2_drk.tif\n",
      "Exposure current Value: 12.557204246520996\n",
      "Image 3 written to ..\\data\\geometric_calibration\\7_950\\950_3_drk.tif\n",
      "Exposure current Value: 12.557204246520996\n",
      "Image 4 written to ..\\data\\geometric_calibration\\7_950\\950_4_drk.tif\n",
      "Exposure current Value: 12.557204246520996\n",
      "Image 5 written to ..\\data\\geometric_calibration\\7_950\\950_5_drk.tif\n",
      "Exposure current Value: 12.557204246520996\n",
      "Image 6 written to ..\\data\\geometric_calibration\\7_950\\950_6_drk.tif\n",
      "Exposure current Value: 12.557204246520996\n",
      "Image 7 written to ..\\data\\geometric_calibration\\7_950\\950_7_drk.tif\n",
      "Exposure current Value: 12.557204246520996\n",
      "Image 8 written to ..\\data\\geometric_calibration\\7_950\\950_8_drk.tif\n",
      "Exposure current Value: 12.557204246520996\n",
      "Image 9 written to ..\\data\\geometric_calibration\\7_950\\950_9_drk.tif\n",
      "-----------------------------------\n"
     ]
    }
   ],
   "source": [
    "osc.capture_channel_images(\n",
    "    cameras, \n",
    "    geometric_exposures, \n",
    "    subject='geometric_calibration', \n",
    "    img_type='drk',\n",
    "    repeats=10,\n",
    "    roi=False, \n",
    "    show_img=False,\n",
    "    save_img=True)"
   ]
  },
  {
   "attachments": {},
   "cell_type": "markdown",
   "metadata": {},
   "source": [
    "Capture Sample Dark Frames."
   ]
  },
  {
   "cell_type": "code",
   "execution_count": null,
   "metadata": {},
   "outputs": [],
   "source": [
    "osc.capture_channel_images(\n",
    "    cameras, \n",
    "    sample_exposures, \n",
    "    subject='sample', \n",
    "    img_type='drk',\n",
    "    repeats=10,\n",
    "    roi=False, \n",
    "    show_img=False,\n",
    "    save_img=True)"
   ]
  },
  {
   "attachments": {},
   "cell_type": "markdown",
   "metadata": {},
   "source": [
    "# Functions\n",
    "\n",
    "Here we iniatilise the functions, used in the previous notebooks, for the camera control."
   ]
  },
  {
   "cell_type": "code",
   "execution_count": null,
   "metadata": {},
   "outputs": [],
   "source": [
    "import tisgrabber as tis\n",
    "from pathlib import Path\n",
    "import ctypes\n",
    "import numpy as np\n",
    "import tifffile as tiff\n",
    "import matplotlib.pyplot as plt\n",
    "import pandas as pd\n",
    "\n",
    "# get the location of the tisgrabber_x64.dll file\n",
    "tis_dir = Path(tis.__file__).resolve().parents[0]\n",
    "tis_dll = str(Path(tis_dir, 'tisgrabber_x64.dll'))\n",
    "\n",
    "# Load/Initiate the tisgrabber library\n",
    "ic = ctypes.cdll.LoadLibrary(tis_dll)\n",
    "tis.declareFunctions(ic)\n",
    "ic.IC_InitLibrary(0)"
   ]
  },
  {
   "cell_type": "markdown",
   "metadata": {},
   "source": [
    "Define a function for setting the camera properties."
   ]
  },
  {
   "cell_type": "code",
   "execution_count": null,
   "metadata": {},
   "outputs": [],
   "source": [
    "def set_property(property: str, element: str, value, interface: str, hGrabber):\n",
    "    \n",
    "    if interface == 'Range':\n",
    "        set_property_func = ic.IC_SetPropertyValue\n",
    "        value = ctypes.c_int(value)\n",
    "    elif interface == 'AbsoluteValue':\n",
    "        set_property_func = ic.IC_SetPropertyAbsoluteValue\n",
    "        value = ctypes.c_float(value)\n",
    "    elif interface == 'AbsoluteValueRange':\n",
    "        set_property_func = ic.IC_SetPropertyAbsoluteValueRange\n",
    "        value = ctypes.c_float(value)\n",
    "    elif interface == 'Switch':\n",
    "        set_property_func = ic.IC_SetPropertySwitch\n",
    "        value = ctypes.c_int(value)\n",
    "    elif interface == 'MapStrings':\n",
    "        set_property_func = ic.IC_SetPropertyMapStrings\n",
    "        value = ctypes.c_char(value)\n",
    "    elif interface == 'Button':\n",
    "        set_property_func = ic.IC_SetPropertyOnePush\n",
    "        value = ctypes.c_int(value)\n",
    "\n",
    "    ret = set_property_func(\n",
    "            hGrabber, \n",
    "            property.encode(\"utf-8\"),\n",
    "            element.encode(\"utf-8\"), \n",
    "            value)\n",
    "    if ret == 1:\n",
    "        print(f'{property} {element} set to {value.value}')\n",
    "    elif ret == -2:\n",
    "        raise ValueError('No video capture device opened')\n",
    "    elif ret == -4:\n",
    "        raise ValueError(f'{property} is not available')\n",
    "    elif ret == -5:\n",
    "        raise ValueError(f'{property} item {element} is not available')\n",
    "    elif ret == -6:\n",
    "        raise ValueError(f'{property} {element} has no interface')"
   ]
  },
  {
   "cell_type": "markdown",
   "metadata": {},
   "source": [
    "Define a function to set all camera properties:"
   ]
  },
  {
   "cell_type": "code",
   "execution_count": null,
   "metadata": {},
   "outputs": [],
   "source": [
    "def set_defaults(grabber, exposure=1.0/100, auto_exposure=1, black_level=26):\n",
    "    black_level = black_level*2**4\n",
    "    set_property('Brightness', 'Value', black_level, 'Range', grabber) # brightness is Black Level in DN for the 12-bit range of the detector. Default is to 10% of detector range, for linearity\n",
    "    set_property('Contrast', 'Value', 0, 'Range', grabber)\n",
    "    set_property('Sharpness', 'Value', 0, 'Range', grabber)    \n",
    "    set_property('Gamma', 'Value', 100, 'Range', grabber)\n",
    "    set_property('Gain', 'Value', 0.0, 'AbsoluteValue', grabber)\n",
    "    set_property('Gain', 'Auto', 0, 'Switch', grabber)\n",
    "    set_property('Exposure', 'Value', exposure, 'AbsoluteValue', grabber)\n",
    "    set_property('Exposure', 'Auto', auto_exposure, 'Switch', grabber)\n",
    "    set_property('Exposure', 'Auto Reference', 80, 'Range', grabber)\n",
    "    set_property('Exposure', 'Auto Max Value', 2.0, 'AbsoluteValue', grabber)\n",
    "    set_property('Exposure', 'Auto Max Auto', 0, 'Switch', grabber)\n",
    "    set_property('Trigger', 'Enable', 0, 'Switch', grabber)\n",
    "    set_property('Denoise', 'Value', 0, 'Range', grabber)\n",
    "    set_property('Flip Horizontal', 'Enable', 0, 'Switch', grabber)\n",
    "    set_property('Flip Vertical', 'Enable', 0, 'Switch', grabber)\n",
    "    set_property('Highlight Reduction', 'Enable', 0, 'Switch', grabber)\n",
    "    set_property('Tone Mapping', 'Enable', 0, 'Switch', grabber)\n",
    "    set_property('Strobe', 'Enable', 0, 'Switch', grabber)\n",
    "    set_property('Auto Functions ROI', 'Enabled', 0, 'Switch', grabber)"
   ]
  },
  {
   "cell_type": "markdown",
   "metadata": {},
   "source": [
    "Define a function for getting image settings:"
   ]
  },
  {
   "cell_type": "code",
   "execution_count": null,
   "metadata": {},
   "outputs": [],
   "source": [
    "def get_image_info(grabber):\n",
    "    width = ctypes.c_long()\n",
    "    height = ctypes.c_long()\n",
    "    bits = ctypes.c_long()\n",
    "    col_fmt = ctypes.c_int()\n",
    "\n",
    "    ic.IC_GetImageDescription(grabber, width, height,\n",
    "                            bits, col_fmt)\n",
    "\n",
    "\n",
    "    bpp = int(bits.value / 8.0)\n",
    "    buffer_size = width.value * height.value * bits.value\n",
    "\n",
    "    return width.value, height.value, buffer_size, bpp"
   ]
  },
  {
   "cell_type": "markdown",
   "metadata": {},
   "source": [
    "Define a function for capturing an image and returning it as an numpy array:"
   ]
  },
  {
   "cell_type": "code",
   "execution_count": null,
   "metadata": {},
   "outputs": [],
   "source": [
    "def image_capture(grabber, camera=None, roi=False):\n",
    "\n",
    "    ic.IC_StartLive(grabber,1)\n",
    "    ic.IC_SnapImage(grabber, 2000) == tis.IC_SUCCESS\n",
    "    ic.IC_StopLive(grabber,1)\n",
    "\n",
    "    width, height, buffer_size, bpp = get_image_info(grabber)\n",
    "\n",
    "    # Get the image data\n",
    "    imagePtr = ic.IC_GetImagePtr(grabber)\n",
    "\n",
    "    imagedata = ctypes.cast(imagePtr,\n",
    "                            ctypes.POINTER(ctypes.c_ubyte *\n",
    "                                        buffer_size))\n",
    "\n",
    "    # Create the numpy array\n",
    "    image = np.ndarray(buffer=imagedata.contents,\n",
    "                    dtype=np.uint8,\n",
    "                    shape=(height,\n",
    "                            width,\n",
    "                            bpp))\n",
    "\n",
    "    if roi:\n",
    "        x = camera['roix']\n",
    "        y = camera['roiy']\n",
    "        w = camera['roiw']\n",
    "        h = camera['roih']\n",
    "        image = image[x:x+w,y:y+h,0]\n",
    "    else:\n",
    "        image = image[:,:,0]\n",
    "    return image"
   ]
  },
  {
   "cell_type": "markdown",
   "metadata": {},
   "source": [
    "Define a function to look at the image:"
   ]
  },
  {
   "cell_type": "code",
   "execution_count": null,
   "metadata": {},
   "outputs": [],
   "source": [
    "def show_image(img_arr, title):\n",
    "    plt.imshow(img_arr, origin='lower')\n",
    "    plt.title(title)\n",
    "    plt.colorbar()"
   ]
  },
  {
   "cell_type": "markdown",
   "metadata": {},
   "source": [
    "Define and call a function for getting the last used exposure:"
   ]
  },
  {
   "cell_type": "code",
   "execution_count": null,
   "metadata": {},
   "outputs": [],
   "source": [
    "def get_property(property: str, element: str, interface: str, hGrabber):\n",
    "\n",
    "    container = ctypes.c_float()\n",
    "    ret = ic.IC_GetPropertyAbsoluteValue(\n",
    "            hGrabber, \n",
    "            tis.T(property), \n",
    "            tis.T(\"Value\"), container)\n",
    "    if ret == 1:\n",
    "        # print(f'{property} current {element}: {container.value}')\n",
    "        return container.value\n",
    "    elif ret == -2:\n",
    "        raise ValueError('No video capture device opened')\n",
    "    elif ret == -4:\n",
    "        raise ValueError('Property item is not available')\n",
    "    elif ret == -5:\n",
    "        raise ValueError('Property item element is not available')\n",
    "    elif ret == -6:\n",
    "        raise ValueError('Requested element has no interface')\n",
    "    return container.value"
   ]
  },
  {
   "cell_type": "markdown",
   "metadata": {},
   "source": [
    "Implement exposure seeking function:"
   ]
  },
  {
   "cell_type": "code",
   "execution_count": null,
   "metadata": {},
   "outputs": [],
   "source": [
    "def find_exposure(grabber, camera, init_t_exp=1.0/100, target=150, n_hot=10, tol=1, limit=5, roi=True):\n",
    "    # initialise while loop\n",
    "    searching = True\n",
    "    trial_n = 0\n",
    "\n",
    "    # ensure exposure setting is manual\n",
    "    print('Initiating search:')\n",
    "    set_property('Exposure', 'Value', init_t_exp, 'AbsoluteValue', grabber)\n",
    "    set_property('Exposure', 'Auto', 0, 'Switch', grabber)\n",
    "\n",
    "    while searching == True:\n",
    "        print(f'Trial {trial_n}:')\n",
    "        img_arr = image_capture(grabber, camera, roi) # capture the image\n",
    "        k = 1 - n_hot/img_arr.size\n",
    "        k_quantile = np.round(np.quantile(img_arr, k)) # evaluate the quantile\n",
    "        success = target - k_quantile <= tol # check against target\n",
    "        \n",
    "        if success == True:\n",
    "            print(f'Success after {trial_n} trials')\n",
    "            t_exp = get_property('Exposure', 'Value', 'AbsoluteValue', grabber)\n",
    "            searching = False # update searcing or continue\n",
    "            return t_exp\n",
    "\n",
    "        t_exp_scale = target / k_quantile # get the scaling factor\n",
    "        last_t_exp = get_property('Exposure', 'Value', 'AbsoluteValue', grabber) # get the current exposure\n",
    "        new_t_exp = t_exp_scale * last_t_exp# scale the exposure\n",
    "        set_property('Exposure', 'Value', new_t_exp, 'AbsoluteValue', grabber) # update the camera settings\n",
    "        trial_n+=1 # increment the counter\n",
    "        failure = trial_n > limit\n",
    "\n",
    "        if failure == True:\n",
    "            print(f'Failure to satisfy tolerance. Exiting routine.')\n",
    "            t_exp = get_property('Exposure', 'Value', 'AbsoluteValue', grabber)\n",
    "            searching = False\n",
    "            return t_exp\n",
    "    \n",
    "    return None"
   ]
  },
  {
   "cell_type": "markdown",
   "metadata": {},
   "source": [
    "Save an image:"
   ]
  },
  {
   "cell_type": "code",
   "execution_count": null,
   "metadata": {},
   "outputs": [],
   "source": [
    "def save_tiff(name, target, img_type, img_arr, grabber, camera):\n",
    "\n",
    "    exposure = get_property('Exposure', 'Value', 'AbsoluteValue', grabber)\n",
    "    metadata={\n",
    "        'camera': camera['number'],\n",
    "        'serial': camera['serial'],\n",
    "        'cwl': camera['cwl'],\n",
    "        'fwhm': camera['fwhm'],\n",
    "        'f-number': camera['fnumber'],\n",
    "        'f-length': camera['flength'],\n",
    "        'exposure': exposure,\n",
    "        'image-type': img_type, # image or dark frame or averaged stack\n",
    "        'target': target\n",
    "    }\n",
    "    cwl_str = str(int(camera['cwl']))\n",
    "    channel = str(camera['number'])+'_'+cwl_str\n",
    "    target_dir = Path(target, channel)\n",
    "    target_dir.mkdir(parents=True, exist_ok=True)\n",
    "    filename = cwl_str+'_'+name+'_'+img_type\n",
    "    img_file =str(Path(target_dir, filename).with_suffix('.tif'))\n",
    "    # write camera properties to TIF using ImageJ metadata\n",
    "    tiff.imwrite(img_file, img_arr, imagej=True, metadata=metadata)\n",
    "    print(f'Image {name} written to {img_file}')"
   ]
  },
  {
   "attachments": {},
   "cell_type": "markdown",
   "metadata": {},
   "source": [
    "Configure device lost callback code:"
   ]
  },
  {
   "cell_type": "code",
   "execution_count": null,
   "metadata": {},
   "outputs": [],
   "source": [
    "class CallbackUserdata(ctypes.Structure):\n",
    "    \"\"\" Example for user data passed to the callback function. \n",
    "    \"\"\"\n",
    "    def __init__(self, ):\n",
    "        self.unsused = \"\"\n",
    "        self.devicename = \"\"\n",
    "        self.connected = False\n",
    "\n",
    "\n",
    "def frameReadyCallback(hGrabber, pBuffer, framenumber, pData):\n",
    "    # Maybe do something here.\n",
    "    return\n",
    "\n",
    "\n",
    "def deviceLostCallback(hGrabber, userdata):\n",
    "    \"\"\" This a device lost callback function. Called, if the camera disconnects. \n",
    "    This function runs in the Grabber thread, not in the main thread.\n",
    "    :param: hGrabber: This is the real pointer to the grabber object. Do not use.\n",
    "    :param: pData : Pointer to additional user data structure\n",
    "    \"\"\"\n",
    "    userdata.connected = False\n",
    "    print(\"Device {} lost\".format(userdata.devicename))\n",
    "\n",
    "frameReadyCallbackfunc = ic.FRAMEREADYCALLBACK(frameReadyCallback)\n",
    "userdata = CallbackUserdata()\n",
    "devicelostcallbackfunc = ic.DEVICELOSTCALLBACK(deviceLostCallback)"
   ]
  },
  {
   "attachments": {},
   "cell_type": "markdown",
   "metadata": {},
   "source": [
    "# Looping Over Multiple Channels\n",
    "\n",
    "We loop over multiple cameras by defining a list of cameras, and defining  dictionary, indexed by this list, giving the camera descriptions required to load and control each camera.\n",
    "\n",
    "We load these from the camera_config.csv file, generated with the camera_congif.ipynb procedure."
   ]
  },
  {
   "cell_type": "code",
   "execution_count": null,
   "metadata": {},
   "outputs": [],
   "source": [
    "cameras = pd.read_csv('camera_config.csv', index_col=0)"
   ]
  },
  {
   "cell_type": "code",
   "execution_count": null,
   "metadata": {},
   "outputs": [],
   "source": [
    "cameras = cameras.T.astype({\n",
    "    'number': 'int', \n",
    "    'serial': str, \n",
    "    'fnumber': float, \n",
    "    'flength': float, \n",
    "    'cwl': float, \n",
    "    'fwhm': float, \n",
    "    'width': int, \n",
    "    'height': int, \n",
    "    'roix': int, \n",
    "    'roiy': int, \n",
    "    'roiw': int, \n",
    "    'roih': int}).T"
   ]
  },
  {
   "attachments": {},
   "cell_type": "markdown",
   "metadata": {},
   "source": [
    "Get a list of the cameras available, notify of missing cameras, and connect to the available cameras."
   ]
  },
  {
   "cell_type": "code",
   "execution_count": null,
   "metadata": {},
   "outputs": [],
   "source": [
    "def connect_cameras(cameras):\n",
    "    connected_cameras = []\n",
    "    devicecount = ic.IC_GetDeviceCount()\n",
    "\n",
    "    for i in range(0, devicecount):\n",
    "        uniquename = tis.D(ic.IC_GetUniqueNamefromList(i))\n",
    "        connected_cameras.append(uniquename)\n",
    "    missing_cameras = set(list(cameras.keys())) - set(connected_cameras)\n",
    "    if len(missing_cameras) > 0:\n",
    "        print(f'Warning - cameras not connected: {missing_cameras}')\n",
    "    grabbers = {}\n",
    "    for camera in connected_cameras:\n",
    "        cam_name = camera\n",
    "        cam_num = cameras[camera]['number']\n",
    "        grabber = ic.IC_CreateGrabber()\n",
    "        grabbers[camera] = grabber\n",
    "        ic.IC_OpenDevByUniqueName(grabber, tis.T(cam_name))\n",
    "\n",
    "        userdata.devicename = f'{cam_num} ({cam_name})'\n",
    "        userdata.connected = True\n",
    "\n",
    "        ic.IC_SetCallbacks(grabber,\n",
    "                        frameReadyCallbackfunc, None,\n",
    "                        devicelostcallbackfunc, userdata)\n",
    "\n",
    "        # check the device is connected\n",
    "        if ic.IC_IsDevValid(grabber):\n",
    "            print(f'Device {cam_num} ({cam_name}) succesfully connected.')\n",
    "        else:\n",
    "            err_string = f'Camera {cam_num} ({cam_name}) did not connect - check connection and try again'\n",
    "            ic.IC_MsgBox( tis.T(err_string),tis.T(\"Connection Error\"))\n",
    "    print(f'{len(grabbers)} cameras connected.')\n",
    "    return grabbers"
   ]
  },
  {
   "attachments": {},
   "cell_type": "markdown",
   "metadata": {},
   "source": [
    "We now have a list of camera grabbers, and will recieve messages if any of these connections are lost."
   ]
  },
  {
   "cell_type": "code",
   "execution_count": null,
   "metadata": {},
   "outputs": [],
   "source": [
    "grabbers = connect_cameras(cameras)\n",
    "bad_count = 0\n",
    "while len(grabbers) == 0:\n",
    "    err_string = f'No cameras connected - check connection and try again'\n",
    "    ic.IC_MsgBox( tis.T(err_string),tis.T(\"Connection Error\"))\n",
    "    grabbers = connect_cameras(cameras)\n",
    "    bad_count +=1\n",
    "    if bad_count >= 5:\n",
    "        raise ConnectionError('No cameras connect. Abort script and try again.')\n"
   ]
  },
  {
   "attachments": {},
   "cell_type": "markdown",
   "metadata": {},
   "source": [
    "# Camera Configuration"
   ]
  },
  {
   "cell_type": "code",
   "execution_count": null,
   "metadata": {},
   "outputs": [],
   "source": [
    "for grabber in grabbers:\n",
    "    cam_num = cameras[grabber]['number']\n",
    "    print('-----------------------------------')\n",
    "    print(f'Device {cam_num}')\n",
    "    print('-----------------------------------')\n",
    "    set_defaults(grabbers[grabber])\n",
    "    print('-----------------------------------')"
   ]
  },
  {
   "attachments": {},
   "cell_type": "markdown",
   "metadata": {},
   "source": [
    "# Calibration Target Imaging\n",
    "\n",
    "- Prompt: Lens Cap removal, put calibration target in place\n",
    "- Cycle over cameras. For each camera:\n",
    "    - get optimal exposure and check ROI\n",
    "    - capture repeat images of the calibration target\n",
    "    - save the images\n",
    "    - save the exposures used"
   ]
  },
  {
   "cell_type": "markdown",
   "metadata": {},
   "source": [
    "Check:\n",
    "1. The calibration target is in place\n",
    "2. Lens cap is removed"
   ]
  },
  {
   "cell_type": "code",
   "execution_count": null,
   "metadata": {},
   "outputs": [],
   "source": [
    "ic.IC_MsgBox(tis.T('Check Calibration Target is in place'), tis.T('Imaging Calibration Target'))\n",
    "ic.IC_MsgBox(tis.T('Check Lens Caps are removed'), tis.T('Imaging Calibration Target'))"
   ]
  },
  {
   "attachments": {},
   "cell_type": "markdown",
   "metadata": {},
   "source": [
    "Get optimal exposures for the calibration target:"
   ]
  },
  {
   "cell_type": "code",
   "execution_count": null,
   "metadata": {},
   "outputs": [],
   "source": [
    "calibration_exposures = {}\n",
    "for cam_name in grabbers:\n",
    "    grabber = grabbers[cam_name]\n",
    "    camera = cameras[cam_name]\n",
    "    cam_num = camera['number']\n",
    "    print('-----------------------------------')\n",
    "    print(f'Device {cam_num}')\n",
    "    print('-----------------------------------')\n",
    "    calibration_t_exp = find_exposure(grabber, camera)\n",
    "    calibration_exposures[cam_name] = calibration_t_exp\n",
    "    print('-----------------------------------')"
   ]
  },
  {
   "attachments": {},
   "cell_type": "markdown",
   "metadata": {},
   "source": [
    "Check the images:"
   ]
  },
  {
   "cell_type": "code",
   "execution_count": null,
   "metadata": {},
   "outputs": [],
   "source": [
    "for cam_name in grabbers:\n",
    "    grabber = grabbers[cam_name]\n",
    "    camera = cameras[cam_name]\n",
    "    cam_num = camera['number']\n",
    "    print('-----------------------------------')\n",
    "    print(f'Device {cam_num}')\n",
    "    print('-----------------------------------')\n",
    "    set_property('Exposure', 'Value', calibration_exposures[cam_name], 'AbsoluteValue', grabber)\n",
    "    set_property('Exposure', 'Auto', 0, 'Switch', grabber)\n",
    "    img_arr = image_capture(grabber, camera, roi=False)\n",
    "    title = f'Device {cam_num} Calibration Check'\n",
    "    show_image(img_arr,title)\n",
    "    peak_dn = img_arr.max()\n",
    "    print(f'Peak Value: {peak_dn} DN')\n",
    "    print('-----------------------------------')"
   ]
  },
  {
   "cell_type": "code",
   "execution_count": null,
   "metadata": {},
   "outputs": [],
   "source": [
    "ic.IC_MsgBox(tis.T('Calibration Target ROIs and Exposures Ok?'), tis.T('Imaging Calibration Target'))"
   ]
  },
  {
   "attachments": {},
   "cell_type": "markdown",
   "metadata": {},
   "source": [
    "Capture the repeat images:"
   ]
  },
  {
   "cell_type": "code",
   "execution_count": null,
   "metadata": {},
   "outputs": [],
   "source": [
    "n = 10\n",
    "target = 'calibrationtest'\n",
    "img_type = 'img'\n",
    "for cam_name in grabbers:\n",
    "    grabber = grabbers[cam_name]\n",
    "    camera = cameras[cam_name]\n",
    "    cam_num = camera['number']\n",
    "    print('-----------------------------------')\n",
    "    print(f'Device {cam_num}')\n",
    "    print('-----------------------------------')\n",
    "    for i in range(n):\n",
    "        img_arr = image_capture(grabber)\n",
    "        save_tiff(str(i), target, img_type, img_arr, grabber, camera)"
   ]
  },
  {
   "attachments": {},
   "cell_type": "markdown",
   "metadata": {},
   "source": [
    "Write the exposure to file for quick read access:"
   ]
  },
  {
   "cell_type": "code",
   "execution_count": null,
   "metadata": {},
   "outputs": [],
   "source": [
    "for cam_name in grabbers:\n",
    "    cwl_str = str(int(camera['cwl']))\n",
    "    channel = str(camera['number'])+'_'+cwl_str\n",
    "    target_dir = Path(target, channel)\n",
    "    target_dir.mkdir(parents=True, exist_ok=True)\n",
    "    filename = Path(target_dir, 'exposure_seconds.txt')\n",
    "    with open(filename, 'w') as f:\n",
    "            t_exp = str(calibration_exposures[cam_name])\n",
    "            f.write(t_exp)"
   ]
  },
  {
   "attachments": {},
   "cell_type": "markdown",
   "metadata": {},
   "source": [
    "# Geometric Calibration Target Imaging\n",
    "\n",
    "- Prompt: Lens Cap removal, put geometric calibration target in place\n",
    "- Cycle over cameras. For each camera:\n",
    "    - get optimal exposure and check ROI\n",
    "    - capture repeat images of the geometric calibration target\n",
    "    - save the images\n",
    "    - save the exposures used"
   ]
  },
  {
   "attachments": {},
   "cell_type": "markdown",
   "metadata": {},
   "source": [
    "Check:\n",
    "1. The geometric calibration target is in place\n",
    "2. Lens cap is removed"
   ]
  },
  {
   "cell_type": "code",
   "execution_count": null,
   "metadata": {},
   "outputs": [],
   "source": [
    "ic.IC_MsgBox(tis.T('Check Geometric Calibration Target is in place'), tis.T('Imaging Geometric Calibration Target'))\n",
    "ic.IC_MsgBox(tis.T('Check Lens Caps are removed'), tis.T('Imaging Geometric Calibration Target'))"
   ]
  },
  {
   "cell_type": "code",
   "execution_count": null,
   "metadata": {},
   "outputs": [],
   "source": [
    "geometric_exposures = {}\n",
    "for cam_name in grabbers:\n",
    "    grabber = grabbers[cam_name]\n",
    "    camera = cameras[cam_name]\n",
    "    cam_num = camera['number']\n",
    "    print('-----------------------------------')\n",
    "    print(f'Device {cam_num}')\n",
    "    print('-----------------------------------')\n",
    "    geometric_t_exp = find_exposure(grabber, camera, roi=False)\n",
    "    geometric_exposures[cam_name] = geometric_t_exp\n",
    "    print('-----------------------------------')"
   ]
  },
  {
   "cell_type": "markdown",
   "metadata": {},
   "source": [
    "Check the images:"
   ]
  },
  {
   "cell_type": "code",
   "execution_count": null,
   "metadata": {},
   "outputs": [],
   "source": [
    "for cam_name in grabbers:\n",
    "    grabber = grabbers[cam_name]\n",
    "    camera = cameras[cam_name]\n",
    "    cam_num = camera['number']\n",
    "    print('-----------------------------------')\n",
    "    print(f'Device {cam_num}')\n",
    "    print('-----------------------------------')\n",
    "    set_property('Exposure', 'Value', geometric_exposures[cam_name], 'AbsoluteValue', grabber)\n",
    "    set_property('Exposure', 'Auto', 0, 'Switch', grabber)\n",
    "    img_arr = image_capture(grabber, camera, roi=False)\n",
    "    title = f'Device {cam_num} Geometric Calibration Check'\n",
    "    show_image(img_arr,title)\n",
    "    peak_dn = img_arr.max()\n",
    "    print(f'Peak Value: {peak_dn} DN')\n",
    "    print('-----------------------------------')"
   ]
  },
  {
   "cell_type": "code",
   "execution_count": null,
   "metadata": {},
   "outputs": [],
   "source": [
    "ic.IC_MsgBox(tis.T('Geometric Calibration Target ROIs and Exposures Ok?'), tis.T('Imaging Calibration Target'))"
   ]
  },
  {
   "cell_type": "markdown",
   "metadata": {},
   "source": [
    "Capture the repeat images:"
   ]
  },
  {
   "cell_type": "code",
   "execution_count": null,
   "metadata": {},
   "outputs": [],
   "source": [
    "n = 10\n",
    "target = 'geometrictest'\n",
    "img_type = 'img'\n",
    "for cam_name in grabbers:\n",
    "    grabber = grabbers[cam_name]\n",
    "    camera = cameras[cam_name]\n",
    "    cam_num = camera['number']\n",
    "    print('-----------------------------------')\n",
    "    print(f'Device {cam_num}')\n",
    "    print('-----------------------------------')\n",
    "    for i in range(n):\n",
    "        img_arr = image_capture(grabber)\n",
    "        save_tiff(str(i), target, img_type, img_arr, grabber, camera)"
   ]
  },
  {
   "cell_type": "markdown",
   "metadata": {},
   "source": [
    "Write the exposure to file for quick read access:"
   ]
  },
  {
   "cell_type": "code",
   "execution_count": null,
   "metadata": {},
   "outputs": [],
   "source": [
    "for cam_name in grabbers:\n",
    "    cwl_str = str(int(camera['cwl']))\n",
    "    channel = str(camera['number'])+'_'+cwl_str\n",
    "    target_dir = Path(target, channel)\n",
    "    target_dir.mkdir(parents=True, exist_ok=True)\n",
    "    filename = Path(target_dir, 'exposure_seconds.txt')\n",
    "    with open(filename, 'w') as f:\n",
    "            t_exp = str(geometric_exposures[cam_name])\n",
    "            f.write(t_exp)"
   ]
  },
  {
   "attachments": {},
   "cell_type": "markdown",
   "metadata": {},
   "source": [
    "# Sample Imaging\n",
    "\n",
    "- Prompt: Lens Cap removal, put sample in place\n",
    "- Cycle over cameras. For each camera:\n",
    "    - get optimal exposure and check ROI\n",
    "    - capture repeat images of the sample\n",
    "    - save the images\n",
    "    - save the exposures used"
   ]
  },
  {
   "attachments": {},
   "cell_type": "markdown",
   "metadata": {},
   "source": [
    "Check:\n",
    "1. The sample is in place\n",
    "2. Lens cap is removed"
   ]
  },
  {
   "cell_type": "code",
   "execution_count": null,
   "metadata": {},
   "outputs": [],
   "source": [
    "ic.IC_MsgBox(tis.T('Check Sample is in place'), tis.T('Imaging Sample'))\n",
    "ic.IC_MsgBox(tis.T('Check Lens Caps are removed'), tis.T('Imaging Sample'))"
   ]
  },
  {
   "cell_type": "code",
   "execution_count": null,
   "metadata": {},
   "outputs": [],
   "source": [
    "sample_exposures = {}\n",
    "for cam_name in grabbers:\n",
    "    grabber = grabbers[cam_name]\n",
    "    camera = cameras[cam_name]\n",
    "    cam_num = camera['number']\n",
    "    print('-----------------------------------')\n",
    "    print(f'Device {cam_num}')\n",
    "    print('-----------------------------------')\n",
    "    sample_t_exp = find_exposure(grabber, camera)\n",
    "    sample_exposures[cam_name] = sample_t_exp\n",
    "    print('-----------------------------------')"
   ]
  },
  {
   "cell_type": "markdown",
   "metadata": {},
   "source": [
    "Check the images:"
   ]
  },
  {
   "cell_type": "code",
   "execution_count": null,
   "metadata": {},
   "outputs": [],
   "source": [
    "for cam_name in grabbers:\n",
    "    grabber = grabbers[cam_name]\n",
    "    camera = cameras[cam_name]\n",
    "    cam_num = camera['number']\n",
    "    print('-----------------------------------')\n",
    "    print(f'Device {cam_num}')\n",
    "    print('-----------------------------------')\n",
    "    set_property('Exposure', 'Value', sample_exposures[cam_name], 'AbsoluteValue', grabber)\n",
    "    set_property('Exposure', 'Auto', 0, 'Switch', grabber)\n",
    "    img_arr = image_capture(grabber, camera, roi=False)\n",
    "    title = f'Device {cam_num} Sample Check'\n",
    "    show_image(img_arr,title)\n",
    "    peak_dn = img_arr.max()\n",
    "    print(f'Peak Value: {peak_dn} DN')\n",
    "    print('-----------------------------------')"
   ]
  },
  {
   "cell_type": "code",
   "execution_count": null,
   "metadata": {},
   "outputs": [],
   "source": [
    "ic.IC_MsgBox(tis.T('Sample ROIs and Exposures Ok?'), tis.T('Imaging Sample'))"
   ]
  },
  {
   "cell_type": "markdown",
   "metadata": {},
   "source": [
    "Capture the repeat images:"
   ]
  },
  {
   "cell_type": "code",
   "execution_count": null,
   "metadata": {},
   "outputs": [],
   "source": [
    "n = 10\n",
    "target = 'sampletest'\n",
    "img_type = 'img'\n",
    "for cam_name in grabbers:\n",
    "    grabber = grabbers[cam_name]\n",
    "    camera = cameras[cam_name]\n",
    "    cam_num = camera['number']\n",
    "    print('-----------------------------------')\n",
    "    print(f'Device {cam_num}')\n",
    "    print('-----------------------------------')\n",
    "    for i in range(n):\n",
    "        img_arr = image_capture(grabber)\n",
    "        save_tiff(str(i), target, img_type, img_arr, grabber, camera)"
   ]
  },
  {
   "cell_type": "markdown",
   "metadata": {},
   "source": [
    "Write the exposure to file for quick read access:"
   ]
  },
  {
   "cell_type": "code",
   "execution_count": null,
   "metadata": {},
   "outputs": [],
   "source": [
    "for cam_name in grabbers:\n",
    "    cwl_str = str(int(camera['cwl']))\n",
    "    channel = str(camera['number'])+'_'+cwl_str\n",
    "    target_dir = Path(target, channel)\n",
    "    target_dir.mkdir(parents=True, exist_ok=True)\n",
    "    filename = Path(target_dir, 'exposure_seconds.txt')\n",
    "    with open(filename, 'w') as f:\n",
    "            t_exp = str(sample_exposures[cam_name])\n",
    "            f.write(t_exp)"
   ]
  },
  {
   "attachments": {},
   "cell_type": "markdown",
   "metadata": {},
   "source": [
    "# Dark Frame Imaging\n",
    "\n",
    "Now we use the recorded exposures to capture dark frames."
   ]
  },
  {
   "cell_type": "markdown",
   "metadata": {},
   "source": [
    "Check:\n",
    "1. Lens cap is in place"
   ]
  },
  {
   "cell_type": "code",
   "execution_count": null,
   "metadata": {},
   "outputs": [],
   "source": [
    "ic.IC_MsgBox(tis.T('Check Lens Cap is in place'), tis.T('Dark Imaging'))"
   ]
  },
  {
   "attachments": {},
   "cell_type": "markdown",
   "metadata": {},
   "source": [
    "Calibration dark images:"
   ]
  },
  {
   "cell_type": "code",
   "execution_count": null,
   "metadata": {},
   "outputs": [],
   "source": [
    "n = 10\n",
    "target = 'calibrationtest'\n",
    "img_type = 'drk'\n",
    "for cam_name in grabbers:\n",
    "    grabber = grabbers[cam_name]\n",
    "    camera = cameras[cam_name]\n",
    "    cam_num = camera['number']\n",
    "    print('-----------------------------------')\n",
    "    print(f'Device {cam_num}')\n",
    "    print('-----------------------------------')\n",
    "    set_property('Exposure', 'Value', calibration_exposures[cam_name], 'AbsoluteValue', grabber)\n",
    "    set_property('Exposure', 'Auto', 0, 'Switch', grabber)\n",
    "    for i in range(n):\n",
    "        img_arr = image_capture(grabber)\n",
    "        save_tiff(str(i), target, img_type, img_arr, grabber, camera)"
   ]
  },
  {
   "cell_type": "code",
   "execution_count": null,
   "metadata": {},
   "outputs": [],
   "source": [
    "n = 10\n",
    "target = 'geometrictest'\n",
    "img_type = 'drk'\n",
    "for cam_name in grabbers:\n",
    "    grabber = grabbers[cam_name]\n",
    "    camera = cameras[cam_name]\n",
    "    cam_num = camera['number']\n",
    "    print('-----------------------------------')\n",
    "    print(f'Device {cam_num}')\n",
    "    print('-----------------------------------')\n",
    "    set_property('Exposure', 'Value', geometric_exposures[cam_name], 'AbsoluteValue', grabber)\n",
    "    set_property('Exposure', 'Auto', 0, 'Switch', grabber)\n",
    "    for i in range(n):\n",
    "        img_arr = image_capture(grabber)\n",
    "        save_tiff(str(i), target, img_type, img_arr, grabber, camera)"
   ]
  },
  {
   "attachments": {},
   "cell_type": "markdown",
   "metadata": {},
   "source": [
    "Sample Dark Images:"
   ]
  },
  {
   "cell_type": "code",
   "execution_count": null,
   "metadata": {},
   "outputs": [],
   "source": [
    "n = 10\n",
    "target = 'sampletest'\n",
    "img_type = 'drk'\n",
    "for cam_name in grabbers:\n",
    "    grabber = grabbers[cam_name]\n",
    "    camera = cameras[cam_name]\n",
    "    cam_num = camera['number']\n",
    "    print('-----------------------------------')\n",
    "    print(f'Device {cam_num}')\n",
    "    print('-----------------------------------')\n",
    "    set_property('Exposure', 'Value', sample_exposures[cam_name], 'AbsoluteValue', grabber)\n",
    "    set_property('Exposure', 'Auto', 0, 'Switch', grabber)\n",
    "    for i in range(n):\n",
    "        img_arr = image_capture(grabber)\n",
    "        save_tiff(str(i), target, img_type, img_arr, grabber, camera)"
   ]
  },
  {
   "attachments": {},
   "cell_type": "markdown",
   "metadata": {},
   "source": [
    "This completes the capture of images and dark frames for all cameras."
   ]
  },
  {
   "cell_type": "code",
   "execution_count": null,
   "metadata": {},
   "outputs": [],
   "source": [
    "ic.IC_MsgBox(tis.T('Sequence Complete. Disconnecting Cameras'), tis.T('Sequence Complete'))\n",
    "\n",
    "for cam_name in grabbers:\n",
    "    grabber = grabbers[cam_name]\n",
    "    ic.IC_ReleaseGrabber(grabber)"
   ]
  },
  {
   "attachments": {},
   "cell_type": "markdown",
   "metadata": {},
   "source": [
    "Next, we will access these images for reflectance processing."
   ]
  },
  {
   "cell_type": "markdown",
   "metadata": {},
   "source": []
  }
 ],
 "metadata": {
  "kernelspec": {
   "display_name": "orochi_sim_ctrl",
   "language": "python",
   "name": "python3"
  },
  "language_info": {
   "codemirror_mode": {
    "name": "ipython",
    "version": 3
   },
   "file_extension": ".py",
   "mimetype": "text/x-python",
   "name": "python",
   "nbconvert_exporter": "python",
   "pygments_lexer": "ipython3",
   "version": "3.10.11"
  },
  "orig_nbformat": 4
 },
 "nbformat": 4,
 "nbformat_minor": 2
}

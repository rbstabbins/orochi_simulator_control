{
 "cells": [
  {
   "attachments": {},
   "cell_type": "markdown",
   "metadata": {},
   "source": [
    "A notebook for investigating the temperamental exposure behaviour.\n",
    "\n",
    "Hypothesis is that this is a function of the frames-per-second (fps) setting, so here we will repeat a series of exposures across a range of ~0 - 5 seconds, with different FPS settings, and we will look for patterns in where the poor performance occurs."
   ]
  },
  {
   "cell_type": "code",
   "execution_count": 14,
   "metadata": {},
   "outputs": [],
   "source": [
    "%reload_ext autoreload\n",
    "%autoreload 2\n",
    "%matplotlib inline"
   ]
  },
  {
   "attachments": {},
   "cell_type": "markdown",
   "metadata": {},
   "source": [
    "# Overview\n",
    "\n",
    "- set exposures to trial\n",
    "- set FPS to trial\n",
    "- connect to cameras\n",
    "- for each FPS\n",
    "    - set FPS (for each camera)\n",
    "    - for each camera\n",
    "        - expose at each exposure\n",
    "        - plot mean and std dev. vs. exposure time, logarithmic\n",
    "        - record mean, std dev, exposure\n",
    "- for each camera, \n",
    "    - overplot mean and std dev vs exposure, for all FPS superimposed.\n",
    "\n",
    "Criteria:\n",
    "- look for a straight line relationship between mean and exposure (after read noise has been exceeded)\n",
    "- look for sections of poor performance, and look for responsible FPS setting.\n",
    "- find the lowest allowed FPS setting for each exposure range."
   ]
  },
  {
   "attachments": {},
   "cell_type": "markdown",
   "metadata": {},
   "source": [
    "# Setting the exposures\n",
    "\n",
    "Minimum exposure: 60 µs, or 6E-5 seconds\n",
    "Maximum exposure: for these purposes, set this to 5 seconds.\n",
    "Let's ensure we test each power in depth. Let's use a scaling factor of 1.15 to increase exposures each time.\n",
    "\n",
    "To get from 60 µs to 6 seconds, this requires: log(6/6E-5) / log(1.15) ~ 83 steps. This is a reasonable number of exposures to acquire.\n"
   ]
  },
  {
   "cell_type": "code",
   "execution_count": 13,
   "metadata": {},
   "outputs": [
    {
     "data": {
      "text/plain": [
       "array([6.01000000e-05, 6.85140000e-05, 7.81059600e-05, 8.90407944e-05,\n",
       "       1.01506506e-04, 1.15717416e-04, 1.31917855e-04, 1.50386354e-04,\n",
       "       1.71440444e-04, 1.95442106e-04, 2.22804001e-04, 2.53996561e-04,\n",
       "       2.89556080e-04, 3.30093931e-04, 3.76307081e-04, 4.28990073e-04,\n",
       "       4.89048683e-04, 5.57515498e-04, 6.35567668e-04, 7.24547141e-04,\n",
       "       8.25983741e-04, 9.41621465e-04, 1.07344847e-03, 1.22373126e-03,\n",
       "       1.39505363e-03, 1.59036114e-03, 1.81301170e-03, 2.06683334e-03,\n",
       "       2.35619001e-03, 2.68605661e-03, 3.06210453e-03, 3.49079917e-03,\n",
       "       3.97951105e-03, 4.53664260e-03, 5.17177256e-03, 5.89582072e-03,\n",
       "       6.72123562e-03, 7.66220860e-03, 8.73491781e-03, 9.95780630e-03,\n",
       "       1.13518992e-02, 1.29411651e-02, 1.47529282e-02, 1.68183381e-02,\n",
       "       1.91729055e-02, 2.18571122e-02, 2.49171079e-02, 2.84055030e-02,\n",
       "       3.23822735e-02, 3.69157918e-02, 4.20840026e-02, 4.79757630e-02,\n",
       "       5.46923698e-02, 6.23493016e-02, 7.10782038e-02, 8.10291523e-02,\n",
       "       9.23732336e-02, 1.05305486e-01, 1.20048254e-01, 1.36855010e-01,\n",
       "       1.56014711e-01, 1.77856771e-01, 2.02756719e-01, 2.31142660e-01,\n",
       "       2.63502632e-01, 3.00393000e-01, 3.42448021e-01, 3.90390743e-01,\n",
       "       4.45045448e-01, 5.07351810e-01, 5.78381064e-01, 6.59354412e-01,\n",
       "       7.51664030e-01, 8.56896994e-01, 9.76862574e-01, 1.11362333e+00,\n",
       "       1.26953060e+00, 1.44726488e+00, 1.64988197e+00, 1.88086544e+00,\n",
       "       2.14418661e+00, 2.44437273e+00, 2.78658491e+00, 3.17670680e+00,\n",
       "       3.62144575e+00, 4.12844816e+00, 4.70643090e+00, 5.36533123e+00,\n",
       "       6.11647760e+00, 6.97278446e+00, 7.94897429e+00, 9.06183069e+00,\n",
       "       1.03304870e+01, 1.17767552e+01, 1.34255009e+01, 1.53050710e+01])"
      ]
     },
     "execution_count": 13,
     "metadata": {},
     "output_type": "execute_result"
    }
   ],
   "source": [
    "import numpy as np\n",
    "min_exp = 6.01E-5\n",
    "max_exp = 6\n",
    "exposures = min_exp * 1.14**np.arange(0, 96)\n",
    "exposures"
   ]
  },
  {
   "attachments": {},
   "cell_type": "markdown",
   "metadata": {},
   "source": [
    "Note I've tuned this to 96 steps, with a scale factor of 1.14."
   ]
  },
  {
   "attachments": {},
   "cell_type": "markdown",
   "metadata": {},
   "source": [
    "# Connecting to cameras"
   ]
  },
  {
   "cell_type": "code",
   "execution_count": null,
   "metadata": {},
   "outputs": [],
   "source": [
    "import orochi_sim_ctrl as osc\n",
    "\n",
    "ic = osc.start_ic()\n",
    "camera_config = osc.load_camera_config()\n",
    "cameras = osc.connect_cameras(ic, camera_config)\n",
    "osc.configure_cameras(cameras)"
   ]
  },
  {
   "attachments": {},
   "cell_type": "markdown",
   "metadata": {},
   "source": [
    "# Setting FPS values to trial\n",
    "\n",
    "FPS values should be trialled of 1, 2, 3, 4, 5, 6, 7, 8, 9, 10, 12, 14, 16, 18, 20, 25, 30.\n",
    "\n",
    "However, not all of the short FPS need to be tried. Let's trials:\n",
    "1, 2, 5, 10, 16, 20 , 25, 30."
   ]
  },
  {
   "cell_type": "code",
   "execution_count": 15,
   "metadata": {},
   "outputs": [],
   "source": [
    "fpss = [1, 2, 5, 10, 16, 20, 25, 30]"
   ]
  },
  {
   "attachments": {},
   "cell_type": "markdown",
   "metadata": {},
   "source": [
    "# Running the trials"
   ]
  },
  {
   "cell_type": "code",
   "execution_count": null,
   "metadata": {},
   "outputs": [],
   "source": [
    "import pandas as pd\n",
    "\n",
    "def exposure_trials(camera, fpss, exposures) -> pd.DataFrame:    \n",
    "    # just caputre frame at each exposure, log the exposure actually used and the exposure commanded, and the mean and std dev of the resultant image.\n",
    "    fps_dat = []\n",
    "    exp_dat = []\n",
    "    exp_act = []\n",
    "    ave_dat = []\n",
    "    std_dat = []\n",
    "\n",
    "    for fps in fpss:\n",
    "        camera.set_frame_rate(fps)\n",
    "        for exposure in exposures:\n",
    "            camera.set_exposure(exposure)\n",
    "            img = camera.image_capture()\n",
    "            img_mean = np.mean(img)\n",
    "            img_std = np.std(img)\n",
    "            exposure_actual = camera.get_exposure()\n",
    "            fps_dat.append(fps)\n",
    "            exp_dat.append(exposure)\n",
    "            exp_act.append(exposure_actual)\n",
    "            ave_dat.append(img_mean)\n",
    "            std_dat.append(img_std)\n",
    "    \n",
    "    results = pd.DataFrame({'fps': fps_dat, 'exposure': exp_dat, 'exposure_actual': exp_act, 'mean': ave_dat, 'std': std_dat})\n",
    "    return results"
   ]
  },
  {
   "cell_type": "code",
   "execution_count": null,
   "metadata": {},
   "outputs": [],
   "source": [
    "import orochi_sim_proc as osp\n",
    "\n",
    "fig_exp, ax_exp = osp.grid_plot() # init the exposure grid plot\n",
    "cntr_exp = ax_exp[8] # centre plot for overlaying the exposures"
   ]
  },
  {
   "cell_type": "code",
   "execution_count": null,
   "metadata": {},
   "outputs": [],
   "source": [
    "for camera in cameras:\n",
    "    results = exposure_trials(camera, fpss, exposures)\n",
    "    num = camera.number\n",
    "    ax_exp[num].errorbar(results['exposure'], results['mean'], yerr=results['std'], fmt='o')\n",
    "    cntr_exp.errorbar(results['exposure'], results['mean'], yerr=results['std'], fmt='o', label=f'camera {num}')\n",
    "\n",
    "osp.show_grid(fig_exp, ax_exp)\n",
    "    "
   ]
  }
 ],
 "metadata": {
  "kernelspec": {
   "display_name": "orochi_sim_ctrl",
   "language": "python",
   "name": "python3"
  },
  "language_info": {
   "codemirror_mode": {
    "name": "ipython",
    "version": 3
   },
   "file_extension": ".py",
   "mimetype": "text/x-python",
   "name": "python",
   "nbconvert_exporter": "python",
   "pygments_lexer": "ipython3",
   "version": "3.10.9"
  },
  "orig_nbformat": 4
 },
 "nbformat": 4,
 "nbformat_minor": 2
}

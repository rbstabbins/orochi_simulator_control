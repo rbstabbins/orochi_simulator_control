{
 "cells": [
  {
   "attachments": {},
   "cell_type": "markdown",
   "metadata": {},
   "source": [
    "A notebook for capturing dark frames for the calibration data for the cameras of the OROCHI Simualtor of the Kameda Lab.\n",
    "\n",
    "550 nm illumination\n",
    "Apertures set to F/16\n",
    "Lamp set to 2.\n",
    "\n",
    "Eigth round of experiments after setting bias to 4 DN."
   ]
  },
  {
   "attachments": {},
   "cell_type": "markdown",
   "metadata": {},
   "source": [
    "# Process Overview\n",
    "\n",
    "This notebook controls LOROS to capture the dark frames to accompany the radiometric calibration data captured on 21/1/2024."
   ]
  },
  {
   "attachments": {},
   "cell_type": "markdown",
   "metadata": {},
   "source": [
    "# Camera Setup\n",
    "\n",
    "Here we configure and setup the camera capture objects."
   ]
  },
  {
   "cell_type": "code",
   "execution_count": null,
   "metadata": {},
   "outputs": [],
   "source": [
    "%reload_ext autoreload\n",
    "%autoreload 2\n",
    "%matplotlib inline"
   ]
  },
  {
   "cell_type": "code",
   "execution_count": null,
   "metadata": {},
   "outputs": [],
   "source": [
    "import orochi_sim_ctrl as osc\n",
    "\n",
    "ic = osc.start_ic()\n",
    "camera_config = osc.load_camera_config(cwl=550, fwhm=25, fnumber=16)\n",
    "cameras = osc.connect_cameras(ic, camera_config)\n",
    "osc.configure_cameras(cameras) # updated bias to 4 DN"
   ]
  },
  {
   "cell_type": "code",
   "execution_count": null,
   "metadata": {},
   "outputs": [],
   "source": [
    "session = 'rikkyo_radiometric_calibration_darkframes_22012024'"
   ]
  },
  {
   "cell_type": "code",
   "execution_count": null,
   "metadata": {},
   "outputs": [],
   "source": [
    "osc.set_camera_session(cameras, session)"
   ]
  },
  {
   "cell_type": "code",
   "execution_count": null,
   "metadata": {},
   "outputs": [],
   "source": [
    "from pathlib import Path\n",
    "import numpy as np\n",
    "from matplotlib import pyplot as plt\n",
    "import pandas as pd\n",
    "from time import sleep"
   ]
  },
  {
   "attachments": {},
   "cell_type": "markdown",
   "metadata": {},
   "source": [
    "# Calibration Functions\n",
    "\n",
    "Here we define simple functions for controlling the cameras during the calibration routines."
   ]
  },
  {
   "cell_type": "code",
   "execution_count": null,
   "metadata": {},
   "outputs": [],
   "source": [
    "def camera_calibration_sequence(camera: osc.Channel, scene) -> pd.DataFrame:\n",
    "    \"\"\"Capture pairs of images with increasing exposure time until all\n",
    "    pixels are saturated, then decrease exposure time until no pixels are \n",
    "    saturated.\n",
    "    \n",
    "    Args:\n",
    "        camera: Camera object to capture images from.\n",
    "    \n",
    "    Returns:\n",
    "        DataFrame with columns:\n",
    "            - exposure\n",
    "            - mean\n",
    "            - std\n",
    "    \"\"\"\n",
    "    camera.set_property('Exposure', 'Auto', 0, 'Switch')        \n",
    "    t_min = 1.0/16666 # (seconds) verify that this is the minimum exposure time\n",
    "    t_max = 5.0\n",
    "    t_exp = t_min\n",
    "    up_scale = 1.05\n",
    "    dwn_scale = 0.99\n",
    "    t_scale = up_scale\n",
    "    img_type='calibration'\n",
    "    stop = False    \n",
    "    cmd_exposures = []\n",
    "    exposures = []\n",
    "    means = []\n",
    "    stds = []\n",
    "    shots = []\n",
    "    sat_val = camera.max_dn\n",
    "    while stop is False:\n",
    "        print(f'Exposure: {t_exp:.7f} s')\n",
    "        # camera.set_property('Exposure', 'Value', t_exp, 'AbsoluteValue')\n",
    "        camera.set_exposure(t_exp)\n",
    "        img_1 = camera.image_capture(roi=True)\n",
    "        # sleep(0.5)\n",
    "        img_2 = camera.image_capture(roi=True)\n",
    "        # sleep(0.5)\n",
    "        name_1 = f'{t_exp*1E6:.0f}us_1'\n",
    "        name_2 = f'{t_exp*1E6:.0f}us_2'\n",
    "        camera.save_image(name_1, img_type, img_1)\n",
    "        camera.save_image(name_2, img_type, img_2)\n",
    "        exposures.append(camera.get_exposure_value())\n",
    "        cmd_exposures.append(t_exp)\n",
    "        mean = np.mean([np.mean(img_1), np.mean(img_2)])\n",
    "        std = np.mean([np.std(img_1), np.std(img_2)])\n",
    "        shot = np.sqrt(np.mean((img_1 - img_2)**2)/2)\n",
    "        means.append(mean)\n",
    "        stds.append(std)\n",
    "        shots.append(shot)\n",
    "        if mean >= sat_val * 0.999:\n",
    "            t_scale = dwn_scale\n",
    "        if t_scale == dwn_scale:\n",
    "            # n_sat = (np.sum(img_1 == sat_val) + np.sum(img_2 == sat_val)) / 2\n",
    "            if mean <= sat_val * 0.80:\n",
    "                stop = True\n",
    "        else:\n",
    "            if t_exp*t_scale > t_max:\n",
    "                t_scale = dwn_scale\n",
    "        t_exp = t_exp * t_scale\n",
    "\n",
    "    results = pd.DataFrame({'exposure': exposures, 'raw mean': means, 'raw standard deviation': stds, 'shot and read noise': shots, 'cmd exposure': cmd_exposures})\n",
    "    results.sort_values('exposure', inplace=True)\n",
    "\n",
    "    print(results)\n",
    "\n",
    "    cwl_str = str(int(camera.camera_props['cwl']))\n",
    "    channel = str(camera.camera_props['number'])+'_'+cwl_str\n",
    "    subject_dir = Path('..', '..', 'data', 'sessions', camera.session, camera.scene, channel)\n",
    "    subject_dir.mkdir(parents=True, exist_ok=True)\n",
    "    filename = 'exposures.csv'\n",
    "    img_file =str(Path(subject_dir, filename).with_suffix('.tif'))\n",
    "\n",
    "    results['exposure'].to_csv(f'{camera.scene}_exposures.csv', index=False)\n",
    "\n",
    "    fig, ax = plt.subplots(2,1, figsize=(5,10))\n",
    "    ax[0].plot(results['exposure'], results['raw mean'], label='Ret.')\n",
    "    ax[0].plot(results['cmd exposure'], results['raw mean'], label='Cmd.')\n",
    "    ax[0].set_xlabel('Exposure (s)')\n",
    "    ax[0].set_ylabel('Mean Pixel Value')\n",
    "    results.sort_values('raw mean', inplace=True)\n",
    "    ax[1].loglog(results['raw mean'], results['raw standard deviation'], label='Total Noise')\n",
    "    ax[1].loglog(results['raw mean'], results['shot and read noise'], label='Shot and Read Noise')\n",
    "    ax[1].set_xlabel('Mean Pixel Value')\n",
    "    ax[1].set_ylabel('Standard Deviation')\n",
    "    plt.show()\n",
    "    return cmd_exposures"
   ]
  },
  {
   "attachments": {},
   "cell_type": "markdown",
   "metadata": {},
   "source": [
    "# Dark Frame Capture"
   ]
  },
  {
   "attachments": {},
   "cell_type": "markdown",
   "metadata": {},
   "source": [
    "Output:\n",
    "- addition of dark mean frames to SCT99 directory\n",
    "- addition of dark mean frames to SCT5 directory"
   ]
  },
  {
   "cell_type": "code",
   "execution_count": null,
   "metadata": {},
   "outputs": [],
   "source": [
    "osc.set_camera_scene(cameras, 'SCT99_lamp2_dark_21012024')"
   ]
  },
  {
   "cell_type": "code",
   "execution_count": null,
   "metadata": {},
   "outputs": [],
   "source": [
    "channel2camera = {}\n",
    "\n",
    "for camera in cameras:\n",
    "    channel2camera[f\"{camera.camera_props['number']}_{camera.camera_props['cwl']}\"] = camera.name"
   ]
  },
  {
   "cell_type": "code",
   "execution_count": null,
   "metadata": {},
   "outputs": [],
   "source": [
    "channel2camera"
   ]
  },
  {
   "cell_type": "markdown",
   "metadata": {},
   "source": [
    "# find the exposure used before"
   ]
  },
  {
   "cell_type": "code",
   "execution_count": null,
   "metadata": {},
   "outputs": [],
   "source": [
    "import orochi_sim_proc as osp\n",
    "import os\n",
    "\n",
    "light_path = Path('..','..', 'data', 'sessions', 'rikkyo_radiometric_calibration_22012024', 'SCT99_lamp2_21012024')\n",
    "\n",
    "channels = sorted(list(next(os.walk(light_path))[1]))  \n",
    "lamp2_exposures = {}\n",
    "for channel in channels:  \n",
    "    frame_1s = sorted(list(Path(light_path, channel).glob('[!.]*_1_calibration.tif')))\n",
    "    n_steps = len(frame_1s)\n",
    "    exposures = []\n",
    "    for i in range(n_steps):\n",
    "        img_1 = osp.Image(light_path, None, channel, img_type='img')\n",
    "        img_1.image_load(filename=frame_1s[i].name)\n",
    "        exposures.append(float(img_1.exposure))\n",
    "    lamp2_exposures[channel2camera[channel]] = exposures"
   ]
  },
  {
   "cell_type": "code",
   "execution_count": null,
   "metadata": {},
   "outputs": [],
   "source": [
    "lamp2_exposures"
   ]
  },
  {
   "cell_type": "code",
   "execution_count": null,
   "metadata": {},
   "outputs": [],
   "source": [
    "t_min = 1.0/16666"
   ]
  },
  {
   "cell_type": "code",
   "execution_count": null,
   "metadata": {},
   "outputs": [],
   "source": [
    "for camera in cameras:\n",
    "    exposures = lamp2_exposures[camera.name]\n",
    "    for exposure in exposures:\n",
    "        if exposure < t_min:\n",
    "            exposure = t_min\n",
    "        # camera.set_property('Exposure', 'Value', exposure, 'AbsoluteValue')\n",
    "        camera.set_exposure(exposure)\n",
    "        drk = camera.image_capture(roi=True)\n",
    "        for i in range(4):\n",
    "            drk += camera.image_capture(roi=True)\n",
    "        drk_ave = drk.astype(np.float32)/5\n",
    "        name = f'{exposure*1E6:.0f}us_d'\n",
    "        camera.save_image(name, 'drk', drk_ave)"
   ]
  },
  {
   "cell_type": "code",
   "execution_count": null,
   "metadata": {},
   "outputs": [],
   "source": [
    "osc.set_camera_scene(cameras, 'SCT99_lamp10_dark_21012024')"
   ]
  },
  {
   "cell_type": "code",
   "execution_count": null,
   "metadata": {},
   "outputs": [],
   "source": [
    "import orochi_sim_proc as osp\n",
    "import os\n",
    "\n",
    "light_path = Path('..','..', 'data', 'sessions', 'rikkyo_radiometric_calibration_22012024', 'SCT99_lamp10_21012024')\n",
    "\n",
    "channels = sorted(list(next(os.walk(light_path))[1]))  \n",
    "lamp10_exposures = {}\n",
    "for channel in channels:  \n",
    "    frame_1s = sorted(list(Path(light_path, channel).glob('[!.]*_1_calibration.tif')))\n",
    "    n_steps = len(frame_1s)\n",
    "    exposures = []\n",
    "    for i in range(n_steps):\n",
    "        img_1 = osp.Image(light_path, None, channel, img_type='img')\n",
    "        img_1.image_load(filename=frame_1s[i].name)\n",
    "        exposures.append(float(img_1.exposure))\n",
    "    lamp10_exposures[channel2camera[channel]] = exposures"
   ]
  },
  {
   "cell_type": "code",
   "execution_count": null,
   "metadata": {},
   "outputs": [],
   "source": [
    "osc.set_camera_scene(cameras, 'SCT99_lamp10_dark_21012024')"
   ]
  },
  {
   "cell_type": "code",
   "execution_count": null,
   "metadata": {},
   "outputs": [],
   "source": [
    "for camera in cameras:\n",
    "    exposures = lamp10_exposures[camera.name]\n",
    "    for exposure in exposures:\n",
    "        if exposure < t_min:\n",
    "            exposure = t_min\n",
    "        # camera.set_property('Exposure', 'Value', exposure, 'AbsoluteValue')\n",
    "        camera.set_exposure(exposure)\n",
    "        drk = camera.image_capture(roi=True)\n",
    "        for i in range(4):\n",
    "            drk += camera.image_capture(roi=True)\n",
    "        drk_ave = drk.astype(np.float32)/5\n",
    "        name = f'{exposure*1E6:.0f}us_d'\n",
    "        camera.save_image(name, 'drk', drk_ave)"
   ]
  }
 ],
 "metadata": {
  "kernelspec": {
   "display_name": "orochi_sim_ctrl",
   "language": "python",
   "name": "python3"
  },
  "language_info": {
   "codemirror_mode": {
    "name": "ipython",
    "version": 3
   },
   "file_extension": ".py",
   "mimetype": "text/x-python",
   "name": "python",
   "nbconvert_exporter": "python",
   "pygments_lexer": "ipython3",
   "version": "3.10.11"
  },
  "orig_nbformat": 4
 },
 "nbformat": 4,
 "nbformat_minor": 2
}
